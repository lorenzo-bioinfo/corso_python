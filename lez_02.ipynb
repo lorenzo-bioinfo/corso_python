{
 "cells": [
  {
   "cell_type": "markdown",
   "metadata": {},
   "source": [
    "# **Cicli**\n",
    "\n",
    "Come nella stragrande maggioranza dei linguaggi di programmazione, in python troviamo due tipi di loop: i cicli **for** e i cicli **while**:\n",
    "\n",
    "- Il ciclo **while** viene ripetuto finché una condizione non smette di essere vera;\n",
    "- Il ciclo **for** viene eseguito un certo numero di volte, ma viene utilizzato principalmente per 'scorrere' gli elementi di una lista (vedremo poi)"
   ]
  },
  {
   "cell_type": "markdown",
   "metadata": {},
   "source": [
    "## Il ciclo while\n",
    "\n",
    "La sintassi del ciclo while è perlopiù come ce la si aspetta:\n",
    "\n",
    "`while condizione:\n",
    "    codice`\n",
    "    \n",
    "Finché la condizione viene valutata come **True**, il blocco di codice nel corpo del while verrà ri-eseguito.\n",
    "Quindi è necessario che il codice modifichi in qualche modo la variabile alla quale la condizione fa riferimento, o il ciclo non terminerà mai. Ovviamente esistono delle eccezioni, in cui il ciclo while viene interrotto all'interno del suo blocco di codice con l'istruzione **break**."
   ]
  },
  {
   "cell_type": "code",
   "execution_count": null,
   "metadata": {},
   "outputs": [],
   "source": [
    "#Stampo i numeri da 0 a 10\n",
    "\n",
    "i = 0 #inizializzo il contatore\n",
    "\n",
    "while i < 11:\n",
    "    print(i)\n",
    "    i += 1 #incremento il contatore"
   ]
  },
  {
   "cell_type": "code",
   "execution_count": 1,
   "metadata": {},
   "outputs": [
    {
     "name": "stdout",
     "output_type": "stream",
     "text": [
      "0\n",
      "1\n",
      "2\n",
      "3\n",
      "4\n",
      "5\n",
      "6\n",
      "7\n",
      "8\n",
      "9\n",
      "10\n"
     ]
    }
   ],
   "source": [
    "#Stessa cosa, ma interrompendo il ciclo con break\n",
    "\n",
    "i = 0\n",
    "\n",
    "while True:\n",
    "    print(i)\n",
    "    i += 1\n",
    "    if i > 10:\n",
    "        break"
   ]
  },
  {
   "cell_type": "markdown",
   "metadata": {},
   "source": [
    "Ovviamente in un caso così semplice è decisamente preferibile definire una condizione chiara subito dopo while, senza ricorrere all'istruzione break. Tuttavia possono presentarsi casi in cui il suo utilizzo è necessario."
   ]
  },
  {
   "cell_type": "markdown",
   "metadata": {},
   "source": [
    "## Il ciclo for\n",
    "\n",
    "Il ciclo for viene spesso usato in coppia con la funzione **range()**, quindi prima di descrivere il ciclo, vediamo cosa fa la funzione:"
   ]
  },
  {
   "cell_type": "code",
   "execution_count": 2,
   "metadata": {},
   "outputs": [
    {
     "name": "stdout",
     "output_type": "stream",
     "text": [
      "range(0, 10) <class 'range'>\n"
     ]
    }
   ],
   "source": [
    "intervallo = range(0, 10)\n",
    "print(intervallo, type(intervallo))"
   ]
  },
  {
   "cell_type": "markdown",
   "metadata": {},
   "source": [
    "Questa funzione ritorna un oggetto della classe *range*, e per ora basti sapere che questo oggetto è un **iterabile** che contiene i numeri da 0 a 9. L'intervallo inferiore è compreso, quello superiore no.\n",
    "\n",
    "Il ciclo for in python serve per scorrere un iterabile. Gli iterabili comprendono le liste (vettori), le tuple, i dizionari e altri tipi di variabile che vedremo più avanti.\n",
    "\n",
    "Quindi, dato che la nostra funzione *range()* ritorna un iterabile, possiamo \"*scorrerla*\" con un ciclo for:"
   ]
  },
  {
   "cell_type": "code",
   "execution_count": 8,
   "metadata": {},
   "outputs": [
    {
     "name": "stdout",
     "output_type": "stream",
     "text": [
      "0\n",
      "1\n",
      "2\n",
      "3\n",
      "4\n",
      "5\n",
      "6\n",
      "7\n",
      "8\n",
      "9\n"
     ]
    }
   ],
   "source": [
    "for pippo in range(0, 10):\n",
    "    print(pippo)"
   ]
  },
  {
   "cell_type": "code",
   "execution_count": null,
   "metadata": {},
   "outputs": [],
   "source": []
  },
  {
   "cell_type": "markdown",
   "metadata": {},
   "source": [
    "La sintassi generale del *for* è quella rappresentata nel codice sopra, ossia:\n",
    "\n",
    "`for indice in iterabile:\n",
    "    codice(valore dell'indice)`\n",
    "    \n",
    "La funzione range funziona anche con un solo parametro: in quel caso il parametro indicherà **l'estremo superiore** dell'intervallo:"
   ]
  },
  {
   "cell_type": "code",
   "execution_count": 9,
   "metadata": {},
   "outputs": [
    {
     "name": "stdout",
     "output_type": "stream",
     "text": [
      "0\n",
      "1\n",
      "2\n",
      "3\n",
      "4\n"
     ]
    }
   ],
   "source": [
    "for i in range(5):\n",
    "    print(i)"
   ]
  },
  {
   "cell_type": "markdown",
   "metadata": {},
   "source": [
    "E in aggiunta, può anche prendere 3 parametri, tali che:\n",
    "- Il primo parametro sarà l'estremo inferiore;\n",
    "- Il secondo parametro sarà l'estremo superiore;\n",
    "- Il terzo parametro sarà il passo, o l'incremento, del range\n",
    "\n",
    "Cerchiamo di chiarire questo aspetto con un esempio:"
   ]
  },
  {
   "cell_type": "code",
   "execution_count": 10,
   "metadata": {},
   "outputs": [
    {
     "name": "stdout",
     "output_type": "stream",
     "text": [
      "0\n",
      "2\n",
      "4\n",
      "6\n",
      "8\n",
      "10\n"
     ]
    }
   ],
   "source": [
    "for i in range(0, 11, 2):\n",
    "    print(i)"
   ]
  },
  {
   "cell_type": "markdown",
   "metadata": {},
   "source": [
    "Quindi ad ogni passaggio del ciclo, il contatore viene incrementato del valore del passo.\n",
    "È anche possibile definire un passo negativo, procedendo quindi al contrario, purché estremo superiore ed inferiore siano invertiti:"
   ]
  },
  {
   "cell_type": "code",
   "execution_count": 16,
   "metadata": {},
   "outputs": [
    {
     "name": "stdout",
     "output_type": "stream",
     "text": [
      "10\n",
      "8\n",
      "6\n",
      "4\n",
      "2\n",
      "0\n"
     ]
    }
   ],
   "source": [
    "for i in range(10, -1, -2):\n",
    "    print(i)"
   ]
  },
  {
   "cell_type": "markdown",
   "metadata": {},
   "source": [
    "Per chiudere, dimentichiamoci per un attimo di non aver parlato di liste, definiamone una, e utilizziamo il ciclo for per scorrere i suoi elementi:"
   ]
  },
  {
   "cell_type": "code",
   "execution_count": 21,
   "metadata": {},
   "outputs": [
    {
     "name": "stdout",
     "output_type": "stream",
     "text": [
      "Toporagno\n",
      "Gatto\n",
      "Cane\n"
     ]
    }
   ],
   "source": [
    "lista_animali = ['Cane', 'Gatto', 'Toporagno']\n",
    "\n",
    "for bestia in lista_animali:\n",
    "    print(bestia)"
   ]
  },
  {
   "cell_type": "markdown",
   "metadata": {},
   "source": [
    "Ora passiamo ad un semplice esercizio che ci porterà ad utilizzare i loop e introdurrà il nostro primo **import**.\n",
    "La keyword **import** è utilizzata per caricare del codice python presente in un altro file.\n",
    "\n",
    "Generalmente questo significa importare una libreria o un modulo *famosi*, come pandas o numpy o scipy, ma viene anche utilizzata per importare file scritti da noi.\n",
    "\n",
    "Nel seguente esempio lanceremo due dadi, forniremo all'utente il risultato ottenuto sommando i loro punteggi, chiederemo all'utente se vuole giocare ancora e in caso affermativo ripeteremo l'operazione.\n",
    "\n",
    "Per calcolare il punteggio del singolo dado utilizzeremo la funzione **randint()** contenuta nel modulo **random**:"
   ]
  },
  {
   "cell_type": "code",
   "execution_count": 23,
   "metadata": {},
   "outputs": [
    {
     "name": "stdout",
     "output_type": "stream",
     "text": [
      "Lancio il primo dado....\n",
      "Lancio il secondo dado...\n",
      "Il risultato è 2 + 5 = 7\n"
     ]
    },
    {
     "name": "stdin",
     "output_type": "stream",
     "text": [
      "Vuoi giocare ancora? [si/no] no\n"
     ]
    },
    {
     "name": "stdout",
     "output_type": "stream",
     "text": [
      "Alla prossima!\n"
     ]
    }
   ],
   "source": [
    "import random\n",
    "\n",
    "continuare = 'si'\n",
    "\n",
    "while continuare == 'si':\n",
    "    print('Lancio il primo dado....')\n",
    "    d1 = random.randint(1, 6)\n",
    "    print('Lancio il secondo dado...')\n",
    "    d2 = random.randint(1, 6)\n",
    "    print('Il risultato è {} + {} = {}'.format(d1, d2, d1 + d2))\n",
    "    continuare = input('Vuoi giocare ancora? [si/no]')\n",
    "print('Alla prossima!')"
   ]
  },
  {
   "cell_type": "markdown",
   "metadata": {},
   "source": [
    "## **Esercizi**\n",
    "\n",
    "1. Lanciare due dadi finché entrambi non danno 6 contemporaneamente, stampare il numero di tentativi impiegati;\n",
    "2. Stampare tutti i numeri primi compresi tra 0 e un numero intero n;\n",
    "3. Calcolare il fattoriale di un numero prima con il ciclo while e poi con il ciclo for;\n",
    "4. Lanciare un dado 1000 volte e contare quante volte esce ciascun valore.\n",
    "\n",
    "## **Soluzioni**\n",
    "..\n",
    "\n",
    "..\n",
    "\n",
    "\n",
    "..\n",
    "\n",
    "..\n",
    "\n",
    "..\n",
    "\n",
    "..\n",
    "\n",
    "..\n",
    "\n",
    "..\n",
    "\n",
    "..\n",
    "\n",
    "..\n",
    "\n",
    "..\n",
    "\n",
    "..\n",
    "\n",
    "## Esercizio 1"
   ]
  },
  {
   "cell_type": "code",
   "execution_count": 31,
   "metadata": {},
   "outputs": [
    {
     "name": "stdout",
     "output_type": "stream",
     "text": [
      "tentativi necessari:  22\n"
     ]
    }
   ],
   "source": [
    "from random import randint\n",
    "\n",
    "tentativi = 0\n",
    "\n",
    "while True:\n",
    "    d1 = randint(1, 6)\n",
    "    d2 = randint(1, 6)\n",
    "    if d1 == 6 and d2 == 6:\n",
    "        print('tentativi necessari: ', tentativi)\n",
    "        break\n",
    "    tentativi += 1"
   ]
  },
  {
   "cell_type": "markdown",
   "metadata": {},
   "source": [
    "## Esercizio 2"
   ]
  },
  {
   "cell_type": "code",
   "execution_count": 34,
   "metadata": {},
   "outputs": [
    {
     "name": "stdout",
     "output_type": "stream",
     "text": [
      "97\n",
      "89\n",
      "83\n",
      "79\n",
      "73\n",
      "71\n",
      "67\n",
      "61\n",
      "59\n",
      "53\n",
      "47\n",
      "43\n",
      "41\n",
      "37\n",
      "31\n",
      "29\n",
      "23\n",
      "19\n",
      "17\n",
      "13\n",
      "11\n",
      "7\n",
      "5\n",
      "3\n",
      "2\n"
     ]
    }
   ],
   "source": [
    "n = 100\n",
    "\n",
    "for i in range(n, 1, -1):\n",
    "    primo = True\n",
    "    for j in range(2, i):\n",
    "        if i % j == 0:\n",
    "            primo = False\n",
    "    if primo:\n",
    "        print(i)"
   ]
  },
  {
   "cell_type": "markdown",
   "metadata": {},
   "source": [
    "## Esercizio 3 - While"
   ]
  },
  {
   "cell_type": "code",
   "execution_count": 36,
   "metadata": {},
   "outputs": [
    {
     "name": "stdout",
     "output_type": "stream",
     "text": [
      "362880\n"
     ]
    }
   ],
   "source": [
    "n = 9\n",
    "fattoriale = 1\n",
    "while n > 1:\n",
    "    fattoriale *= n\n",
    "    n -= 1\n",
    "print(fattoriale)"
   ]
  },
  {
   "cell_type": "markdown",
   "metadata": {},
   "source": [
    "## Esercizio 3 - For"
   ]
  },
  {
   "cell_type": "code",
   "execution_count": 38,
   "metadata": {},
   "outputs": [
    {
     "name": "stdout",
     "output_type": "stream",
     "text": [
      "362880\n"
     ]
    }
   ],
   "source": [
    "n = 9\n",
    "\n",
    "for i in range(1, n):\n",
    "    n *= i\n",
    "print(n)"
   ]
  },
  {
   "cell_type": "markdown",
   "metadata": {},
   "source": [
    "## Esercizio 4"
   ]
  },
  {
   "cell_type": "code",
   "execution_count": null,
   "metadata": {},
   "outputs": [],
   "source": [
    "from random import randint\n",
    "\n",
    "x1 = 0\n",
    "x2 = 0\n",
    "x3 = 0\n",
    "x4 = 0\n",
    "x5 = 0\n",
    "x6 = 0\n",
    "\n",
    "for i in range(1000):\n",
    "    x = randint(1, 6)\n",
    "    for i in range()"
   ]
  }
 ],
 "metadata": {
  "kernelspec": {
   "display_name": "Python 3",
   "language": "python",
   "name": "python3"
  },
  "language_info": {
   "codemirror_mode": {
    "name": "ipython",
    "version": 3
   },
   "file_extension": ".py",
   "mimetype": "text/x-python",
   "name": "python",
   "nbconvert_exporter": "python",
   "pygments_lexer": "ipython3",
   "version": "3.8.5"
  }
 },
 "nbformat": 4,
 "nbformat_minor": 4
}
