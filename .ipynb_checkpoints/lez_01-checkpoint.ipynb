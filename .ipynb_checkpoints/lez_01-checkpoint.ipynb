{
 "cells": [
  {
   "cell_type": "markdown",
   "metadata": {},
   "source": [
    "# **Variabili numeriche ed espressioni condizionali**"
   ]
  },
  {
   "cell_type": "markdown",
   "metadata": {},
   "source": [
    "Nella lezione precedente abbiamo parlato di variabili ed abbiamo approfondito le stringhe.\n",
    "\n",
    "In questa lezione vedremo le variabili numeriche e poi passeremo alle variabili booleane per introdurre le espressioni condizionali. Contestualmente vedremo come definire i blocchi di codice in python."
   ]
  },
  {
   "cell_type": "markdown",
   "metadata": {},
   "source": [
    "## *Variabili numeriche*\n",
    "### Numeri interi e float\n",
    "\n",
    "In python troviamo due tipi di variabili numeriche:\n",
    "- Numeri interi (class Int)\n",
    "- Numeri a virgola mobile (class Float)\n",
    "\n",
    "I due tipi di variabile si definiscono banalmente come segue:"
   ]
  },
  {
   "cell_type": "code",
   "execution_count": 1,
   "metadata": {},
   "outputs": [
    {
     "name": "stdout",
     "output_type": "stream",
     "text": [
      "<class 'int'> <class 'float'>\n"
     ]
    }
   ],
   "source": [
    "x = 1\n",
    "y = 2\n",
    "a = 1.3\n",
    "b = 12.5\n",
    "\n",
    "print(type(x), type(a))"
   ]
  },
  {
   "cell_type": "markdown",
   "metadata": {},
   "source": [
    "Le operazioni elementari sono definite con i soliti operatori:"
   ]
  },
  {
   "cell_type": "code",
   "execution_count": 2,
   "metadata": {},
   "outputs": [
    {
     "name": "stdout",
     "output_type": "stream",
     "text": [
      "somma:  3\n",
      "differenza:  -1\n",
      "prodotto:  2\n",
      "divisione:  9.615384615384615\n",
      "divisione senza resto:  9.0\n",
      "elevamento a potenza:  4\n",
      "modulo (resto divisione) 0.7\n"
     ]
    }
   ],
   "source": [
    "print('somma: ', (x + y))\n",
    "print('differenza: ', (x - y))\n",
    "print('prodotto: ', (x * y))\n",
    "print('divisione: ', (b / a))\n",
    "print('divisione senza resto: ', (b // a))\n",
    "print('elevamento a potenza: ', (y ** 2))\n",
    "print('modulo (resto divisione)', (y % 1.3))"
   ]
  },
  {
   "cell_type": "markdown",
   "metadata": {},
   "source": [
    "### Conversione da stringhe a numeri\n",
    "\n",
    "È possibile convertire una stringa in una variabile numerica, a patto che questa contenga dei valori numerici, con le funzioni *int()* e *float()*"
   ]
  },
  {
   "cell_type": "code",
   "execution_count": 4,
   "metadata": {},
   "outputs": [
    {
     "name": "stdout",
     "output_type": "stream",
     "text": [
      "43 <class 'str'>\n",
      "43 <class 'int'>\n",
      "60\n"
     ]
    }
   ],
   "source": [
    "stringa = '43'\n",
    "print(stringa, type(stringa))\n",
    "numero = int(stringa)\n",
    "print(numero, type(numero))\n",
    "print(17 + int(stringa))"
   ]
  },
  {
   "cell_type": "code",
   "execution_count": 8,
   "metadata": {},
   "outputs": [
    {
     "name": "stdout",
     "output_type": "stream",
     "text": [
      "43.0\n",
      "43.0\n"
     ]
    }
   ],
   "source": [
    "stringa = '43'\n",
    "print(float(stringa))"
   ]
  },
  {
   "cell_type": "markdown",
   "metadata": {},
   "source": [
    "## Variabili Booleane e variabile None\n",
    "### Variabili Booleane\n",
    "\n",
    "Una variabile Booleana può assumere solo due valori: **True** o **False**.\n",
    "Sono generalmente il prodotto di un confronto tra due variabili.\n",
    "Gli operatori di confronto sono gli stessi che si trovano in matematica e negli altri linguaggi di programmazione:\n",
    "\n",
    "- Uguale: **==**\n",
    "- Maggiore: **>**\n",
    "- Minore: **<**\n",
    "- Minore o uguale / Maggiore o uguale: **<=** / **>=**"
   ]
  },
  {
   "cell_type": "code",
   "execution_count": 2,
   "metadata": {},
   "outputs": [
    {
     "name": "stdout",
     "output_type": "stream",
     "text": [
      "True\n",
      "False\n",
      "True\n"
     ]
    }
   ],
   "source": [
    "a = 1\n",
    "b = 2\n",
    "c = 1\n",
    "\n",
    "print(b > a)\n",
    "print(a > b)\n",
    "print(a == c)"
   ]
  },
  {
   "cell_type": "markdown",
   "metadata": {},
   "source": [
    "Le operazioni di confronto possono essere combinate utilizzando gli operatori logici **and**, **or**, e **not**"
   ]
  },
  {
   "cell_type": "code",
   "execution_count": 4,
   "metadata": {},
   "outputs": [
    {
     "name": "stdout",
     "output_type": "stream",
     "text": [
      "True\n",
      "False\n",
      "True\n"
     ]
    }
   ],
   "source": [
    "print((a > b) or (c == a)) #True se una delle due condizioni è soddisfatta\n",
    "print((a > b) and (c == a)) #True solo se entrambe le condizioni sono soddisfatte\n",
    "print(not a > b) # True solo se la condizione NON è soddisfatta"
   ]
  },
  {
   "cell_type": "markdown",
   "metadata": {},
   "source": [
    "E osserviamo anche come sia possibile **sommare** le variabili Booleane. I **True** verranno infatti interpretati come **1**, i **False** come **0**"
   ]
  },
  {
   "cell_type": "code",
   "execution_count": 11,
   "metadata": {},
   "outputs": [
    {
     "name": "stdout",
     "output_type": "stream",
     "text": [
      "1 0\n",
      "2\n",
      "3\n"
     ]
    }
   ],
   "source": [
    "print(int(True), int(False))\n",
    "print(True + True)\n",
    "print(True + True + False + True)"
   ]
  },
  {
   "cell_type": "markdown",
   "metadata": {},
   "source": [
    "Per finire, introduciamo la variabile **None**, ossia il valore nullo in python.\n",
    "\n",
    "Questa non viene quasi mai assegnata esplicitamente ad una variabile, tuttavia può essere ritornata da alcune funzioni in particolari situazioni.\n",
    "\n",
    "Ad esempio, supponiamo di voler scrivere una funzione che cerchi un k-mero in una sequenza nucleotidica: nel caso in cui non lo trovasse potremmo farci ritornare **None** dalla funzione."
   ]
  },
  {
   "cell_type": "code",
   "execution_count": 10,
   "metadata": {},
   "outputs": [
    {
     "name": "stdout",
     "output_type": "stream",
     "text": [
      "None\n"
     ]
    }
   ],
   "source": [
    "a = None\n",
    "print(a)"
   ]
  },
  {
   "cell_type": "code",
   "execution_count": null,
   "metadata": {},
   "outputs": [],
   "source": []
  }
 ],
 "metadata": {
  "kernelspec": {
   "display_name": "Python 3",
   "language": "python",
   "name": "python3"
  },
  "language_info": {
   "codemirror_mode": {
    "name": "ipython",
    "version": 3
   },
   "file_extension": ".py",
   "mimetype": "text/x-python",
   "name": "python",
   "nbconvert_exporter": "python",
   "pygments_lexer": "ipython3",
   "version": "3.8.5"
  }
 },
 "nbformat": 4,
 "nbformat_minor": 4
}
