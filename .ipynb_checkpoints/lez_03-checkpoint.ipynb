{
 "cells": [
  {
   "cell_type": "markdown",
   "metadata": {},
   "source": [
    "# **Collezioni**\n",
    "\n",
    "Le collezioni comprendono diversi tipi di variabili che ci permettono di lavorare con insiemi di valori.\n",
    "L'esempio più banale sono i vettori, che in python prendono il nome di liste, ma troviamo anche tuple, insiemi e dizionari.\n",
    "\n",
    "Passeremo in rassegna i diversi tipi di variabili *collezione*, iniziando dalle tuple.\n",
    "\n",
    "## **Tuple**\n",
    "\n",
    "Le **tuple** sono collezioni di dati definite attraverso le parentesi tonde '**( )**'\n",
    "Qui vediamo una semplice tupla:"
   ]
  },
  {
   "cell_type": "code",
   "execution_count": 7,
   "metadata": {},
   "outputs": [
    {
     "name": "stdout",
     "output_type": "stream",
     "text": [
      "(1, 2, 7.4, 'gatto', (1, 2, 3), True)\n",
      "1\n",
      "<class 'int'> <class 'bool'>\n"
     ]
    }
   ],
   "source": [
    "tup = (1, 2, 7.4, 'gatto', (1, 2, 3), 4 > 2)\n",
    "print(tup)\n",
    "print(tup[0])\n",
    "print(type(tup[0]), type(tup[5]))"
   ]
  },
  {
   "cell_type": "markdown",
   "metadata": {},
   "source": [
    "Dal codice qui sopra possiamo fare alcune considerazioni iniziali sulle tuple:\n",
    "- Possono contenere tipi di variabili diversi;\n",
    "- Possono essere stampate;\n",
    "- Si può accedere sequenzialmente ai singoli elementi con indici tra parentesi quadre\n",
    "\n",
    "In questo sono molto simili ai vettori, ma la loro particolarità è quella di essere (come le stringhe) **immutabili**.\n",
    "Questo significa che non posso modificare una tupla una volta che è stata definita.\n",
    "\n",
    "In che misura questo è utile? È utile se vogliamo una collezione di dati che non deve essere modificata per nessun motivo, ad esempio da una funzione o manualmente, e utilizzando una tupla possiamo evitare che questa sia modificata accidentalmente:"
   ]
  },
  {
   "cell_type": "code",
   "execution_count": 5,
   "metadata": {},
   "outputs": [
    {
     "ename": "TypeError",
     "evalue": "'tuple' object does not support item assignment",
     "output_type": "error",
     "traceback": [
      "\u001b[0;31m---------------------------------------------------------------------------\u001b[0m",
      "\u001b[0;31mTypeError\u001b[0m                                 Traceback (most recent call last)",
      "\u001b[0;32m<ipython-input-5-1d5015274d34>\u001b[0m in \u001b[0;36m<module>\u001b[0;34m\u001b[0m\n\u001b[0;32m----> 1\u001b[0;31m \u001b[0mtup\u001b[0m\u001b[0;34m[\u001b[0m\u001b[0;36m2\u001b[0m\u001b[0;34m]\u001b[0m \u001b[0;34m=\u001b[0m \u001b[0;34m'Miao'\u001b[0m\u001b[0;34m\u001b[0m\u001b[0;34m\u001b[0m\u001b[0m\n\u001b[0m",
      "\u001b[0;31mTypeError\u001b[0m: 'tuple' object does not support item assignment"
     ]
    }
   ],
   "source": [
    "tup[2] = 'Miao' "
   ]
  },
  {
   "cell_type": "markdown",
   "metadata": {},
   "source": [
    "Le tuple sono **iterabili**, questo significa che possiamo *scorrerle* con un ciclo for.\n",
    "In alternativa, utilizzando sempre il ciclo for con la funzione *range()*, possiamo scorrere gli elementi della tupla accedendo con gli indici. I due esempi sono riportati qui sotto:"
   ]
  },
  {
   "cell_type": "code",
   "execution_count": 8,
   "metadata": {},
   "outputs": [
    {
     "name": "stdout",
     "output_type": "stream",
     "text": [
      "1 <class 'int'>\n",
      "2 <class 'int'>\n",
      "7.4 <class 'float'>\n",
      "gatto <class 'str'>\n",
      "(1, 2, 3) <class 'tuple'>\n",
      "True <class 'bool'>\n"
     ]
    }
   ],
   "source": [
    "for element in tup:\n",
    "    print(element, type(element))"
   ]
  },
  {
   "cell_type": "code",
   "execution_count": 10,
   "metadata": {},
   "outputs": [
    {
     "name": "stdout",
     "output_type": "stream",
     "text": [
      "1 <class 'bool'>\n",
      "2 <class 'bool'>\n",
      "7.4 <class 'bool'>\n",
      "gatto <class 'bool'>\n",
      "(1, 2, 3) <class 'bool'>\n",
      "True <class 'bool'>\n"
     ]
    }
   ],
   "source": [
    "for i in range(0, len(tup)):\n",
    "    print(tup[i], type(element))"
   ]
  },
  {
   "cell_type": "markdown",
   "metadata": {},
   "source": [
    "Come vediamo, i due diversi metodi producono lo stesso risultato, tuttavia per compattezza il primo è sicuramente migliore.\n",
    "\n",
    "> **NOTA**: Inoltre il primo metodo, per varie ragioni, è anche più veloce ed efficiente in termini di esecuzione.\n",
    "\n",
    "Infine, possiamo trasformare un altra variabile collezione (come una lista) in una tupla, usando la funzione **tuple()**:"
   ]
  },
  {
   "cell_type": "code",
   "execution_count": 12,
   "metadata": {},
   "outputs": [
    {
     "name": "stdout",
     "output_type": "stream",
     "text": [
      "[1, 2, 3, 4] <class 'list'>\n",
      "(1, 2, 3, 4) <class 'tuple'>\n"
     ]
    }
   ],
   "source": [
    "lista = [1, 2, 3, 4]\n",
    "print(lista, type(lista))\n",
    "tupla = tuple(lista)\n",
    "print(tupla, type(tupla))"
   ]
  },
  {
   "cell_type": "markdown",
   "metadata": {},
   "source": [
    "## **Liste**\n",
    "\n",
    "Le liste sono **vettori**. Come le tuple sono collezioni di elementi, con la differenza che le liste sono **modificabili**.\n",
    "Sono delimitate da parentesi quadre **[ ]** e come le tuple possono contenere variabili di tipo diverso. "
   ]
  },
  {
   "cell_type": "code",
   "execution_count": 13,
   "metadata": {},
   "outputs": [
    {
     "name": "stdout",
     "output_type": "stream",
     "text": [
      "1 <class 'int'>\n",
      "5.72 <class 'float'>\n",
      "pippo <class 'str'>\n",
      "(1, 2, 3) <class 'tuple'>\n"
     ]
    }
   ],
   "source": [
    "lista = [1, 5.72, 'pippo', (1, 2, 3)]\n",
    "for element in lista:\n",
    "    print(element, type(element))"
   ]
  },
  {
   "cell_type": "markdown",
   "metadata": {},
   "source": [
    "Anche le liste sono **iterabili**, e come le tuple possiamo scorrere i loro elementi con un ciclo for.\n",
    "\n",
    "Possiamo accedere sequenzialmente agli elementi di una lista con gli indici interi:"
   ]
  },
  {
   "cell_type": "code",
   "execution_count": 15,
   "metadata": {},
   "outputs": [
    {
     "name": "stdout",
     "output_type": "stream",
     "text": [
      "1\n",
      "(1, 2, 3)\n",
      "1\n",
      "5.72\n",
      "pippo\n",
      "(1, 2, 3)\n"
     ]
    }
   ],
   "source": [
    "print(lista[0])\n",
    "print(lista[len(lista) - 1])\n",
    "\n",
    "for i in range(0, len(lista)):\n",
    "    print(lista[i])"
   ]
  },
  {
   "cell_type": "markdown",
   "metadata": {},
   "source": [
    "### Aggiungere elementi ad una lista\n",
    "\n",
    "Essendo una lista modificabile, possiamo eseguire delle operazioni che modifichino i suoi elementi, o che aggiungano o rimuovano elementi da essa.\n",
    "\n",
    "Di seguito alcuni metodi per aggiungere elementi ad una lista:\n",
    "\n",
    "- *list.append(elemento)* : Aggiunge un elemento in fondo alla lista\n",
    "- *list.extend(lista)* : Aggiunge tutti gli elementi di un parametro lista in fondo alla lista\n",
    "- *list.insert(indice, elemento)* : Aggiunge un elemento nella posizione specificata come argomento"
   ]
  },
  {
   "cell_type": "code",
   "execution_count": 24,
   "metadata": {},
   "outputs": [
    {
     "name": "stdout",
     "output_type": "stream",
     "text": [
      "['Lady Gaga', 'Rihanna']\n",
      "Adding Ariana with append():\n",
      "['Lady Gaga', 'Rihanna', 'Ariana Grande']\n",
      "Adding some people with extend():\n",
      "['Lady Gaga', 'Rihanna', 'Ariana Grande', 'Beyoncé', 'Giorgio Mastrota']\n",
      "Adding a pop star in first position with insert():\n",
      "['Cardi B', 'Lady Gaga', 'Rihanna', 'Ariana Grande', 'Beyoncé', 'Giorgio Mastrota']\n"
     ]
    }
   ],
   "source": [
    "pop_stars = ['Lady Gaga', 'Rihanna']\n",
    "print(pop_stars)\n",
    "print('Adding Ariana with append():')\n",
    "pop_stars.append('Ariana Grande')\n",
    "print(pop_stars)\n",
    "print('Adding some people with extend():')\n",
    "more_pop_stars = ['Beyoncé', 'Giorgio Mastrota']\n",
    "pop_stars.extend(more_pop_stars)\n",
    "print(pop_stars)\n",
    "print('Adding a pop star in first position with insert():')\n",
    "pop_stars.insert(0, 'Cardi B')\n",
    "print(pop_stars)"
   ]
  },
  {
   "cell_type": "markdown",
   "metadata": {},
   "source": [
    "### Rimuvoere elementi da una lista\n",
    "\n",
    "Vediamo due dei metodi che ci permettono di rimuovere degli elementi da una lista:\n",
    "\n",
    "- *list.pop()* : Rimuove l'ultimo elemento di una lista\n",
    "- *list.pop(indice)* : Rimuove l'elemento della lista nella posizione specificata\n",
    "- *list.remove(elemento)* : Rimuove la prima occorrenza dell'elemento indicato\n",
    "\n",
    "list.pop() ritorna l'elemento rimosso, mentre remove() non ritorna nulla"
   ]
  },
  {
   "cell_type": "code",
   "execution_count": 25,
   "metadata": {},
   "outputs": [
    {
     "name": "stdout",
     "output_type": "stream",
     "text": [
      "Removed element:  Giorgio Mastrota\n",
      "['Cardi B', 'Lady Gaga', 'Rihanna', 'Ariana Grande', 'Beyoncé']\n",
      "Removed element in position 4:  Ariana Grande\n",
      "['Cardi B', 'Lady Gaga', 'Rihanna', 'Beyoncé']\n",
      "Removing Lady Gaga :(\n",
      "['Cardi B', 'Rihanna', 'Beyoncé']\n"
     ]
    }
   ],
   "source": [
    "rimosso = pop_stars.pop()\n",
    "print('Removed element: ', rimosso)\n",
    "print(pop_stars)\n",
    "rimosso2 = pop_stars.pop(3)\n",
    "print('Removed element in position 4: ', rimosso2)\n",
    "print(pop_stars)\n",
    "print('Removing Lady Gaga :(')\n",
    "pop_stars.remove('Lady Gaga')\n",
    "print(pop_stars)"
   ]
  },
  {
   "cell_type": "markdown",
   "metadata": {},
   "source": [
    "### **list()** e **List Comprehension**\n",
    "\n",
    "Oltre alla definizione \"manuale\", possiamo ottenere una lista trasformando un altro iterabile (come una tupla), oppure possiamo usare una feature di python nota come ***list comprehension***: si tratta di un one-liner in grado di creare una lista partendo da un iterabile come l'output della funzione *range()*:"
   ]
  },
  {
   "cell_type": "code",
   "execution_count": 27,
   "metadata": {},
   "outputs": [
    {
     "name": "stdout",
     "output_type": "stream",
     "text": [
      "[1, 2, 3, 4, 5] <class 'list'>\n",
      "[0, 1, 2, 3, 4, 5, 6, 7, 8, 9, 10, 11, 12, 13, 14]\n"
     ]
    }
   ],
   "source": [
    "tupla = (1, 2 ,3 ,4 ,5)\n",
    "lista1 = list(tupla)\n",
    "print(lista1, type(lista1))\n",
    "\n",
    "#list comprehension:\n",
    "\n",
    "lista2 = [x for x in range(15)]\n",
    "print(lista2)"
   ]
  },
  {
   "cell_type": "markdown",
   "metadata": {},
   "source": [
    "Quello che fa list() è abbastanza evidente.\n",
    "\n",
    "Per quanto riguarda la sintassi della list comprehension, proviamo a spiegarla brevemente:\n",
    "> Prendi ciascun elemento contenuto in quell'iterabile e aggiungilo ad una lista.\n",
    "\n",
    "L'elemento può essere preso così com'è, oppure può essere modificato da un'operazione, una funzione o altro, come vediamo nei prossimi due esempi:"
   ]
  },
  {
   "cell_type": "code",
   "execution_count": 29,
   "metadata": {},
   "outputs": [
    {
     "name": "stdout",
     "output_type": "stream",
     "text": [
      "[0, 1, 2, 3, 4, 5, 6, 7, 8, 9, 10, 11, 12, 13, 14]\n",
      "[0, 1, 4, 9, 16, 25, 36, 49, 64, 81, 100, 121, 144, 169, 196]\n",
      "[0, 2, 4, 6, 8, 10, 12, 14, 16, 18, 20, 22, 24, 26, 28]\n"
     ]
    }
   ],
   "source": [
    "lista = [x for x in range(15)]\n",
    "lista_al_quadrato = [x**2 for x in range(15)]\n",
    "\n",
    "#definiamo una breve funzione che raddoppia un valore\n",
    "\n",
    "def raddoppia(n):\n",
    "    return n*2\n",
    "\n",
    "lista_raddoppiata_da_funzione = [raddoppia(x) for x in range(15)]\n",
    "\n",
    "print(lista)\n",
    "print(lista_al_quadrato)\n",
    "print(lista_raddoppiata_da_funzione)"
   ]
  },
  {
   "cell_type": "markdown",
   "metadata": {},
   "source": [
    "La list comprehension è molto comoda e molto usata, pertanto è importante conoscere questa notazione.\n",
    "\n",
    "Vediamo ora un'ultima funzione che riguarda le liste per poi passare a degli esercizi.\n",
    "La funzione che guarderemo ora è enumerate(), e vedremo prima del codice per poi spiegare cosa fa.\n",
    "\n",
    "### **enumerate()**"
   ]
  },
  {
   "cell_type": "code",
   "execution_count": 34,
   "metadata": {},
   "outputs": [
    {
     "name": "stdout",
     "output_type": "stream",
     "text": [
      "['Cane', 'Gatto', 'Topo', 'Pesce']\n",
      "(0, 'Cane')\n",
      "(1, 'Gatto')\n",
      "(2, 'Topo')\n",
      "(3, 'Pesce')\n"
     ]
    }
   ],
   "source": [
    "lista = 'Cane,Gatto,Topo,Pesce'.split(',')\n",
    "print(lista)\n",
    "lista_numerata = enumerate(lista)\n",
    "for element in lista_numerata:\n",
    "    print(element)"
   ]
  },
  {
   "cell_type": "markdown",
   "metadata": {},
   "source": [
    "**enumerate()** prende come argomento una lista, estrae ciascun elemento della lista e crea un oggetto *enumerate*.\n",
    "\n",
    "Questo oggetto è un iterabile che contiene lo stesso numero di elementi della lista di partenza, ed ogni elemento dell'oggetto enumerate è una **tupla** che contiene due elementi: la posizione dell'elemento nella lista originaria e l'elemento nella lista originaria.\n",
    "\n",
    "Quando abbiamo un vettore che contiene collezioni al suo interno (se queste contengono tutte lo stesso numero di elementi), possiamo scorrere gli elementi delle collezioni con un solo ciclo for in questo modo:"
   ]
  },
  {
   "cell_type": "code",
   "execution_count": 36,
   "metadata": {},
   "outputs": [
    {
     "name": "stdout",
     "output_type": "stream",
     "text": [
      "0 Cane\n",
      "1 Gatto\n",
      "2 Topo\n",
      "3 Pesce\n"
     ]
    }
   ],
   "source": [
    "for indice, contenuto in enumerate(lista):\n",
    "    print(indice, contenuto)"
   ]
  },
  {
   "cell_type": "markdown",
   "metadata": {},
   "source": [
    "Dove la spiegazione ha probabilmente fallito, spero che il codice sia riuscito a chiarire i dubbi!\n",
    "\n",
    "1. Il ciclo for passa in rassegna ogni elemento dell'oggetto enumerate;\n",
    "2. Ciascun elemento dell'oggetto enumerate è una tupla di due elementi (indice, contenuto);\n",
    "3. L'istruzione nel corpo del ciclo for viene eseguita, e vengono stampati i due elementi di ciascuna tupla\n",
    "\n",
    "## **Esercizi**\n",
    "\n",
    "1. Popolare una lista di elementi con i primi n numeri pari utilizzando un ciclo for e la funzione range\n",
    "2. Ripetere l'esercizio con la list comprehension\n",
    "3. Prendere in input una lista di elementi separati da una virgola e inserirli in una lista\n",
    "4. Stampare la lista così ottenuta con i relativi indici senza utilizzare enumerate\n",
    "5. Ripetere l'esercizio 4 utilizzando enumerate\n",
    "\n",
    "..\n",
    "\n",
    "..\n",
    "\n",
    "..\n",
    "\n",
    "..\n",
    "\n",
    "..\n",
    "\n",
    "..\n",
    "\n",
    "..\n",
    "\n",
    "..\n",
    "\n",
    "..\n",
    "\n",
    "..\n",
    "\n",
    "..\n",
    "\n",
    "## **Soluzioni**\n",
    "\n",
    "### Esercizio 1"
   ]
  },
  {
   "cell_type": "code",
   "execution_count": 38,
   "metadata": {},
   "outputs": [
    {
     "name": "stdout",
     "output_type": "stream",
     "text": [
      "[0, 2, 4, 6, 8, 10, 12, 14, 16, 18, 20, 22, 24, 26, 28, 30, 32, 34, 36, 38] 20\n"
     ]
    }
   ],
   "source": [
    "n = 20\n",
    "lista_pari = []\n",
    "for i in range(n):\n",
    "    lista_pari.append(i*2)\n",
    "print(lista_pari, len(lista_pari))"
   ]
  },
  {
   "cell_type": "markdown",
   "metadata": {},
   "source": [
    "### Esercizio 2"
   ]
  },
  {
   "cell_type": "code",
   "execution_count": 39,
   "metadata": {},
   "outputs": [
    {
     "name": "stdout",
     "output_type": "stream",
     "text": [
      "[0, 2, 4, 6, 8, 10, 12, 14, 16, 18, 20, 22, 24, 26, 28, 30, 32, 34, 36, 38] 20\n"
     ]
    }
   ],
   "source": [
    "lista_pari = [x*2 for x in range(20)]\n",
    "print(lista_pari, len(lista_pari))"
   ]
  },
  {
   "cell_type": "markdown",
   "metadata": {},
   "source": [
    "### Esercizio 3"
   ]
  },
  {
   "cell_type": "code",
   "execution_count": 40,
   "metadata": {},
   "outputs": [
    {
     "name": "stdin",
     "output_type": "stream",
     "text": [
      "Dammi elementi separati da virgola: cane,gatto,topo\n"
     ]
    },
    {
     "name": "stdout",
     "output_type": "stream",
     "text": [
      "['cane', 'gatto', 'topo']\n"
     ]
    }
   ],
   "source": [
    "stringa = input('Dammi elementi separati da virgola:')\n",
    "lista = stringa.split(',')\n",
    "print(lista)"
   ]
  },
  {
   "cell_type": "markdown",
   "metadata": {},
   "source": [
    "### Esercizio 4"
   ]
  },
  {
   "cell_type": "code",
   "execution_count": 41,
   "metadata": {},
   "outputs": [
    {
     "name": "stdout",
     "output_type": "stream",
     "text": [
      "0 cane\n",
      "1 gatto\n",
      "2 topo\n"
     ]
    }
   ],
   "source": [
    "for i in range(len(lista)):\n",
    "    print(i, lista[i])"
   ]
  },
  {
   "cell_type": "markdown",
   "metadata": {},
   "source": [
    "### Esercizio 5"
   ]
  },
  {
   "cell_type": "code",
   "execution_count": 42,
   "metadata": {},
   "outputs": [
    {
     "name": "stdout",
     "output_type": "stream",
     "text": [
      "0 cane\n",
      "1 gatto\n",
      "2 topo\n"
     ]
    }
   ],
   "source": [
    "for index, element in enumerate(lista):\n",
    "    print(index, element)"
   ]
  }
 ],
 "metadata": {
  "kernelspec": {
   "display_name": "Python 3",
   "language": "python",
   "name": "python3"
  },
  "language_info": {
   "codemirror_mode": {
    "name": "ipython",
    "version": 3
   },
   "file_extension": ".py",
   "mimetype": "text/x-python",
   "name": "python",
   "nbconvert_exporter": "python",
   "pygments_lexer": "ipython3",
   "version": "3.8.5"
  }
 },
 "nbformat": 4,
 "nbformat_minor": 4
}
