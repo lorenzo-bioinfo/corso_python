{
 "cells": [
  {
   "cell_type": "markdown",
   "id": "bb903be1-932f-4777-b098-37ec7088e3a7",
   "metadata": {
    "tags": []
   },
   "source": [
    "# Programmazione\n",
    "\n",
    "## Cosa significa programmare?\n",
    "\n",
    "Programmare significa fornire una serie di istruzioni ad un calcolatore (computer) per fargli eseguire un compito. Affinché le istruzioni siano corrette è necessario rispettare due requisiti:\n",
    "\n",
    "1. Le istruzioni devono poter essere eseguite dal calcolatore;\n",
    "2. Le istruzioni devono essere espresse in un linguaggio che il calcolatore è in grado di comprendere.\n",
    "\n",
    "Pensiamo alla ricetta per preparare una frittata: in questo caso l'autore della ricetta è il programmatore, la ricetta è il programma e chi deve preparare la frittata è il calcolatore che esegue il programma. Il procedimento per preparare il piatto sarà suddiviso in diversi passi o istruzioni:\n",
    "1. Prepara gli ingredienti (2 uova, sale, olio)\n",
    "2. Sbatti le uova e aggiungi il sale\n",
    "3. Scalda l'olio nella padella\n",
    "4. Versa il preparato nella padella\n",
    "5. cuoci 5 minuti per lato.\n",
    "\n",
    "La suddivisione di un problema complesso in passi discreti da svolgere in sequenza per risolverlo prende il nome di **algoritmo**. Una ricetta può essere considerata come un algoritmo per preparare un piatto.\n",
    "\n",
    "Il modo in cui le istruzioni sono espresse nella lista è appropriato per farle svolgere ad una persona che sia entrata almeno una volta in una cucina. Tuttavia, sarebbero inappropriate per un computer. Questo perché nelle istruzioni sopra abbiamo dato molte cose per scontate! Gli esseri umani ragionano con una **logica inferenziale**: sono in grado di evincere informazioni dal contesto e dall'esperienza. Tutti sappiamo che prima di sbattere le uova bisogna romperle, versare il loro contenuto in una ciotola, scartare i gusci, agitare velocemente albume e tuorlo con una forchetta, fermarci quando vediamo la schiuma. I computer non sono invece capaci di logica inferenziale: tutte le informazioni di cui hanno bisogno per operare devono essere fornite dal programmatore.\n",
    "\n",
    "### Come comunico le istruzione al computer?\n",
    "\n",
    "Per poter comunicare con un computer è necessario utilizzare una \"lingua\" che il computer possa comprendere, così come dobbiamo conoscere il francese per parlare con un ragazzo di Parigi. La lingua francese è per certi versi molto simile all'italiano, ma i computer sono macchine elettroniche digitali, quindi possono comprendere e interpretare solo istruzioni in **codice binario**: gli unici caratteri dell'alfabeto del computer sono **1** e **0**. L'insieme delle istruzioni fornite utilizzando il codice binario è detto **linguaggio macchina**.\n",
    "\n",
    "**Esempio**: vediamo le istruzioni necessarie per un processore x86, per spostare il numero 64 in un registro di memoria:  \n",
    "**10110000 01100001**  \n",
    "Traducendo:    \n",
    "- 10110: Sposta in un registro\n",
    "- 000: il registro con indirizzo di memoria 000\n",
    "- 0110001: il valore 64\n",
    "\n",
    "Appare chiaro come utilizzare il linguaggio macchina per svolgere operazioni anche molto semplice sia impraticabile. Per superare questo ostacolo, sono stati sviluppati i **linguaggi di programmazione**. Alcuni di questi sono molto simili al linguaggio macchina, come ad esempio i linguaggi **assembly**, mentre altri si avvicinano molto di più alla \"_linguaggio umano_\".\n",
    "\n",
    "In quest'ottica possiamo suddividere i diversi linguaggi di programmazione in linguaggi a <u>basso livello</u> e linguaggi ad <u>alto livello</u>. I primi sono quelli simili alle istruzioni comprensibili da un processore, mentre i secondi sono più simili alla nostra lingua. I linguaggi a basso livello sono più veloci, mentre è più semplice sviluppare software utilizzando linguaggi a basso livello. Ad oggi, l'utilizzo dei linguaggi a basso livello è limitato allo sviluppo di software per microcontrollori, quindi in generale quando si opera con risorse hardware ESTREMAMENTE limitate. Nello sviluppo di software per computer si utilizzano quasi esclusivamente linguaggi ad alto livello.\n",
    "\n",
    "I linguaggi ad alto livello possono essere ulteriormente suddivisi in linguaggi **compilati** o **interpretati:\n",
    "- Il codice scritto con un linguaggio **compilato** viene tradotto in linguaggio macchina prima di essere eseguito: il compilatore utilizza il **codice sorgente** scritto dal programmatore e genera un eseguibile (ad esempio un file .exe) contenente istruzioni in linguaggio macchina;\n",
    "- Il codice scritto con un linguaggio interpretato non viene compilato prima di essere eseguito. Le istruzioni contenute nel codice sorgente vengono **eseguite a _runtime_**. In parole povere, l'interprete valuta il codice riga per riga ed esegue un'istruzione alla volta.\n",
    "\n",
    "Un esempio di linguaggio compilato è il linguaggio C. Python è invece uno dei linguaggi interpretati ad oggi più utilizzati. Per capire le differenze, vediamo un esempio dello stesso programma scritto in C e in Python. Quello che fa il programma è semplicemente sommare due numeri interi _a_ e _b_:\n",
    "\n",
    "- In linguaggio C:\n",
    "\n",
    "> #include <stdio.h>  \n",
    "int main(){  \n",
    "&nbsp;&nbsp;&nbsp;&nbsp;&nbsp;&nbsp; int somma;  \n",
    "&nbsp;&nbsp;&nbsp;&nbsp;&nbsp;&nbsp; int a;  \n",
    "&nbsp;&nbsp;&nbsp;&nbsp;&nbsp;&nbsp; int b;  \n",
    "&nbsp;&nbsp;&nbsp;&nbsp;&nbsp;&nbsp;a = 1;  \n",
    "&nbsp;&nbsp;&nbsp;&nbsp;&nbsp;&nbsp;b = 2;  \n",
    "&nbsp;&nbsp;&nbsp;&nbsp;&nbsp;&nbsp;somma = a + b;  \n",
    "&nbsp;&nbsp;&nbsp;&nbsp;&nbsp;&nbsp;printf(\"%d\", somma);  \n",
    "return(0);}\n",
    "\n",
    "- In Python:\n",
    ">a = 1  \n",
    "b = 2  \n",
    "somma = a + b  \n",
    "print(somma)\n",
    "\n",
    "Per il momento dimentichiamoci del significato del codice e limitiamoci a notare come sia molto più semplice scrivere software in un linguaggio interpretato. Lo svantaggio tuttavia è dato dal fatto che i programmi scritti in linguaggio interpretato saranno molto più lenti. Questo è un problema? Dipende dalle necessità. Software che devono essere eseguiti con estrema fluidità (videogiochi) o che devono elaborare un numero estremamente elevato di dati (strumenti per l'assemblaggio dei genomi o per simulazioni di dinamica molecolare) vengono sviluppati in linguaggi _veloci_ come il C. Software che non necessitano invece di prestazioni strabilianti, possono essere sviluppati in linguaggi interpretati come Python."
   ]
  },
  {
   "cell_type": "code",
   "execution_count": null,
   "id": "2463f09d-06b7-472b-95d6-c2bf754c7d6c",
   "metadata": {},
   "outputs": [],
   "source": []
  }
 ],
 "metadata": {
  "kernelspec": {
   "display_name": "Python 3 (ipykernel)",
   "language": "python",
   "name": "python3"
  },
  "language_info": {
   "codemirror_mode": {
    "name": "ipython",
    "version": 3
   },
   "file_extension": ".py",
   "mimetype": "text/x-python",
   "name": "python",
   "nbconvert_exporter": "python",
   "pygments_lexer": "ipython3",
   "version": "3.8.12"
  }
 },
 "nbformat": 4,
 "nbformat_minor": 5
}
