{
 "cells": [
  {
   "cell_type": "markdown",
   "id": "bb903be1-932f-4777-b098-37ec7088e3a7",
   "metadata": {
    "tags": []
   },
   "source": [
    "# Programmazione\n",
    "\n",
    "**Disclaimer**: Questa piccola panoramica sulla programmazione serve soltanto a darvi un'idea di cosa significhi programmare. Verrà presentato qualche esempio di codice, ma non è necessario che lo comprendiate a fondo. È importante soltanto che prendiate confidenza su cosa significhi programmare e quali sono gli elementi principali che costituiscono un programma. Nelle varie lezioni approfondiremo poi i diversi aspetti uno ad uno. Buona lettura!\n",
    "\n",
    "## Cosa significa programmare?\n",
    "\n",
    "Programmare significa fornire una serie di istruzioni ad un calcolatore (computer) per fargli eseguire un compito. Affinché le istruzioni siano corrette è necessario rispettare alcuni requisiti:\n",
    "\n",
    "1. Le istruzioni devono poter essere eseguite dal calcolatore;\n",
    "2. Le istruzioni devono essere espresse in un linguaggio che il calcolatore è in grado di comprendere;\n",
    "3. Le istruzioni devono essere NON ambigue.\n",
    "\n",
    "Pensiamo alla ricetta per preparare una frittata: in questo caso l'autore della ricetta è il programmatore, la ricetta è il programma e chi deve preparare la frittata è il calcolatore che esegue il programma. Il procedimento per preparare il piatto sarà suddiviso in diversi passi o istruzioni:\n",
    "\n",
    "1. Prepara gli ingredienti (2 uova, sale, olio)\n",
    "\n",
    "2. Sbatti le uova e aggiungi il sale\n",
    "\n",
    "3. Scalda l'olio nella padella\n",
    "\n",
    "4. Versa il preparato nella padella\n",
    "\n",
    "5. cuoci 5 minuti per lato.\n",
    "\n",
    "La suddivisione di un problema complesso in passi discreti da svolgere in sequenza per risolverlo prende il nome di **algoritmo**. Una ricetta può essere considerata come un algoritmo per preparare un piatto.\n",
    "\n",
    "Il modo in cui le istruzioni sono espresse nella lista è appropriato per farle svolgere ad una persona che sia entrata almeno una volta in una cucina. Tuttavia, sarebbero inappropriate per un computer. Questo perché nelle istruzioni sopra abbiamo dato molte cose per scontate! Gli esseri umani ragionano con una **logica inferenziale**: sono in grado di evincere informazioni dal contesto e dall'esperienza. Tutti sappiamo che prima di sbattere le uova bisogna romperle, versare il loro contenuto in una ciotola, scartare i gusci, agitare velocemente albume e tuorlo con una forchetta, fermarci quando vediamo la schiuma. I computer non sono invece capaci di logica inferenziale: tutte le informazioni di cui hanno bisogno per operare devono essere fornite dal programmatore.\n",
    "\n",
    "### Come comunico le istruzione al computer?\n",
    "\n",
    "Per poter comunicare con un computer è necessario utilizzare una \"lingua\" che il computer possa comprendere, così come dobbiamo conoscere il francese per parlare con un ragazzo di Parigi. La lingua francese è per certi versi molto simile all'italiano, ma i computer sono macchine elettroniche digitali, quindi possono comprendere e interpretare solo istruzioni in **codice binario**: gli unici caratteri dell'alfabeto del computer sono **1** e **0**. L'insieme delle istruzioni fornite utilizzando il codice binario è detto **linguaggio macchina**.\n",
    "\n",
    "**Esempio**: vediamo le istruzioni necessarie per un processore x86, per spostare il numero 64 in un registro di memoria:  \n",
    "**10110000 00100000**  \n",
    "Traducendo:    \n",
    "\n",
    "- 10110: Sposta in un registro\n",
    "\n",
    "- 000: il registro con indirizzo di memoria 000\n",
    "\n",
    "- 00100000: il valore 64\n",
    "\n",
    "Appare chiaro come utilizzare il linguaggio macchina per svolgere operazioni anche molto semplici sia impraticabile. Per superare questo ostacolo, sono stati sviluppati i **linguaggi di programmazione**. Alcuni di questi sono molto simili al linguaggio macchina, come ad esempio i linguaggi **assembly**, mentre altri si avvicinano molto di più al \"_linguaggio umano_\".\n",
    "\n",
    "In quest'ottica possiamo suddividere i diversi linguaggi di programmazione in linguaggi a <u>basso livello</u> e linguaggi ad <u>alto livello</u>. I primi sono quelli simili alle istruzioni comprensibili da un processore, mentre i secondi sono più simili alla nostra lingua. I linguaggi a basso livello sono più veloci, mentre è più semplice sviluppare software utilizzando linguaggi ad alto livello. Ad oggi, l'utilizzo dei linguaggi a basso livello è limitato allo sviluppo di software per microcontrollori, quindi in generale quando si opera con risorse hardware ESTREMAMENTE limitate. Nello sviluppo di software per computer si utilizzano quasi esclusivamente linguaggi ad alto livello.\n",
    "\n",
    "I linguaggi ad alto livello possono essere ulteriormente suddivisi in linguaggi **compilati** o **interpretati**:\n",
    "\n",
    "- Il codice scritto con un linguaggio **compilato** viene tradotto in linguaggio macchina prima di essere eseguito: il compilatore utilizza il **codice sorgente** scritto dal programmatore e genera un eseguibile (ad esempio un file .exe) contenente istruzioni in linguaggio macchina;\n",
    "\n",
    "- Il codice scritto con un linguaggio interpretato non viene compilato prima di essere eseguito. Le istruzioni contenute nel codice sorgente vengono **eseguite a _runtime_**. In parole povere, l'interprete valuta il codice riga per riga ed esegue un'istruzione alla volta.\n",
    "\n",
    "Un esempio di linguaggio compilato è il linguaggio C. Python è invece uno dei linguaggi interpretati ad oggi più utilizzati. Per capire le differenze, vediamo un esempio dello stesso programma scritto in C e in Python. Quello che fa il programma è semplicemente sommare due numeri interi _a_ e _b_:\n",
    "\n",
    "- In linguaggio C:\n",
    "\n",
    "> #include <stdio.h>  \n",
    "int main(){  \n",
    "&nbsp;&nbsp;&nbsp;&nbsp;&nbsp;&nbsp; int somma;  \n",
    "&nbsp;&nbsp;&nbsp;&nbsp;&nbsp;&nbsp; int a;  \n",
    "&nbsp;&nbsp;&nbsp;&nbsp;&nbsp;&nbsp; int b;  \n",
    "&nbsp;&nbsp;&nbsp;&nbsp;&nbsp;&nbsp;a = 1;  \n",
    "&nbsp;&nbsp;&nbsp;&nbsp;&nbsp;&nbsp;b = 2;  \n",
    "&nbsp;&nbsp;&nbsp;&nbsp;&nbsp;&nbsp;somma = a + b;  \n",
    "&nbsp;&nbsp;&nbsp;&nbsp;&nbsp;&nbsp;printf(\"%d\", somma);  \n",
    "return(0);}\n",
    "\n",
    "- In Python:\n",
    "\n",
    "> a = 1  \n",
    "b = 2  \n",
    "somma = a + b  \n",
    "print(somma)\n",
    "\n",
    "Per il momento dimentichiamoci del significato del codice e limitiamoci a notare come sia molto più semplice scrivere software in un linguaggio interpretato. Lo svantaggio tuttavia è dato dal fatto che i programmi scritti in linguaggio interpretato saranno molto più lenti. Questo è un problema? Dipende dalle necessità. Software che devono essere eseguiti con estrema fluidità (videogiochi) o che devono elaborare un numero estremamente elevato di dati (strumenti per l'assemblaggio dei genomi o per simulazioni di dinamica molecolare) vengono sviluppati in linguaggi _veloci_ come il C. Software che non necessitano invece di prestazioni strabilianti, possono essere sviluppati in linguaggi interpretati come Python.\n",
    "\n",
    "## Quali sono gli elementi che costituiscono un programma?\n",
    "\n",
    "I due elementi principali di un software (dal punto di vista di un programmatore) sono le **variabili** e le **funzioni**.\n",
    "\n",
    "### - Variabili\n",
    "\n",
    "Le **variabili** sono l'elemento con il quale il programma <u>Conserva l'informazione</u>. Possiamo vederle come delle scatole all'interno delle quali mettiamo i dati. Affinché il programma possa usare un dato, questo deve essere nella maggior parte dei casi memorizzato in una variabile. Qui sotto sono presentati alcuni esempi di variabile in Python:\n"
   ]
  },
  {
   "cell_type": "code",
   "execution_count": null,
   "id": "2463f09d-06b7-472b-95d6-c2bf754c7d6c",
   "metadata": {},
   "outputs": [],
   "source": [
    "a = 1\n",
    "b = 2.5\n",
    "stringa = 'Ciao'\n",
    "vettore = [1, 2, 3, 'Ciao', 7.5]"
   ]
  },
  {
   "cell_type": "markdown",
   "id": "cb845d11-9450-480e-b018-a9f0285f9d0c",
   "metadata": {
    "tags": []
   },
   "source": [
    "\n",
    "Ciascuna variabile è caratterizzata da 3 elementi:\n",
    "\n",
    "1. Il nome della variabile\n",
    "\n",
    "2. Il tipo della variabile\n",
    "\n",
    "3. Il valore che la variabile contiene\n",
    "\n",
    "I nomi delle variabili presentate sopra sono _a_, _b_, _stringa_ e _vettore_. Il valore contenuto da ciascuna variabile è quello a destra del segno _=_. Il tipo delle variabili, in Python, non deve essere specificato dall'utente (a differenza del C), poiché sarà l'interprete a valutare ogni volta che tipo di dato contiene ciascuna variabile. In ordine:\n",
    "\n",
    "- La variabile _a_ contiene un numero intero, sarà quindi di tipo intero;\n",
    "\n",
    "- La variabile _b_ contiene un numero decimale, sarà quindi di tipo _float_ (da _floating point number_);\n",
    "\n",
    "- La variabile stringa contiene una serie di caratteri, sarà quindi una variabile di tipo stringa;\n",
    "\n",
    "- L'ultima variabile rappresenta un vettore di elementi: in Python questo tipo di variabile viene chiamato _lista_;\n",
    "\n",
    "Una delle differenze tra Python e C (o altri linguaggi di programmazione come Java o Rust), è che in Python non è necessario specificare il tipo delle variabili che vogliamo usare. La variabile _a_, ad esempio, contiene un numero intero. Ma se vogliamo possiamo assegnarle più avanti una stringa o un vettore, o qualsiasi altro tipo di dato. In C questo non può essere fatto. Le variabili devono essere definite PRIMA di essere utilizzate, e va dichiarato quale tipo di variabile intendiamo usare. Ad esempio:\n",
    "\n",
    "> int a;  \n",
    "float b;  \n",
    "a = 1;  \n",
    "b = 1.5;\n",
    "\n",
    "In C, prima di utilizzare la variabile _a_, dobbiamo definirla e chiarire al compilatore quale valore conterrà (nel nostro caso _int_, per indicare che conterrà un numero intero). In seguito non sarà possibile assegnare alla variabile _a_ una stringa, ma solo numeri interi. Per questo si dice che il linguaggio C è un linguaggio a __tipizzazione statica__, mentre Python è un linguaggio a __tipizzazione dinamica__. Entrambi i paradigmi hanno vantaggi e svantaggi.\n",
    "\n",
    "### - Funzioni\n",
    "\n",
    "**Le funzioni** possono essere viste come una _raccolta_ di istruzioni che vengono svolte in sequenza per portare a termine un compito. Di seguito è presentato un esempio di funzione che somma due numeri in Python:\n"
   ]
  },
  {
   "cell_type": "code",
   "execution_count": 2,
   "id": "c1152beb-818a-456e-ad7f-db6151251ff3",
   "metadata": {},
   "outputs": [
    {
     "name": "stdout",
     "output_type": "stream",
     "text": [
      "40\n"
     ]
    }
   ],
   "source": [
    "#DEFINISCO la funzione somma\n",
    "def somma(a, b):\n",
    "    risultato = a + b\n",
    "    return(risultato)\n",
    "\n",
    "#CHIAMO la funzione somma e memorizzo il suo output in una variabile\n",
    "risultato_somma = somma(13, 27)\n",
    "\n",
    "print(risultato_somma)"
   ]
  },
  {
   "cell_type": "markdown",
   "id": "30e47679-03ba-4229-ae63-da3615bf00f1",
   "metadata": {},
   "source": [
    "\n",
    "Dalla funzione qui sopra possiamo vedere alcune caratteristiche generali:\n",
    "\n",
    "1. Le funzioni hanno un **nome** (_somma_);\n",
    "\n",
    "2. Le funzioni possono prendere in input dei **parametri** (_a_ e _b_);\n",
    "\n",
    "3. Le funzioni possono restituire un **output** (_return_);\n",
    "\n",
    "4. Le funzioni sono prima **definite** e poi **chiamate** (_def funzione()_ -> _funzione()_ );\n",
    "\n",
    "Le funzioni sono quindi un modo comodo per raccogliere una serie di istruzioni necessarie per svolgere un compito. La funzione _somma()_ che abbiamo definito e utilizzato nell'esempio è chiaramente molto semplice e non ha molto senso scrivere una funzione che contenga una singola istruzione. Tuttavia per compiti più complicati e che si compongono di più passaggi è estremamente utile raccogliere quelle istruzioni in una funzione e chiamarla quando necessario, invece di scriverle ogni volta. Questo organizza il codice e ne semplifica lettura e scrittura."
   ]
  }
 ],
 "metadata": {
  "kernelspec": {
   "display_name": "Python 3 (ipykernel)",
   "language": "python",
   "name": "python3"
  },
  "language_info": {
   "codemirror_mode": {
    "name": "ipython",
    "version": 3
   },
   "file_extension": ".py",
   "mimetype": "text/x-python",
   "name": "python",
   "nbconvert_exporter": "python",
   "pygments_lexer": "ipython3",
   "version": "3.8.12"
  }
 },
 "nbformat": 4,
 "nbformat_minor": 5
}
