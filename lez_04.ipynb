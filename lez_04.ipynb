{
 "cells": [
  {
   "cell_type": "markdown",
   "metadata": {},
   "source": [
    "# **Collezioni (Insiemi e Dizionari)**\n",
    "\n",
    "Nella scorsa lezione abbiamo iniziato a parlare di \"collezioni\" e abbiamo imparato ad utilizzare tuple e vettori. In questa lezione passeremo ad altri due tipi di variabili collezione: gli **insiemi** e i **dizionari**.\n",
    "\n",
    "## **Insiemi**\n",
    "\n",
    "Gli insiemi in python sono delimitati da **parentesi graffe** '{ }' e si comportano in modo particolare rispetto alle altre variabili collezione.\n",
    "\n",
    "Questi infatti sono estremamente simili a quello che intendiamo in matematica quando parliamo di insiemi, e in particolare:\n",
    "\n",
    "- Un insieme non contiene elementi duplicati;\n",
    "- Un insieme non è ordinato (vedremo cosa significa a breve);\n",
    "- È possibile definire sulle variabili *insieme* le operazioni normalmente definite negli insiemi matematici (unione, intersezione, ecc..)\n",
    "\n",
    "Ecco alcuni esempi di insieme che ci aiutano a capire le caratteristiche di questo tipo di variabili:"
   ]
  },
  {
   "cell_type": "code",
   "execution_count": 3,
   "metadata": {},
   "outputs": [
    {
     "name": "stdout",
     "output_type": "stream",
     "text": [
      "{'kiwi', 'arancia', 'mela', 'banana'}\n",
      "<class 'set'>\n"
     ]
    }
   ],
   "source": [
    "cesta = {'banana', 'mela', 'arancia', 'mela', 'kiwi', 'banana'}\n",
    "print(cesta)\n",
    "print(type(cesta))"
   ]
  },
  {
   "cell_type": "markdown",
   "metadata": {},
   "source": [
    "Abbiamo definito una variabile insieme e abbiamo specificato quali elementi questa avrebbe contenuto. Gli elementi 'mela' e 'banana' erano stati inseriti **più volte** in fase di definizione, tuttavia quando abbiamo stampato con *print()* l'insieme li conteneva una volta sola.\n",
    "Quindi l'insieme *scarta automaticamente i duplicati*.\n",
    "\n",
    "Questa peculiarità degli insiemi è comoda se ad esempio abbiamo una lista dal quale vogliamo eliminare gli elementi duplicati. Possiamo infatti trasformarlo in un insieme con la funzione **set()**:"
   ]
  },
  {
   "cell_type": "code",
   "execution_count": 4,
   "metadata": {},
   "outputs": [
    {
     "name": "stdout",
     "output_type": "stream",
     "text": [
      "[1, 2, 3, 4, 5, 6]\n"
     ]
    }
   ],
   "source": [
    "#definisco una lista contenente valori duplicati\n",
    "lista_con_duplicati = [1, 2, 3, 1, 1, 4, 5, 3, 3, 6, 5]\n",
    "#trasformo la lista in un insieme (questo rimuoverà i duplicati)\n",
    "insieme_ottenuto_da_lista = set(lista_con_duplicati)\n",
    "#trasformo nuovamente l'insieme in una lista\n",
    "lista_senza_duplicati = list(insieme_ottenuto_da_lista)\n",
    "print(lista_senza_duplicati)"
   ]
  },
  {
   "cell_type": "markdown",
   "metadata": {},
   "source": [
    "L'altra caratteristica degli insiemi è quella di non essere ordinati. Ma cosa significa di preciso?\n",
    "\n",
    "Significa che Python internamente non tiene traccia dell'ordine in cui si trovano i valori all'interno di un insieme. Questo ha come conseguenza principale che **non** possiamo accedere agli elementi di un insieme utilizzando degli indici:"
   ]
  },
  {
   "cell_type": "code",
   "execution_count": 5,
   "metadata": {},
   "outputs": [
    {
     "ename": "TypeError",
     "evalue": "'set' object is not subscriptable",
     "output_type": "error",
     "traceback": [
      "\u001b[0;31m---------------------------------------------------------------------------\u001b[0m",
      "\u001b[0;31mTypeError\u001b[0m                                 Traceback (most recent call last)",
      "\u001b[0;32m<ipython-input-5-9828acec3c3e>\u001b[0m in \u001b[0;36m<module>\u001b[0;34m\u001b[0m\n\u001b[1;32m      1\u001b[0m \u001b[0minsieme\u001b[0m \u001b[0;34m=\u001b[0m \u001b[0;34m{\u001b[0m\u001b[0;36m1\u001b[0m\u001b[0;34m,\u001b[0m \u001b[0;36m2\u001b[0m\u001b[0;34m,\u001b[0m \u001b[0;36m3\u001b[0m\u001b[0;34m,\u001b[0m \u001b[0;36m4\u001b[0m\u001b[0;34m}\u001b[0m\u001b[0;34m\u001b[0m\u001b[0;34m\u001b[0m\u001b[0m\n\u001b[0;32m----> 2\u001b[0;31m \u001b[0mprint\u001b[0m\u001b[0;34m(\u001b[0m\u001b[0minsieme\u001b[0m\u001b[0;34m[\u001b[0m\u001b[0;36m2\u001b[0m\u001b[0;34m]\u001b[0m\u001b[0;34m)\u001b[0m\u001b[0;34m\u001b[0m\u001b[0;34m\u001b[0m\u001b[0m\n\u001b[0m",
      "\u001b[0;31mTypeError\u001b[0m: 'set' object is not subscriptable"
     ]
    }
   ],
   "source": [
    "insieme = {1, 2, 3, 4}\n",
    "print(insieme[2])"
   ]
  },
  {
   "cell_type": "markdown",
   "metadata": {},
   "source": [
    "Tuttavia questo non ci impedisce di stampare tutti gli elementi contenuti nell'insieme attraverso un ciclo for:"
   ]
  },
  {
   "cell_type": "code",
   "execution_count": 10,
   "metadata": {},
   "outputs": [
    {
     "name": "stdout",
     "output_type": "stream",
     "text": [
      "1\n",
      "2\n",
      "3\n",
      "4\n"
     ]
    }
   ],
   "source": [
    "for element in insieme:\n",
    "    print(element)"
   ]
  },
  {
   "cell_type": "markdown",
   "metadata": {},
   "source": [
    "Vediamo ora come aggiungere o rimuovere elementi da un set (da un insieme)\n",
    "\n",
    "### **Aggiungere elementi ad un insieme**\n",
    "\n",
    "Possiamo utilizzare due metodi per aggiungere elementi ad un insieme:\n",
    "\n",
    "- *insieme.add(elemento)* : Aggiunge l'elemento passato come parametro all'insieme\n",
    "- *insieme.update(iterabile)* : Aggiunge tutti gli elementi di un iterabile all'insieme\n",
    "\n",
    "Il primo è quindi equivalente al metodo append() nelle liste (con la differenza che per gli insieme non ha senso dire che l'elemento viene aggiunto *in fondo* all'insieme.\n",
    "Il secondo invece è equivalente al metodo extend() nelle liste.\n",
    "Vediamo ora due esempi banali:"
   ]
  },
  {
   "cell_type": "code",
   "execution_count": 11,
   "metadata": {},
   "outputs": [
    {
     "name": "stdout",
     "output_type": "stream",
     "text": [
      "{'mela', 'banana'}\n",
      "{'kiwi', 'mela', 'banana'}\n",
      "{'kiwi', 'mango', 'pera', 'banana', 'mela'}\n",
      "{'uva', 'arancia', 'kiwi', 'mango', 'pera', 'banana', 'mela'}\n"
     ]
    }
   ],
   "source": [
    "cesta = {'mela', 'banana'}\n",
    "print(cesta)\n",
    "#aggiungo un elemento con add():\n",
    "cesta.add('kiwi')\n",
    "print(cesta)\n",
    "#definisco due \"gruppi\" di elementi:\n",
    "lista_frutta = ['pera', 'mango']\n",
    "tupla_frutta = ('arancia', 'uva')\n",
    "#aggiungo la lista:\n",
    "cesta.update(lista_frutta)\n",
    "print(cesta)\n",
    "#aggiungo la tupla:\n",
    "cesta.update(tupla_frutta)\n",
    "print(cesta)"
   ]
  },
  {
   "cell_type": "markdown",
   "metadata": {},
   "source": [
    "### **Rimuovere elementi da un insieme**\n",
    "\n",
    "Anche per rimuovere elementi da un set vedremo due metodi, tra i quali esiste una singola differenza fondamentale: il primo da errore se non trova l'elemento da rimuovere, il secondo no.\n",
    "\n",
    "> **NOTA**: la domanda che potrebbe sorgere spontanea è la seguente: \"*Perché dovrei utilizzare un metodo che blocca potenzialmente il programma in caso di errore, quando ho a disposizione un metodo che non mi restituisce nessun errore?*\". La risposta è che a volte abbiamo bisogno di sapere quando qualcosa va storto. Ad esempio potrebbe essere importante sapere che quell'elemento è mancante all'interno del nostro set, e un errore non deve necessariamente bloccare l'esecuzione di un programma, poiché può essere gestito. Parleremo della sintassi try/except più avanti nel corso.\n",
    "\n",
    "I due metodi sono i seguenti:\n",
    "- *set.remove(elemento)* : Rimuove l'elemento passato come argomento e genera un errore se non lo trova\n",
    "- *set.discard(elemento* : Rimuove l'elemento passato come argomento, senza generare errori in caso di elemento mancante\n",
    "\n",
    "Qui sotto, due banali esempi del loro funzionamento:"
   ]
  },
  {
   "cell_type": "code",
   "execution_count": 12,
   "metadata": {},
   "outputs": [
    {
     "name": "stdout",
     "output_type": "stream",
     "text": [
      "{'uva', 'kiwi', 'mango', 'pera', 'banana', 'mela'}\n",
      "Rimuovo l'arancia che non c'è con discard()\n",
      "Visto? Nessun errore\n",
      "Ora provo a rimuoverla con il metodo remove()\n"
     ]
    },
    {
     "ename": "KeyError",
     "evalue": "'arancia'",
     "output_type": "error",
     "traceback": [
      "\u001b[0;31m---------------------------------------------------------------------------\u001b[0m",
      "\u001b[0;31mKeyError\u001b[0m                                  Traceback (most recent call last)",
      "\u001b[0;32m<ipython-input-12-bfea093bdede>\u001b[0m in \u001b[0;36m<module>\u001b[0;34m\u001b[0m\n\u001b[1;32m      8\u001b[0m \u001b[0mprint\u001b[0m\u001b[0;34m(\u001b[0m\u001b[0;34m'Visto? Nessun errore'\u001b[0m\u001b[0;34m)\u001b[0m\u001b[0;34m\u001b[0m\u001b[0;34m\u001b[0m\u001b[0m\n\u001b[1;32m      9\u001b[0m \u001b[0mprint\u001b[0m\u001b[0;34m(\u001b[0m\u001b[0;34m'Ora provo a rimuoverla con il metodo remove()'\u001b[0m\u001b[0;34m)\u001b[0m\u001b[0;34m\u001b[0m\u001b[0;34m\u001b[0m\u001b[0m\n\u001b[0;32m---> 10\u001b[0;31m \u001b[0mcesta\u001b[0m\u001b[0;34m.\u001b[0m\u001b[0mremove\u001b[0m\u001b[0;34m(\u001b[0m\u001b[0;34m'arancia'\u001b[0m\u001b[0;34m)\u001b[0m\u001b[0;34m\u001b[0m\u001b[0;34m\u001b[0m\u001b[0m\n\u001b[0m",
      "\u001b[0;31mKeyError\u001b[0m: 'arancia'"
     ]
    }
   ],
   "source": [
    "cesta = {'arancia', 'uva', 'banana', 'kiwi', 'pera', 'mela', 'mango'}\n",
    "#rimuovo l'arancia con discard():\n",
    "cesta.discard('arancia')\n",
    "print(cesta)\n",
    "#Ora non ci sono più arance, ma provo a rimuoverne una lo stesso:\n",
    "print('Rimuovo l\\'arancia che non c\\'è con discard()')\n",
    "cesta.discard('arancia')\n",
    "print('Visto? Nessun errore')\n",
    "print('Ora provo a rimuoverla con il metodo remove()')\n",
    "cesta.remove('arancia')"
   ]
  },
  {
   "cell_type": "markdown",
   "metadata": {},
   "source": [
    "Giusto per soddisfare eventuali curiosità, vediamo qui brevemente come poteva essere gestito l'errore prodotto da metodo remove() quando l'elemento da rimuovere non è presente nell'insieme.\n",
    "\n",
    "Per gestire l'eccezione abbiamo bisogno di sapere che tipo di errore viene generato, e questo possiamo vederlo nell'output generato dal codice qui sopra. La parte che ci interessa è **KeyError**.\n",
    "\n",
    "Per gestire l'errore utilizziamo la sintassi **try/except**, che in soldoni si può tradurre così:\n",
    "\n",
    "*Prova a fare questo, a meno che non incontri questo errore. In quel caso, fai quest'altro*.\n",
    "\n",
    "Vediamo ora Try/Except in azione:"
   ]
  },
  {
   "cell_type": "code",
   "execution_count": 13,
   "metadata": {},
   "outputs": [
    {
     "name": "stdout",
     "output_type": "stream",
     "text": [
      "Elemento non trovato\n",
      "Anche in caso di errore, il codice può proseguire!\n"
     ]
    }
   ],
   "source": [
    "set = {'mela', 'arancia'}\n",
    "#proviamo a rimuovere un elemento non presente con remove()\n",
    "\n",
    "try: #prova\n",
    "    set.remove('banana') #a rimuovere questo elemento\n",
    "except KeyError: #a meno che non incontri questo errore\n",
    "    print('Elemento non trovato') #in quel caso, dimmi cosa succede\n",
    "    \n",
    "print('Anche in caso di errore, il codice può proseguire!')"
   ]
  },
  {
   "cell_type": "markdown",
   "metadata": {},
   "source": [
    "### **Operazioni tra insiemi**\n",
    "\n",
    "Le operazioni definite sugli insiemi, come già detto, sono quelle che troviamo negli insiemi intesi come entità matematiche, e in particolare troviamo:\n",
    "\n",
    "- **Unione** *insieme1 **|** insieme2* : Restituisce un insieme contentente gli elementi di entrambi gli insiemi\n",
    "- **Intersezione** *insieme1 **&** insieme2* : Restituisce un insieme contenente gli elementi in comune tra i due insiemi\n",
    "\n",
    "- **Differenza** *insieme1 **-** insieme2* : Restituisce gli elementi dell'insieme 1 che non sono nell'insieme 2\n",
    "\n",
    "- **Differenza Simmetrica** *insieme1 **^** insieme2* : Restituisce gli elementi unici, ossia gli elementi non in comune (Il contrario dell'intersezione)\n",
    "\n",
    "Vediamo alcuni esempi di queste operazioni:"
   ]
  },
  {
   "cell_type": "code",
   "execution_count": 14,
   "metadata": {},
   "outputs": [
    {
     "name": "stdout",
     "output_type": "stream",
     "text": [
      "{'mandarino', 'uva', 'arancia', 'kiwi', 'mango', 'limone', 'banana', 'mela'}\n",
      "{'kiwi', 'banana'}\n",
      "{'mango', 'arancia', 'mela'}\n",
      "{'mandarino', 'uva', 'limone', 'mango', 'arancia', 'mela'}\n"
     ]
    }
   ],
   "source": [
    "insieme1 = {'mela', 'banana', 'kiwi', 'arancia', 'mango'}\n",
    "insieme2 = {'mandarino', 'banana', 'uva', 'kiwi', 'limone'}\n",
    "\n",
    "unione = insieme1 | insieme2\n",
    "print(unione)\n",
    "intersezione = insieme1 & insieme2\n",
    "print(intersezione)\n",
    "differenza = insieme1 - insieme2\n",
    "print(differenza)\n",
    "diff_simmetrica = insieme1 ^ insieme2\n",
    "print(diff_simmetrica)"
   ]
  },
  {
   "cell_type": "markdown",
   "metadata": {},
   "source": [
    "### **Metodi Booleani sugli insiemi**\n",
    "\n",
    "Per concludere il paragrafo sugli insiemi, diamo un'occhiata ai metodi booleani definiti su essi.\n",
    "\n",
    "Per metodi booleani intendiamo dei metodi che ritornino True oppure False, rispondono quindi a una domanda *binaria*.\n",
    "\n",
    "Con questi metodi chiediamo al programma di dirci se due insiemi rispettano o meno una data condizione, come ad esempio essere disgiunti, o se l'insieme2 è un sottoinsieme dell'insieme1. Qui l'elenco dei metodi che utilizzeremo:\n",
    "\n",
    "- *insieme1.isdisjoint(insieme2)* : Ci dice se l'insieme1 è disgiunto dall'insieme2 dato come parametro (quindi se non hanno elementi in comune)\n",
    "- *insieme1.issubset(insieme2)* : Ci dice se l'insieme1 è un sottoinsieme dell'insieme 2 (se è contenuto in esso)\n",
    "- *insieme1.issuperset(insieme2)* : Ci dice se l'insieme1 contiene l'insieme2\n",
    "\n",
    "Vediamo i metodi in azione"
   ]
  },
  {
   "cell_type": "code",
   "execution_count": 15,
   "metadata": {},
   "outputs": [
    {
     "name": "stdout",
     "output_type": "stream",
     "text": [
      "{'uva', 'arancia', 'kiwi', 'banana', 'mela'} {'mango', 'melone', 'papaya'}\n",
      "L'insieme1 e l'insieme2 sono disgiunti\n",
      "I due insiemi hanno elementi in comune\n",
      "L'insieme4 è sottoinsieme dell'insieme1\n",
      "L'insieme1 contiene l'insieme4\n"
     ]
    }
   ],
   "source": [
    "insieme1 = {'arancia', 'mela', 'banana', 'kiwi', 'uva'}\n",
    "insieme2 = {'mango', 'papaya', 'melone'}\n",
    "print(insieme1, insieme2)\n",
    "\n",
    "#controllo se i due insiemi hanno elementi in comune\n",
    "if insieme1.isdisjoint(insieme2):\n",
    "    print(\"L'insieme1 e l'insieme2 sono disgiunti\")\n",
    "else:\n",
    "    print(\"I due insiemi hanno elementi in comune\")\n",
    "\n",
    "#definisco un nuovo insieme\n",
    "insieme3 = {'arancia', 'banana', 'mandarino'}\n",
    "\n",
    "#controllo se ha elementi in comune con l'insieme3\n",
    "print(\"L'insieme1 e l'insieme3 sono disgiunti\") if insieme1.isdisjoint(insieme3) else print('I due insiemi hanno elementi in comune')\n",
    "\n",
    "#definisco un nuovo insieme:\n",
    "insieme4 = {'arancia', 'mela'}\n",
    "#controllo se l'insieme 4 è un sottoinsieme dell'insieme 1\n",
    "if insieme4.issubset(insieme1): print(\"L'insieme4 è sottoinsieme dell'insieme1\")\n",
    "#controllo se l'insieme 1 è contenuto nell'insieme 4\n",
    "if insieme1.issuperset(insieme4): print(\"L'insieme1 contiene l'insieme4\")"
   ]
  },
  {
   "cell_type": "markdown",
   "metadata": {},
   "source": [
    "Passiamo ora ad un tipo di variabile collezione (nonché struttura dati) che utilizzeremo molto quando andremo a vedere qualche applicazione reale del linguaggio Python: i **dizionari**.\n",
    "\n",
    "## **Dizionari**\n",
    "\n",
    "I dizionari sono un tipo di collezione caratterizzata dal fatto che ciascun elemento contenuto in essi è definito da una coppia **(chiave : valore)**.\n",
    "\n",
    "Anche i dizionari sono delimitati da parentesi graffe '**{ }**' come gli insiemi, tuttavia sono facilmente distinguibili da questi ultimi per il loro contenuto. Di seguito definiamo un piccolo dizionario:"
   ]
  },
  {
   "cell_type": "code",
   "execution_count": 16,
   "metadata": {},
   "outputs": [
    {
     "name": "stdout",
     "output_type": "stream",
     "text": [
      "{'Inghilterra': 'Londra', 'Scozia': 'Edinburgo', 'Galles': 'Cardiff'}\n",
      "<class 'dict'>\n"
     ]
    }
   ],
   "source": [
    "capitali = {\n",
    "    'Inghilterra' : 'Londra',\n",
    "    'Scozia' : 'Edinburgo',\n",
    "    'Galles' : 'Cardiff'\n",
    "}\n",
    "\n",
    "print(capitali)\n",
    "print(type(capitali))"
   ]
  },
  {
   "cell_type": "markdown",
   "metadata": {},
   "source": [
    "Possiamo vedere un dizionario come una lista dove gli indici numerici sono sostituiti dalle chiavi.\n",
    "\n",
    "Pertanto per accedere al singolo valore che ci interessa in un dizionario utilizzeremo la notazione **dizionario[chiave]**, esattamente come per i vettori e per le tuple ma in quel con indici numerici:"
   ]
  },
  {
   "cell_type": "code",
   "execution_count": 19,
   "metadata": {},
   "outputs": [
    {
     "name": "stdout",
     "output_type": "stream",
     "text": [
      "La capitale del Galles è Cardiff\n",
      "La capitale dell'inghilterra è Londra\n"
     ]
    }
   ],
   "source": [
    "print('La capitale del Galles è', capitali['Galles'])\n",
    "capitale_inghilterra = capitali['Inghilterra']\n",
    "print('La capitale dell\\'inghilterra è', capitale_inghilterra)"
   ]
  },
  {
   "cell_type": "markdown",
   "metadata": {},
   "source": [
    "Essendo il dizionario un **iterabile**, possiamo scorrere i suoi elementi con un ciclo for. Tuttavia l'output potrebbe essere inaspettato ad un primo sguardo:"
   ]
  },
  {
   "cell_type": "code",
   "execution_count": 26,
   "metadata": {},
   "outputs": [
    {
     "name": "stdout",
     "output_type": "stream",
     "text": [
      "Inghilterra\n",
      "Scozia\n",
      "Galles\n"
     ]
    }
   ],
   "source": [
    "for i in capitali:\n",
    "    print(i)"
   ]
  },
  {
   "cell_type": "markdown",
   "metadata": {},
   "source": [
    "Come possiamo vedere dall'output, quando il dizionario viene *interrogato* con un ciclo for, quello che ci restituisce sono le chiavi che contiene. Quindi se siamo interessati ai valori o alle coppie chiave:valore, dobbiamo aggiungere un po' di fantasia e di lavoro extra:"
   ]
  },
  {
   "cell_type": "code",
   "execution_count": 27,
   "metadata": {},
   "outputs": [
    {
     "name": "stdout",
     "output_type": "stream",
     "text": [
      "Londra\n",
      "Edinburgo\n",
      "Cardiff\n",
      "Inghilterra :: Londra\n",
      "Scozia :: Edinburgo\n",
      "Galles :: Cardiff\n"
     ]
    }
   ],
   "source": [
    "#stampare i valori di un dizionario con un ciclo for\n",
    "for key in capitali:\n",
    "    print(capitali[key])\n",
    "    \n",
    "#stampare le coppie chiave-valore di un dizionario con un ciclo for\n",
    "\n",
    "for key in capitali:\n",
    "    print(key, '::', capitali[key])"
   ]
  },
  {
   "cell_type": "markdown",
   "metadata": {},
   "source": [
    "### **Definire un dizionario a partire da un altro iterabile**\n",
    "\n",
    "Un altro modo per definire un dizionario è quello di farlo a partire da un altro iterabile (come una lista o una tupla) attraverso la funzione **dict()**.\n",
    "\n",
    "**ATTENZIONE**: è chiaro come la funzione *dict()* debba poter stabilire quali siano le chiavi e quali i valori, pertanto non possiamo utilizzare un iterabile qualsiasi per trasformarlo in un dizionario.\n",
    "\n",
    "In particolare, è importante che l'iterabile scelto abbia la seguente struttura:\n",
    "\n",
    "`iterabile = [(chiave1, valore1), (chiave2, valore2,), ..., (chiaveN, valoreN)]`\n",
    "\n",
    "Quindi l'iterabile deve contenere al suo interno **altri N iterabili** composti da due elementi: Il primo elemento sarà considerato come chiave da dict(), il secondo come valore associato a quella chiave.\n",
    "\n",
    "Vediamo un esempio:"
   ]
  },
  {
   "cell_type": "code",
   "execution_count": 30,
   "metadata": {},
   "outputs": [
    {
     "name": "stdout",
     "output_type": "stream",
     "text": [
      "Regno Unito Londra\n",
      "Germania Berlino\n",
      "Spanga Madrid\n",
      "{'Regno Unito': 'Londra', 'Germania': 'Berlino', 'Spanga': 'Madrid'}\n"
     ]
    }
   ],
   "source": [
    "#lista di tuple da trasformare in un dizionario\n",
    "iterabile_capitali = [('Regno Unito', 'Londra'),\n",
    "                     ('Germania', 'Berlino'),\n",
    "                     ('Spanga', 'Madrid')]\n",
    "#il primo elemento di ogni tupla diventerà una chiave, il secondo il valore\n",
    "\n",
    "dizionario_capitali = dict(iterabile_capitali)\n",
    "for key in dizionario_capitali:\n",
    "    print(key, dizionario_capitali[key])\n",
    "    \n",
    "print(dizionario_capitali)"
   ]
  },
  {
   "cell_type": "markdown",
   "metadata": {},
   "source": [
    "> **NOTA**: La scelta di utilizzare una lista di tuple è puramente arbitraria. Una lista di liste o una tupla di tuple o una tupla di liste sarebbero state perfettamente equivalenti, purché di dimensione N*2\n",
    "\n",
    "Vediamo ora come aggiungere o rimuovere elementi da un dizionario.\n",
    "\n",
    "### **Aggiungere o rimuovere elementi**\n",
    "\n",
    "Aggiungere un elemento ad un dizionario è abbastanza banale. È infatti sufficiente specificare una nuova chiave tra parentesi quadre e assegnarle un valore:"
   ]
  },
  {
   "cell_type": "code",
   "execution_count": 33,
   "metadata": {},
   "outputs": [
    {
     "name": "stdout",
     "output_type": "stream",
     "text": [
      "{'Regno Unito': 'Londra', 'Spagna': 'Madrid'}\n",
      "Aggiungo la Germania...\n",
      "{'Regno Unito': 'Londra', 'Spagna': 'Madrid', 'Germania': 'Berlino'}\n",
      "{'Regno Unito': 'Londra', 'Spagna': 'Madrid', 'Germania': 'Berlino', 'Birmania': 'Myanmar'}\n"
     ]
    }
   ],
   "source": [
    "capitali = {\n",
    "    'Regno Unito' : 'Londra',\n",
    "    'Spagna' : 'Madrid'\n",
    "}\n",
    "\n",
    "print(capitali)\n",
    "print('Aggiungo la Germania...')\n",
    "capitali['Germania'] = 'Berlino'\n",
    "print(capitali)\n",
    "capitali['Birmania'] = 'Myanmar'\n",
    "print(capitali)"
   ]
  },
  {
   "cell_type": "markdown",
   "metadata": {},
   "source": [
    "Mentre, se volessimo aggiungere più elementi alla volta, possiamo utilizzare il metodo *dict.update(iterabile)*.\n",
    "\n",
    "Di nuovo, l'iterabile può essere sia un dizionario che un'iterabile generico, purché rispetti le condizioni necessarie, ossia che abbia dimensione N*2:"
   ]
  },
  {
   "cell_type": "code",
   "execution_count": 35,
   "metadata": {},
   "outputs": [
    {
     "name": "stdout",
     "output_type": "stream",
     "text": [
      "{'Regno Unito': 'Londra', 'Spagna': 'Madrid', 'Germania': 'Berlino', 'Birmania': 'Myanmar', 'Italia': 'Roma', 'Grecia': 'Atene', 'Portogallo': 'Lisbona', 'Austria': 'Vienna'}\n",
      "{'Regno Unito': 'Londra', 'Spagna': 'Madrid', 'Germania': 'Berlino', 'Birmania': 'Myanmar', 'Italia': 'Roma', 'Grecia': 'Atene', 'Portogallo': 'Lisbona', 'Austria': 'Vienna'}\n"
     ]
    }
   ],
   "source": [
    "prima_aggiunta = {\n",
    "    'Italia' : 'Roma',\n",
    "    'Grecia' : 'Atene'\n",
    " }\n",
    "\n",
    "#aggiungo un dizionario\n",
    "capitali.update(prima_aggiunta)\n",
    "print(capitali)\n",
    "\n",
    "#aggiungo un generico iterabile di dimensione N*2\n",
    "seconda_aggiunta = [('Portogallo', 'Lisbona'), ('Austria', 'Vienna')]\n",
    "\n",
    "capitali.update(seconda_aggiunta)\n",
    "print(capitali)"
   ]
  },
  {
   "cell_type": "markdown",
   "metadata": {},
   "source": [
    "Per quanto riguarda invece la *rimozione* di elementi da un dizionario, ho due opzioni:\n",
    "- Il metodo *dict.pop(chiave)* : Rimuove la chiave indicata e l'elemento corrispondente dal dizionario\n",
    "- La keyword **del** *dizionario[chiave]* : Stesso risultato di *dict.pop()*\n",
    "\n",
    "La differenza sostanziale tra questi due approcci, è che pop() **ritorna l'elemento rimosso**, mentre **del** si limita a rimuoverlo:"
   ]
  },
  {
   "cell_type": "code",
   "execution_count": 36,
   "metadata": {},
   "outputs": [
    {
     "name": "stdout",
     "output_type": "stream",
     "text": [
      "Lisbona\n",
      "{'Regno Unito': 'Londra', 'Spagna': 'Madrid', 'Germania': 'Berlino', 'Birmania': 'Myanmar', 'Italia': 'Roma', 'Grecia': 'Atene', 'Austria': 'Vienna'}\n",
      "{'Regno Unito': 'Londra', 'Spagna': 'Madrid', 'Germania': 'Berlino', 'Birmania': 'Myanmar', 'Grecia': 'Atene', 'Austria': 'Vienna'}\n"
     ]
    }
   ],
   "source": [
    "elemento_rimosso_con_pop = capitali.pop('Portogallo')\n",
    "print(elemento_rimosso_con_pop)\n",
    "print(capitali)\n",
    "\n",
    "del capitali['Italia']\n",
    "print(capitali)"
   ]
  },
  {
   "cell_type": "markdown",
   "metadata": {},
   "source": [
    "### **Metodi per estrarre informazioni**\n",
    "\n",
    "I seguenti metodi ci permettono di estrarre le chiavi, i valori, o le coppie chiave-valore contenute in un dizionario.\n",
    "\n",
    "Tutti e tre i metodi ritornano degli iterabili, che possono essere trasformati in tuple, liste o insiemi per poi essere utilizzate in altri contesti.\n",
    "\n",
    "I metodi che presenteremo sono i seguenti:\n",
    "- *dict.keys()* : Restituisce un iterabile contenente le chiavi del dizionario\n",
    "- *dict.values()* : Restituisce un iterabile contenente i valori del dizionario\n",
    "- *dict.items()* : Restituisce un iterabile contenente le coppie chiave:valore del dizionario"
   ]
  },
  {
   "cell_type": "code",
   "execution_count": 41,
   "metadata": {},
   "outputs": [
    {
     "name": "stdout",
     "output_type": "stream",
     "text": [
      "Ecco le chiavi estratte con keys()\n",
      "dict_keys(['Regno Unito', 'Spagna', 'Germania', 'Birmania', 'Grecia', 'Austria']) <class 'dict_keys'>\n",
      "Ecco i valori estratti con values()\n",
      "dict_values(['Londra', 'Madrid', 'Berlino', 'Myanmar', 'Atene', 'Vienna']) <class 'dict_values'>\n",
      "Ecco le coppie chiave:valore estratte con items()\n",
      "dict_items([('Regno Unito', 'Londra'), ('Spagna', 'Madrid'), ('Germania', 'Berlino'), ('Birmania', 'Myanmar'), ('Grecia', 'Atene'), ('Austria', 'Vienna')]) <class 'dict_items'>\n"
     ]
    }
   ],
   "source": [
    "chiavi = capitali.keys()\n",
    "print('Ecco le chiavi estratte con keys()')\n",
    "print(chiavi, type(chiavi))\n",
    "\n",
    "valori = capitali.values()\n",
    "print('Ecco i valori estratti con values()')\n",
    "print(valori, type(valori))\n",
    "\n",
    "coppie = capitali.items()\n",
    "print('Ecco le coppie chiave:valore estratte con items()')\n",
    "print(coppie, type(coppie))"
   ]
  },
  {
   "cell_type": "markdown",
   "metadata": {},
   "source": [
    "Come vediamo dall'output, ciascuno di questi iterabili ha un tipo a sé stante.\n",
    "\n",
    "Per poterci lavorare meglio potrebbe essere conveniente trasformarli in liste con la funzione *list()* che già conosciamo:"
   ]
  },
  {
   "cell_type": "code",
   "execution_count": 42,
   "metadata": {},
   "outputs": [
    {
     "name": "stdout",
     "output_type": "stream",
     "text": [
      "['Regno Unito', 'Spagna', 'Germania', 'Birmania', 'Grecia', 'Austria']\n",
      "['Londra', 'Madrid', 'Berlino', 'Myanmar', 'Atene', 'Vienna']\n",
      "[('Regno Unito', 'Londra'), ('Spagna', 'Madrid'), ('Germania', 'Berlino'), ('Birmania', 'Myanmar'), ('Grecia', 'Atene'), ('Austria', 'Vienna')]\n"
     ]
    }
   ],
   "source": [
    "lista_chiavi = list(chiavi)\n",
    "lista_valori = list(valori)\n",
    "lista_oggetti = list(coppie)\n",
    "\n",
    "print(lista_chiavi)\n",
    "print(lista_valori)\n",
    "print(lista_oggetti)"
   ]
  },
  {
   "cell_type": "markdown",
   "metadata": {},
   "source": [
    "## **Esercizi**\n",
    "\n",
    "1. Dati i due vettori qui sotto, utilizzare gli elementi del primo vettore come chiavi e quelli del secondo vettore come valori per creare un dizionario:\n",
    "\n",
    "`vett1 = ['Cane', 'Gatto', 'Topo', 'Maiale'] vett2 = ['Bau', 'Miao', 'Squit', 'Oink']`\n",
    "\n",
    "2. Utilizzare il metodo format() per stampare le coppie chiave valore del dizionario nel seguente formato:\n",
    "\n",
    "`Chiave1 -> Valore1\n",
    "Chiave2 -> Valore2\n",
    "...................\n",
    "Chiave3 -> Valore3`\n",
    "\n",
    "3. Dato il seguente vettore, eliminare gli elementi presenti più volte al suo interno:\n",
    "\n",
    "`vett = [1, 2, 3, 4, 1, 5, 5, 6, 3, 7, 1, 8]`\n",
    "\n",
    "4. Dati i due vettori seguenti, generare un vettore v3 che contenga solo gli elementi che i due vettori hanno in comune:\n",
    "\n",
    "`v1 = [1, 2, 3, 4, 5, 6, 7, 8, 9]\n",
    "v2 = [1, 3, 5, 7, 9, 11, 13,]`\n",
    "\n",
    "5. Generare un vettore contenente 50 numeri casuali compresi tra 0 e 10, eliminare i duplicati, ri-ordinare gli elementi in ordine decrescente e stampare il vettore risultante. *Suggerimento:* ad un certo punto è consigliabile cercare online come risolvere uno di questi passaggi.\n",
    "\n",
    "## **Soluzioni**\n",
    "..\n",
    "\n",
    "..\n",
    "\n",
    "..\n",
    "\n",
    "..\n",
    "\n",
    "..\n",
    "\n",
    "..\n",
    "\n",
    "..\n",
    "\n",
    "..\n",
    "\n",
    "..\n",
    "\n",
    "..\n",
    "\n",
    "..\n",
    "\n",
    "..\n",
    "\n",
    "..\n",
    "\n",
    "..\n",
    "\n",
    "..\n",
    "\n",
    "..\n",
    "\n",
    "## Esercizio 1\n",
    "\n",
    "Per il primo esercizio vengono proposte due soluzioni.\n",
    "\n",
    "La prima utilizza un ciclo for per riempire un vettore nel modo appropriato, affinché possa essere usato per costruire un dizionario con dict().\n",
    "\n",
    "Il secondo metodo utilizza la funzione ***zip(v1, v2)***, che prende due vettori di dimensioni uguali e genera un vettore di tuple così strutturato:\n",
    "\n",
    "`a = [a1, a2, a3, ..., aN\n",
    "b = [b1, b2, b3, ..., bN\n",
    "zippato = zip(a, b) --->  [(a1, b1), (a2, b2), (a3, b3), ..., (aN, bN]`"
   ]
  },
  {
   "cell_type": "code",
   "execution_count": 43,
   "metadata": {},
   "outputs": [
    {
     "name": "stdout",
     "output_type": "stream",
     "text": [
      "{'Cane': 'Bau', 'Gatto': 'Miao', 'Topo': 'Squit', 'Maiale': 'Oink'}\n"
     ]
    }
   ],
   "source": [
    "#soluzione 1\n",
    "\n",
    "vett1 = ['Cane', 'Gatto', 'Topo', 'Maiale']\n",
    "vett2 = ['Bau', 'Miao', 'Squit', 'Oink']\n",
    "lista_per_dizionario = [] #lista vuota da riempire con le coppie\n",
    "for i in range(len(vett1)):\n",
    "    tupla_coppia = (vett1[i], vett2[i]) #genero la tupla (chiave, valore)\n",
    "    lista_per_dizionario.append(tupla_coppia) #aggiungo la coppia alla lista\n",
    "dizionario = dict(lista_per_dizionario) #creo il dizionario con dict()\n",
    "print(dizionario)"
   ]
  },
  {
   "cell_type": "code",
   "execution_count": 44,
   "metadata": {},
   "outputs": [
    {
     "name": "stdout",
     "output_type": "stream",
     "text": [
      "('Cane', 'Bau')\n",
      "('Gatto', 'Miao')\n",
      "('Topo', 'Squit')\n",
      "('Maiale', 'Oink')\n",
      "{'Cane': 'Bau', 'Gatto': 'Miao', 'Topo': 'Squit', 'Maiale': 'Oink'}\n"
     ]
    }
   ],
   "source": [
    "#soluzione 2 - funzione zip()\n",
    "\n",
    "vett1 = ['Cane', 'Gatto', 'Topo', 'Maiale']\n",
    "vett2 = ['Bau', 'Miao', 'Squit', 'Oink']\n",
    "lista_per_dizionario = zip(vett1, vett2)\n",
    "\n",
    "#vediamo cosa ha generato zip:\n",
    "for entry in lista_per_dizionario:\n",
    "    print(entry)\n",
    "    \n",
    "#per scrivere il tutto in modo più compatto:\n",
    "\n",
    "dizionario = dict(zip(vett1, vett2))\n",
    "print(dizionario)"
   ]
  },
  {
   "cell_type": "markdown",
   "metadata": {},
   "source": [
    "## Esercizio 2"
   ]
  },
  {
   "cell_type": "code",
   "execution_count": 45,
   "metadata": {},
   "outputs": [
    {
     "name": "stdout",
     "output_type": "stream",
     "text": [
      "Cane -> Bau\n",
      "Gatto -> Miao\n",
      "Topo -> Squit\n",
      "Maiale -> Oink\n"
     ]
    }
   ],
   "source": [
    "for key in dizionario:\n",
    "    print('{} -> {}'.format(key, dizionario[key]))"
   ]
  },
  {
   "cell_type": "markdown",
   "metadata": {},
   "source": [
    "## Esercizio 3"
   ]
  },
  {
   "cell_type": "code",
   "execution_count": null,
   "metadata": {},
   "outputs": [],
   "source": [
    "vett = [1, 2, 3, 4, 1, 5, 5, 6, 3, 7, 1, 8]\n",
    "vettore_pulito = list(set(vett))\n",
    "print(vettore_pulito)"
   ]
  },
  {
   "cell_type": "markdown",
   "metadata": {},
   "source": [
    "## Esercizio 4"
   ]
  },
  {
   "cell_type": "code",
   "execution_count": null,
   "metadata": {},
   "outputs": [],
   "source": [
    "v1 = [1, 2, 3, 4, 5, 6, 7, 8, 9]\n",
    "v2 = [1, 3, 5, 7, 9, 11, 13,]\n",
    "\n",
    "vettore_intersezione = list(set(v1) & set(v2))\n",
    "print(vettore_intersezione)"
   ]
  },
  {
   "cell_type": "markdown",
   "metadata": {},
   "source": [
    "## Esercizio 5"
   ]
  },
  {
   "cell_type": "code",
   "execution_count": null,
   "metadata": {},
   "outputs": [],
   "source": [
    "from random import randint\n",
    "\n",
    "vett = []\n",
    "for i in range(50):\n",
    "    vett.append(randint(0, 10))\n",
    "    \n",
    "insieme = set(vett)\n",
    "vett = list(insieme)\n",
    "vett.sort(reverse = True)\n",
    "print(vett)"
   ]
  }
 ],
 "metadata": {
  "kernelspec": {
   "display_name": "Python 3",
   "language": "python",
   "name": "python3"
  },
  "language_info": {
   "codemirror_mode": {
    "name": "ipython",
    "version": 3
   },
   "file_extension": ".py",
   "mimetype": "text/x-python",
   "name": "python",
   "nbconvert_exporter": "python",
   "pygments_lexer": "ipython3",
   "version": "3.8.8"
  }
 },
 "nbformat": 4,
 "nbformat_minor": 4
}
