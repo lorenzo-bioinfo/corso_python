{
 "cells": [
  {
   "cell_type": "markdown",
   "metadata": {},
   "source": [
    "# **Funzioni**\n",
    "\n",
    "In questa lezione ci occuperemo di funzioni.\n",
    "\n",
    "Una definizione formale di funzione ci viene data da Wikipedia:\n",
    ">**Funzione**: Una funzione (detta anche routine, subroutine, procedura, sottoprogramma o metodo), in informatica e nell'ambito della programmazione, è un particolare costrutto sintattico di un determinato linguaggio di programmazione che permette di raggruppare, all'interno di un programma, una sequenza di istruzioni in un unico blocco, espletando così una specifica (e in generale più complessa) operazione, azione (o elaborazione) sui dati del programma stesso in modo tale che, a partire da determinati input, restituisca determinati output.\n",
    "\n",
    "In soldoni, possiamo dire che una funzione è una raccolta di operazioni elementari che eseguite sequenzialmente portano a termine un compito ben specificato. Generalmente questo compito viene svolto lavorando su delle variabili per modificarle o produrre un output.\n",
    "\n",
    "Abbiamo già utilizzato diverse funzioni nel corso delle lezioni, come ad esempio *print()*, *type()* o *input()*, e queste ricadono nella categoria delle funzioni **built-in**, ossia presenti di default nel linguaggio di programmazione Python.\n",
    "\n",
    "Abbiamo anche visto come sia possibile importare funzioni da moduli o librerie esterne, con la keyword **import**, quando abbiamo importanto la funzione *randint()* dal modulo **random**, per simulare il lancio di un dado.\n",
    "\n",
    "Il passo successivo è quello di utilizzare funzioni scritte da noi. Questo è comodo per suddividere un programma complesso in unità funzionali, che svolgano compiti ben determinati e che nel loro complesso portino a termine il compito che ci siamo prefissati. Questo porta dei vantaggi evidenti in termini di organizzazione, compattezza e leggibilità del codice.\n",
    "\n",
    "Prima di vedere come si definiscono e si utilizzano le funzioni in python, un pò di **best practice**:\n",
    " 1. **Nomi delle funzioni**:\n",
    "     - il nome di una funzione dovrebbe essere scritto in lettere minuscole;\n",
    "     - se composto da più parole, queste dovrebbero essere separate da un underscore (**_**);\n",
    "     - il nome della funzione dovrebbe ricordare un predicato, un azione, e dovrebbe riflettere lo scopo della funzione.\n",
    " 2. **Compito di una funzione**:\n",
    "     - una funzione dovrebbe rispettare il principio di **single responsibility**. Se il nostro programma deve scaricare una pagina web, cercare un valore al suo interno e poi stamparlo, è consigliabile che ognuno di questi 3 compiti sia svolto da una funzione a sé stante. Questo migliora la leggibilità del codice e facilita la sua manutenzione.\n",
    "     - Il compito di una funzione dovrebbe essere descritto nel modo più chiaro e conciso possibile nella **docstring**, vedi più avanti.\n",
    "    \n",
    "Al fine di poter utilizzare una funzione è necessario PRIMA **definirla** e POI **chiamarla**.\n",
    "\n",
    "La sintassi per la definizione di una funzione è \n",
    "\n",
    "`def nome_funzione(parametri):\n",
    "    codice`\n",
    "    \n",
    "Quindi utilizziamo la *keyword* **def** per definire una funzione.\n",
    "\n",
    "Per chiamare una funzione basta scrivere il suo nome e fornirle gli opportuni parametri.\n",
    "\n",
    "Vediamo ora una semplice definizione e chiamata di una funzione che prende in input un numero intero e ci restituisce il suo quadrato:"
   ]
  },
  {
   "cell_type": "code",
   "execution_count": 5,
   "metadata": {},
   "outputs": [
    {
     "name": "stdout",
     "output_type": "stream",
     "text": [
      "16\n",
      "funzione che restituisce il quadrato di un numero\n"
     ]
    }
   ],
   "source": [
    "def square(n):\n",
    "    \"\"\"funzione che restituisce il quadrato di un numero\"\"\"\n",
    "    quadrato = n ** 2\n",
    "    return(quadrato)\n",
    "\n",
    "numero_al_quadrato = square(4)\n",
    "print(numero_al_quadrato)\n",
    "print(square.__doc__)"
   ]
  },
  {
   "cell_type": "markdown",
   "metadata": {},
   "source": [
    "Analizziamo uno per uno gli elementi di questa funzione:\n",
    "- \"def square(n):\" stiamo definendo la funzione, usando la keyword **def**, specificando il suo nome (notare come il nome sia un verbo), e stabilendo quali argomenti siano necessari affinché funzioni. In questo caso è sufficiente un parametro, che sarà il numero da elevare al quadrato. I due punti stabiliscono che da quel momento in poi scriveremo quello che la funzione **farà**, ossia il codice che verrà eseguito quando la funzione verrà chiamata. Questo codice sarà rappresentato da tutte le righe indentate dopo la riga di definizione.\n",
    "\n",
    "- la \"\"\"docstring\"\"\": questa riga è la **docstring**. La docstring descrive il comportamento della funzione, ed è visualizzabile stampando *nome_funzione.\\__doc__*. Non è obbligatoria, e nel nostro caso è veramente superflua, ma per funzioni più complesse sarebbe buona norma inserirla.\n",
    ">**NOTA**: quando il nome di un metodo inizia e finisce con due caratteri underscore, significa che è un metodo *speciale*. Vedremo cosa significa quando vedremo la programmazione ad oggetti.\n",
    "- corpo della funzione ----> nel nostro caso si tratta di una singola istruzione, ossia definire una variabile chiamata quadrato, e assegnarle il valore n^2. Ovviamente per funzioni più complesse il corpo della funzione si popolerà di molte più righe di codice\n",
    "- il **return**: la keyword **return** stabilisce quale sarà il valore che la funzione ci restituirà in output. È \"grazie\" al return se siamo riusciti ad assegnare l'output della funzione alla variabile numero_al_quadrato\n",
    "\n",
    "Vediamo ora una funzione leggermente più complessa, che prende in input due numeri e ci restituisce il più grande.\n",
    "\n",
    "La scriveremo prima in una forma più prolissa, e poi in una forma più concisa"
   ]
  },
  {
   "cell_type": "code",
   "execution_count": 6,
   "metadata": {},
   "outputs": [
    {
     "name": "stdout",
     "output_type": "stream",
     "text": [
      "2\n"
     ]
    }
   ],
   "source": [
    "def get_bigger(a, b):\n",
    "    if a > b:\n",
    "        return a\n",
    "    else:\n",
    "        return b\n",
    "\n",
    "a = 2\n",
    "b = 1\n",
    "maggiore = get_bigger(a, b)\n",
    "print(maggiore)"
   ]
  },
  {
   "cell_type": "code",
   "execution_count": 9,
   "metadata": {},
   "outputs": [
    {
     "name": "stdout",
     "output_type": "stream",
     "text": [
      "2\n"
     ]
    }
   ],
   "source": [
    "def get_bigger_v2(a, b):\n",
    "    return a if a > b else b\n",
    "a = 1\n",
    "b = 2\n",
    "print(get_bigger_v2(a, b))"
   ]
  },
  {
   "cell_type": "markdown",
   "metadata": {},
   "source": [
    "Come abbiamo visto (giusto per rimarcare l'ovvio) una funzione può prendere più di un parametro.\n",
    "\n",
    "Tutti i parametri che abbiamo specificato nella definizione della funzione sono **obbligatori**, quindi se cerchiamo di chiamare la funzione passando un numero non sufficiente di parametri riceveremo un errore:"
   ]
  },
  {
   "cell_type": "code",
   "execution_count": 10,
   "metadata": {},
   "outputs": [
    {
     "ename": "TypeError",
     "evalue": "get_bigger() missing 1 required positional argument: 'b'",
     "output_type": "error",
     "traceback": [
      "\u001b[0;31m---------------------------------------------------------------------------\u001b[0m",
      "\u001b[0;31mTypeError\u001b[0m                                 Traceback (most recent call last)",
      "\u001b[0;32m<ipython-input-10-4e2781bb6c37>\u001b[0m in \u001b[0;36m<module>\u001b[0;34m\u001b[0m\n\u001b[0;32m----> 1\u001b[0;31m \u001b[0mget_bigger\u001b[0m\u001b[0;34m(\u001b[0m\u001b[0ma\u001b[0m\u001b[0;34m)\u001b[0m\u001b[0;34m\u001b[0m\u001b[0;34m\u001b[0m\u001b[0m\n\u001b[0m",
      "\u001b[0;31mTypeError\u001b[0m: get_bigger() missing 1 required positional argument: 'b'"
     ]
    }
   ],
   "source": [
    "get_bigger(a)"
   ]
  },
  {
   "cell_type": "markdown",
   "metadata": {},
   "source": [
    "In questo caso non potevamo aspettarci nulla di diverso: affinché si possano confrontare dei numeri è indispensabile che ce ne siano almeno due.\n",
    "\n",
    "Tuttavia python ci offre la possibilità di definire dei parametri **opzionali**.\n",
    "Per spiegare questo concetto supponiamo di voler scrivere una funzione che stampa i numeri da 0 ad n, dove n è un parametro fornito dall'utente. Tuttavia, se n non viene fornito, la funzione stamperà i numeri da 0 a 9 di default.\n",
    "\n",
    "Per ottenere questo risultato passiamo l'argomento n nel modo seguente:"
   ]
  },
  {
   "cell_type": "code",
   "execution_count": 13,
   "metadata": {},
   "outputs": [
    {
     "name": "stdout",
     "output_type": "stream",
     "text": [
      "Stampa con parametro fornito:\n",
      "0  1  2  3  4  \n",
      "Stampa senza parametro fornito: \n",
      "0  1  2  3  4  5  6  7  8  9  "
     ]
    }
   ],
   "source": [
    "def stampa_serie(n = 10):\n",
    "    for i in range(n):\n",
    "        print(i, end = '  ') #end ci permette di specificare il carattere finale della stampa. Di default print va a capo\n",
    "\n",
    "print('Stampa con parametro fornito:')\n",
    "stampa_serie(5)\n",
    "print('\\nStampa senza parametro fornito: ')\n",
    "stampa_serie()"
   ]
  },
  {
   "cell_type": "markdown",
   "metadata": {},
   "source": [
    "Quindi possiamo stabilire che un argomento sia opzionale assegnandogli un valore di default in fase di definizione della funzione.\n",
    "In questo caso non risolve nessun particolare problema poiché la funzione in sé non serve a molto, ma in vari casi questo è molto utile.\n",
    "> Diamo ad esempio un occhiata alla funzione *linakge()* definita nel modulo **cluster.hierarchy** della libreria **scipy**:\n",
    ">\n",
    ">`linkage(y, method='single', metric='euclidean', optimal_ordering=False)`\n",
    ">\n",
    ">I parametri di questa funzione definiscono in che modo sarà effettuato il cluster. L'utente può decidere se modificarne alcuni o tutti, ma se si limitasse a chiamare la funzione passando solo i dati da clusterizzare (y), la funzione lavorerebbe con i parametri definiti di default.\n",
    "\n",
    "È importante ricordare che gli argomenti opzionali vanno **SEMPRE** passati **DOPO** gli argomenti obbligatori.\n",
    "\n",
    "Supponiamo di voler definire una funzione che stabilisce qual'è il numero più grande non tra due valori, ma tra un insieme di valori. Per ottenere questo abbiamo due possibili strade. La prima e la più intuitiva è quella fornire alla funzione un vettore di numeri:"
   ]
  },
  {
   "cell_type": "code",
   "execution_count": 14,
   "metadata": {},
   "outputs": [
    {
     "name": "stdout",
     "output_type": "stream",
     "text": [
      "134\n"
     ]
    }
   ],
   "source": [
    "def get_bigger_in_list(list):\n",
    "    maggiore = list[0]\n",
    "    for x in list:\n",
    "        if x > maggiore: maggiore = x\n",
    "    return maggiore\n",
    "\n",
    "lista = [1, 2, 5, 134, 1]\n",
    "print(get_bigger_in_list(lista))"
   ]
  },
  {
   "cell_type": "markdown",
   "metadata": {},
   "source": [
    "L'alternativa è quella di usare l'argomento **\\*args**.\n",
    "\n",
    "\\*args è un argomento speciale che raccoglie tutti i parametri aggiuntivi che passiamo ad una funzione. Con aggiuntivi intendo argomenti che non sono stati \"*previsti*\" in fase di definizione della funzione. Per chiarire questo aspetto riscriviamo la funzione sopra utilizzando il parametro \\*args, e poi scriviamo una funzione che organizza una festa, perché siamo gente allegra!"
   ]
  },
  {
   "cell_type": "code",
   "execution_count": 21,
   "metadata": {},
   "outputs": [
    {
     "name": "stdout",
     "output_type": "stream",
     "text": [
      "145\n"
     ]
    }
   ],
   "source": [
    "def get_bigger_with_args(*args):\n",
    "    maggiore = args[0]\n",
    "    for x in args:\n",
    "        if x > maggiore: maggiore = x\n",
    "    return maggiore\n",
    "\n",
    "print(get_bigger_with_args(1, 2, 3, 145, 8))"
   ]
  },
  {
   "cell_type": "markdown",
   "metadata": {},
   "source": [
    "**\\*args** ha raccolto tutti i numeri che abbiamo passato alla funzione in fase di chiamata, e li ha infilati in un vettore chiamato **args**.\n",
    "Successivamente abbiamo ciclato su quel vettore per trovare il numero più grande. Il vantaggio di questo approccio è che la funzione avrebbe funzionato anche con più o meno numeri.\n",
    "\n",
    "Sostanzialmente non c'è una grande differenza tra passare un vettore di elementi o utilizzare \\*args, quindi la scelta su cosa utilizzare è lasciata allo sviluppatore.\n",
    "\n",
    "Ma ci eravamo promessi una festa, ed è giusto farla:"
   ]
  },
  {
   "cell_type": "code",
   "execution_count": 25,
   "metadata": {},
   "outputs": [
    {
     "name": "stdout",
     "output_type": "stream",
     "text": [
      "Lorenzo sta dando una festa\n",
      "Viviana si è unito/a alla festa!\n",
      "Dario si è unito/a alla festa!\n",
      "Adriano si è unito/a alla festa!\n",
      "Alessia si è unito/a alla festa!\n",
      "Paolo si è unito/a alla festa!\n",
      "Blasco si è unito/a alla festa!\n"
     ]
    }
   ],
   "source": [
    "def throw_party(host, *invitati):\n",
    "    print(\"{} sta dando una festa\".format(host))\n",
    "    for invitato in invitati:\n",
    "        print(\"{} si è unito/a alla festa!\".format(invitato))\n",
    "\n",
    "throw_party('Lorenzo', 'Viviana', 'Dario', 'Adriano', 'Alessia', 'Paolo', 'Blasco')"
   ]
  },
  {
   "cell_type": "markdown",
   "metadata": {},
   "source": [
    "Ragioniamo sulla festa che abbiamo organizzato e facciamo alcune considerazioni:\n",
    "1. Non è indispensabile utilizzare la parola *args*, quello che conta è l'asterisco. Infatti abbiamo sostituito \\**args* con \\**invitati*;\n",
    "2. Se vogliamo utilizzare \\*args, dobbiamo farlo dopo le variabili obbligatorie e dopo quelle opzionali: va messo in fondo ai parametri;\n",
    "3. Una funzione non deve necessariamente restituire un valore, infatti qui non c'è nessun return. Questo è tipico delle funzioni che stampano semplicemente delle informazioni a schermo;\n",
    "4. Ci siamo divertiti :)\n",
    "\n",
    "Un ultimo tipo di parametro che possiamo passare ad una funzione è **\\*\\*kwargs**.\n",
    "\n",
    "Questo è molto simile a \\*args, tuttavia invece di generare un vettore con i valori che gli vengono forniti, genera un dizionario. Il suo nome esteso è infatti **keyword-arguments**. Vediamolo in azione prima di commentarlo: la funzione seguente stampa i punteggi ottenuti da N giocatori in un videogioco."
   ]
  },
  {
   "cell_type": "code",
   "execution_count": 26,
   "metadata": {},
   "outputs": [
    {
     "name": "stdout",
     "output_type": "stream",
     "text": [
      "Space Invaders scores:\n",
      "player_1 98\n",
      "player_2 76\n",
      "player_3 132\n"
     ]
    }
   ],
   "source": [
    "def get_scoreboard(game, **kwargs):\n",
    "    print(game, 'scores:')\n",
    "    for key in kwargs:\n",
    "        print(key, kwargs[key])\n",
    "        \n",
    "get_scoreboard('Space Invaders', player_1 = 98, player_2 = 76, player_3 = 132)"
   ]
  },
  {
   "cell_type": "markdown",
   "metadata": {},
   "source": [
    "Quello che fa kwargs, è raccogliere tutti i parametri passati dopo il primo parametro obbligatorio (game) e li raccoglie in un dizionario.\n",
    "Quindi nel nostro caso genera una struttura dati di questo tipo:\n",
    ">`kwargs = {\n",
    ">    'player_1' : 98,\n",
    ">    'player_2' : 76,\n",
    ">    'player_3' : 132}`\n",
    "\n",
    "Dovremmo riconoscere questa struttura come un dizionario, e con questa informazione dovremmo capire cosa succede nel corpo della funzione. Se così non fosse, suggerisco di tornare alla lezione 4!\n",
    "\n",
    "## **Esercizi**\n",
    "1. Scrivere una funzione che restituisca il fattoriale di un numero n dato come parametro.\n",
    "2. Scrivere una funzione che restituisca un vettore contenente i numeri della serie di fibonacci partendo da 1 fino ad arrivare al primo numero maggiore del numero n passato come parametro. Se nessun parametro viene fornito, assume che n sia 50.\n",
    "3. Scrivere un programma che chieda il nome all'utente, per poi inserirlo in una frase di benvenuto e stampare la frase. Suddividere questo compito in 3 funzioni separate e poi chiamarle nella corretta sequenza.\n",
    "4. Scrivere lo stesso programma, sempre suddiviso in 3 funzioni, ma che dia il benvenuto a più persone, fornite separatamente, utilizzando *args\n",
    "\n",
    "## **Soluzioni**\n",
    "\n",
    "..\n",
    "\n",
    "..\n",
    "\n",
    "..\n",
    "\n",
    "..\n",
    "\n",
    "..\n",
    "\n",
    "..\n",
    "\n",
    "..\n",
    "\n",
    "..\n",
    "\n",
    "..\n",
    "\n",
    "..\n",
    "\n",
    "..\n",
    "\n",
    "..\n",
    "\n",
    "..\n",
    "\n",
    "..\n",
    "\n",
    "..\n",
    "\n",
    "..\n",
    "\n",
    "## Esercizio 1"
   ]
  },
  {
   "cell_type": "code",
   "execution_count": 1,
   "metadata": {},
   "outputs": [
    {
     "name": "stdout",
     "output_type": "stream",
     "text": [
      "24\n",
      "120\n",
      "24\n",
      "120\n"
     ]
    }
   ],
   "source": [
    "#prima soluzione:\n",
    "\n",
    "def calc_factorial(n):\n",
    "    factorial = n\n",
    "    for i in range(1, n):\n",
    "        factorial *= i\n",
    "    return factorial\n",
    "\n",
    "print(calc_factorial(4))\n",
    "print(calc_factorial(5))\n",
    "\n",
    "#seconda soluzione\n",
    "\n",
    "def calc_factorial_v2(n):\n",
    "    factorial = 1\n",
    "    for i in range(n, 1, -1):\n",
    "        factorial *= i\n",
    "    return factorial\n",
    "\n",
    "print(calc_factorial_v2(4))\n",
    "print(calc_factorial_v2(5))"
   ]
  },
  {
   "cell_type": "markdown",
   "metadata": {},
   "source": [
    "## Esercizio 2"
   ]
  },
  {
   "cell_type": "code",
   "execution_count": 52,
   "metadata": {},
   "outputs": [
    {
     "name": "stdout",
     "output_type": "stream",
     "text": [
      "1\n",
      "2\n",
      "3\n",
      "5\n",
      "8\n",
      "13\n",
      "21\n",
      "34\n",
      "55\n",
      "89\n",
      "144\n"
     ]
    }
   ],
   "source": [
    "def fibonacci(n = 100):\n",
    "    i = 1\n",
    "    j = 1\n",
    "    fibonacci = 1\n",
    "    while fibonacci < n:\n",
    "        print(fibonacci)\n",
    "        fibonacci = i + j\n",
    "        j = i\n",
    "        i = fibonacci\n",
    "    return fibonacci\n",
    "print(fibonacci(100))"
   ]
  },
  {
   "cell_type": "markdown",
   "metadata": {},
   "source": [
    "## Esercizio 3"
   ]
  },
  {
   "cell_type": "code",
   "execution_count": 54,
   "metadata": {},
   "outputs": [
    {
     "name": "stdin",
     "output_type": "stream",
     "text": [
      "What's your name?  Lorenzo\n"
     ]
    },
    {
     "name": "stdout",
     "output_type": "stream",
     "text": [
      "Welcome Lorenzo!\n"
     ]
    }
   ],
   "source": [
    "def get_name():\n",
    "    return input(\"What's your name? \")\n",
    "\n",
    "def make_welcome(name):\n",
    "    return('Welcome {}!'.format(name))\n",
    "\n",
    "def say_hello(sentence):\n",
    "    print(sentence)\n",
    "    \n",
    "name = get_name()\n",
    "welcome = make_welcome(name)\n",
    "say_hello(welcome)"
   ]
  },
  {
   "cell_type": "markdown",
   "metadata": {},
   "source": [
    "## Esercizio 4"
   ]
  },
  {
   "cell_type": "code",
   "execution_count": 55,
   "metadata": {},
   "outputs": [
    {
     "name": "stdout",
     "output_type": "stream",
     "text": [
      "Welcome, Lorenzo\n",
      "Welcome, Blasco\n",
      "Welcome, Viviotty\n"
     ]
    }
   ],
   "source": [
    "def get_name_v2(*args):\n",
    "    return list(args)\n",
    "\n",
    "def make_welcome_v2(names):\n",
    "    saluti = []\n",
    "    for name in names:\n",
    "        saluti.append('Welcome, ' + name)\n",
    "    return saluti\n",
    "\n",
    "def say_hello_v2(salutes):\n",
    "    for salute in salutes:\n",
    "        print(salute)\n",
    "        \n",
    "nomi = get_name_v2('Lorenzo', 'Blasco', 'Viviotty')\n",
    "saluti = make_welcome_v2(nomi)\n",
    "say_hello_v2(saluti)"
   ]
  }
 ],
 "metadata": {
  "kernelspec": {
   "display_name": "Python 3 (ipykernel)",
   "language": "python",
   "name": "python3"
  },
  "language_info": {
   "codemirror_mode": {
    "name": "ipython",
    "version": 3
   },
   "file_extension": ".py",
   "mimetype": "text/x-python",
   "name": "python",
   "nbconvert_exporter": "python",
   "pygments_lexer": "ipython3",
   "version": "3.9.7"
  }
 },
 "nbformat": 4,
 "nbformat_minor": 4
}
