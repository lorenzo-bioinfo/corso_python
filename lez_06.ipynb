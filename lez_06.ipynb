{
 "cells": [
  {
   "cell_type": "markdown",
   "metadata": {},
   "source": [
    "# **Cenni di OOP**\n",
    "\n",
    "La programmazione orientata agli oggetti (Object Oriented Programming - OOP) è un paradigma di programmazione che ci consente di modellare strutture dati come se fossero *oggetti*, che interagiscono tra loro attraverso lo scambio di *messaggi*. Questo è basato sul concetto fondamentale di **classe** e presenta, tra gli altri, i seguenti vantaggi:\n",
    "\n",
    "1. **Modellazione**: la OOP consente di modellare in modo intuitivo oggetti reali e astratti nel software;\n",
    "2. **Gestibilità**: l'organizzazione del codice così prodotto ne consente una manutenzione e una modifica relativamente semplici;\n",
    "3. **Modularità**: l'organizzazione del software in classi favorisce il riutilizzo delle sue parti.\n",
    "\n",
    "Questo paradigma è nato agli inizi degli anni '70 con linguaggi come *Simula* e *Small-talk*, per poi diventare negli anni '90 il paradigma predominante per lo sviluppo di software. Linguaggi che fanno utilizzo intensivo del paradigma ad oggetti sono, tra gli altri: *C++*, *Java*, *Python*, *Ruby*.\n",
    "\n",
    "Affinché un linguaggio sia definito orientato agli oggetti deve rispettare 3 caratteristiche:\n",
    "\n",
    "1. **Incapsulamento**: la definizione della classe e l'interfaccia attraverso la quale si può interagire con essa sono **separate** e l'utente finale ha accesso esclusivamente alla seconda;\n",
    "2. **Ereditarietà**: deve essere possibile definire una classe a partire da un'altra classe;\n",
    "3. **Polimorfismo**: classi diverse possono essere utilizzate con un'interfaccia comune.\n",
    "\n",
    "Tutti questi aspetti saranno introdotti e chiariti nel corso della lezione con esempi estremamente semplici, quindi: **niente paura**.\n",
    "\n",
    "In termini meno precisi ma più concreti, il modello ad oggetti cerca di fornire una rappresentazione che rappresenti le relazioni tra i diversi elementi che compongono il problema reale.\n",
    "Prendiamo ad esempio un'azienda e supponiamo di voler progettare un software che gestisca i dipendenti. Se adottiamo un approccio orientato agli oggetti, possiamo vedere i dipendenti come una **Classe**, e ogni dipendente sarà un **Oggetto** o istanza di quella classe.\n",
    "\n",
    "Se allarghiamo lo sguardo, ci rendiamo conto che questo ragionamento è estendibile a molti altri aspetti di un sistema aziendale: ad esempio troveremo tipi diversi di dipendenti e ciascun tipo può essere descritto con una classe diversa. Avremo quindi la classe impiegati, la classe direttori, ecc.\n",
    "\n",
    "Anche quando non si parla di persone possiamo ragionare in termini di oggetti: un software gestionale tiene solitamente traccia degli ordini, pertanto potremmo pensare di definire una classe *Ordini*. Ciascun oggetto di questa classe sarebbe un ordine, con la sua data, il suo valore, il commerciale di riferimento, ecc.\n",
    "\n",
    "Inoltre un ordine può cambiare il suo stato nel tempo: può passare da richiesto ad approvato ad evaso e così via. In questo caso quello che faremo sarà definire un **metodo** che modifichi lo stato di un ordine.\n",
    "\n",
    "Per passare agli aspetti pratici, vediamo ora come si definisce una classe, quali sono le sue caratteristiche e come istanziare degli oggetti appartenenti a quella classe in Python."
   ]
  },
  {
   "cell_type": "code",
   "execution_count": 1,
   "metadata": {},
   "outputs": [
    {
     "name": "stdout",
     "output_type": "stream",
     "text": [
      "<class 'int'>\n",
      "<class 'str'>\n",
      "<class 'list'>\n"
     ]
    }
   ],
   "source": [
    "print(type(1))\n",
    "print(type('a'))\n",
    "print(type([1, 2, 3]))"
   ]
  },
  {
   "cell_type": "markdown",
   "metadata": {},
   "source": [
    "Come vediamo dall'output di *type()*, abbiamo già incontrato qualche classe lungo la nostra strada. Tutti i cosiddetti *tipi* di variabile in python sono definiti attraverso l'utilizzo di classi. Nella lezione successiva creeremo anche noi i nostri personalissimi *tipi*, utilizzando la OOP per definire due tipi di strutture dati, la pila e la coda.\n",
    "\n",
    "Per il momento restiamo sulle cose semplici ed iniziamo con la cosa più familiare che abbiamo a disposizione: definiamo una classe che definisce una *Persona*:"
   ]
  },
  {
   "cell_type": "code",
   "execution_count": 7,
   "metadata": {},
   "outputs": [
    {
     "name": "stdout",
     "output_type": "stream",
     "text": [
      "<class '__main__.Person'>\n"
     ]
    }
   ],
   "source": [
    "class Person:\n",
    "    def __init__(self, nome, età):\n",
    "        self.name = nome\n",
    "        self.age = età\n",
    "\n",
    "persona1 = Person('Lorenzo', 27)\n",
    "print(type(persona1))"
   ]
  },
  {
   "cell_type": "markdown",
   "metadata": {},
   "source": [
    "Smontiamo questo codice riga per riga per capire cosa sta succedendo.\n",
    "Iniziamo col definire una classe: una classe in python si definisce con la keyword **class**, seguita dal nome che vogliamo assegnare a quella classe. Fino a qui, nulla di astruso.\n",
    "\n",
    "Subito dopo aver assegnato il nome alla classe, troviamo quella che sembra la definizione di una funzione. In realtà, quando siamo all'interno di una classe, non definiamo funzioni, ma **metodi**. Questi metodi esisteranno SOLO per gli oggetti di quella classe, e saranno applicabili solo a questi.\n",
    "\n",
    "Il metodo che stiamo definendo è il metodo \\__init\\__(), ed è un metodo speciale. Ogni volta che vediamo un metodo che inizia e finisce con due underscore (\"\\__\\\"), sappiamo che si tratta di un metodo riservato da python che svolge una funzione ben precisa.\n",
    "\n",
    "Nel nostro caso, init specifica quali parametri dobbiamo fornire quando decidiamo di creare un oggetto appartenente a quella classe. Nel caso della nostra persona, ci siamo limitati a richiedere nome ed età.\n",
    "\n",
    "**self** è il primo parametro di TUTTI i metodi che definiamo, e fa riferimento all'oggetto stesso.\n",
    "\n",
    "Il metodo init prende il parametro nome e lo assegna ad un **attributo** della classe chiamato *name*. Stessa cosa per quanto riguarda l'età. Questi attributi prendono il nome di **instance variables** o variabili appartenenti all'oggetto, ed ogni oggetto della classe Person avrà il suo valore per *name* e il suo valore per *age*.\n",
    "\n",
    "Questi attributi sono accessibili con la notazione *oggetto.nome_attributo*:"
   ]
  },
  {
   "cell_type": "code",
   "execution_count": 9,
   "metadata": {},
   "outputs": [
    {
     "name": "stdout",
     "output_type": "stream",
     "text": [
      "Questa persona si chiama Lorenzo\n",
      "Ed ha 27 anni\n"
     ]
    }
   ],
   "source": [
    "print('Questa persona si chiama', persona1.name)\n",
    "print('Ed ha', persona1.age, 'anni')"
   ]
  },
  {
   "cell_type": "markdown",
   "metadata": {},
   "source": [
    "Notare l'assenza di parentesi dopo *name* ed *age*: questo perché stiamo parlando di attributi, di variabili, non di metodi o funzioni!\n",
    "\n",
    "Ora definiremo qualche nuova persona, e poi definiremo dei metodi per lavorare con questi oggetti:"
   ]
  },
  {
   "cell_type": "code",
   "execution_count": 10,
   "metadata": {},
   "outputs": [],
   "source": [
    "persona2 = Person('Chiara', 21)\n",
    "persona3 = Person('Giorgia', 26)\n",
    "persona4 = Person('Bruno', 53)"
   ]
  },
  {
   "cell_type": "markdown",
   "metadata": {},
   "source": [
    "Vediamo ora un secondo metodo speciale che è possibile definire su una classe: il metodo \\__str\\__()\n",
    "\n",
    "Questo metodo ci consente di definire una stringa *informativa* che verrà stampata quando cerchiamo di passare un oggetto di quella classe alla funzione *print()*.\n",
    "\n",
    "Infatti se cerchiamo di stampare i nostri oggetti, otteniamo cose poco informative:"
   ]
  },
  {
   "cell_type": "code",
   "execution_count": 11,
   "metadata": {},
   "outputs": [
    {
     "name": "stdout",
     "output_type": "stream",
     "text": [
      "<__main__.Person object at 0x7efff032d1f0>\n",
      "<__main__.Person object at 0x7efff032d730>\n"
     ]
    }
   ],
   "source": [
    "print(persona1)\n",
    "print(persona4)"
   ]
  },
  {
   "cell_type": "markdown",
   "metadata": {},
   "source": [
    "Definendo il metodo \\__str\\__() invece:"
   ]
  },
  {
   "cell_type": "code",
   "execution_count": 16,
   "metadata": {},
   "outputs": [
    {
     "name": "stdout",
     "output_type": "stream",
     "text": [
      "Lorenzo ha 27 anni\n",
      "Bruno ha 52 anni\n"
     ]
    }
   ],
   "source": [
    "class Person:\n",
    "    def __init__(self, name, age):\n",
    "        self.name = name\n",
    "        self.age = age\n",
    "        \n",
    "    def __str__(self):\n",
    "        return self.name + ' ha ' + str(self.age) + ' anni'\n",
    "    \n",
    "p1 = Person('Lorenzo', 27)\n",
    "p2 = Person('Giorgia', 26)\n",
    "p3 = Person('Bruno', 52)\n",
    "\n",
    "print(p1)\n",
    "print(p3)"
   ]
  },
  {
   "cell_type": "markdown",
   "metadata": {},
   "source": [
    "Abbiamo ridefinito la classe aggiungendo il metodo \\__str()\\__ e abbiamo creato 3 nuove istanze (o oggetti) di quella classe. Vediamo come stavolta, quando andiamo a stampare le istanze, otteniamo un messaggio decisamente più informativo.\n",
    "\n",
    ">**NOTA**: ovviamente non è buona pratica riaprire la classe di volta in volta nel codice per fare delle modifiche. Ciascuna classe è solitamente definita in un file a parte, che solitamente si trova in una cartella appositamente creata chiamata *classes* e vengono importate quando necessario. Ricordo che la OOP viene utilizzata nella creazione di grandi progetti software, e raramente torna utile o è di come utilizzo quando il nostro lavoro è fare scripting per analisi dati ecc.. Questa lezione vuole solo essere un'introduzione ai concetti principali, in modo da riconoscere le classi quando le si incontra e capire come funzionino e cosa dobbiamo aspettarci dal loro utilizzo\n",
    "\n",
    "Allontaniamoci ora dai metodi *speciali* e definiamo un metodo tutto nostro.\n",
    "Vogliamo un metodo che aumenti l'età delle nostre persone di un anno, e lo chiameremo *happy_birthday()*:"
   ]
  },
  {
   "cell_type": "code",
   "execution_count": 18,
   "metadata": {},
   "outputs": [
    {
     "name": "stdout",
     "output_type": "stream",
     "text": [
      "Lorenzo ha 27 anni\n",
      "È il compleanno di Lorenzo!\n",
      "Ora ha 28 anni\n"
     ]
    }
   ],
   "source": [
    "class Person:\n",
    "    def __init__(self, name, age):\n",
    "        self.name = name\n",
    "        self.age = age\n",
    "        \n",
    "    def __str__(self):\n",
    "        return self.name + ' ha ' + str(self.age) + ' anni'\n",
    "    \n",
    "    def happy_birthday(self):\n",
    "        print('È il compleanno di ' + self.name + '!')\n",
    "        self.age += 1\n",
    "        print('Ora ha ' + str(self.age) + ' anni')\n",
    "    \n",
    "p1 = Person('Lorenzo', 27)\n",
    "p2 = Person('Giorgia', 26)\n",
    "p3 = Person('Bruno', 52)\n",
    "print(p1)\n",
    "p1.happy_birthday()"
   ]
  },
  {
   "cell_type": "markdown",
   "metadata": {},
   "source": [
    "Qui vediamo il primo esempio di **incapsulamento**: abbiamo definito un metodo *happy_birthday()* che agisce modificando uno degli attributi del nostro oggetto della classe Person, l'età. Utilizzando questo metodo abbiamo fornito all'utente un'interfaccia che gli consente di modificare quell'attributo, ma solamente nel modo in cui abbiamo stabilito. L'utente non può infatti (per ora, almeno) aggiungere 3 all'età, o sottrarre 159, o dividerla per 2. Può soltanto eseguire le operazioni che noi abbiamo previsto nella definizione della classe. Quindi in un certo senso, gli attributi sono *protetti* dalla classe, e questo è ciò che viene chiamato *data encapsulation*.\n",
    "\n",
    "> **NOTA**: quando definiamo un metodo su una classe, anche se questo non prende argomenti in input, è sempre necessario specificare l'argomento *self*.\n",
    "\n",
    "Passiamo ora al concetto di ereditarietà definendo una nuova classe, che chiameremo **Impiegato**.\n",
    "\n",
    "Se siamo tutti d'accordo sul fatto che gli impiegati sono anche persone, allora forse possiamo utilizzare molte delle cose che sono già definite nella classe persona per creare una classe impiegato.\n",
    "\n",
    "Questo è possibile, se definiamo la classe impiegato come classe *figlia* della classe persona. Phyton ci consente di fare questo con una sintassi abbastanza banale:\n",
    "\n",
    "`class Figlia(classe_genitore):\n",
    "    ........\n",
    "    ........\n",
    "    .......`\n",
    "    \n",
    "Ma cosa significa che Impiegato sarà la classe figlia di Person? Significa che erediterà tutti i metodi e gli attributi della classe Person. Ovviamente possiamo aggiugnere alla classe figlia altri metodi, che saranno specifici per essa (come ad esempio un metodo per calcolare la paga di un impiegato) e possiamo inoltre **sovrascrivere** alcuni metodi che in impiegato dovranno comportarsi diversamente. Vediamo un esempio:"
   ]
  },
  {
   "cell_type": "code",
   "execution_count": 9,
   "metadata": {},
   "outputs": [
    {
     "name": "stdout",
     "output_type": "stream",
     "text": [
      "Impiegato No. 12345 - Lorenzo\n",
      "È il compleanno di Lorenzo!\n",
      "Ora ha 28 anni\n"
     ]
    }
   ],
   "source": [
    "class Person:\n",
    "    def __init__(self, name, age):\n",
    "        self.name = name\n",
    "        self.age = age\n",
    "        \n",
    "    def __str__(self):\n",
    "        return self.name + ' ha ' + str(self.age) + ' anni'\n",
    "    \n",
    "    def happy_birthday(self):\n",
    "        print('È il compleanno di ' + self.name + '!')\n",
    "        self.age += 1\n",
    "        print('Ora ha ' + str(self.age) + ' anni')        \n",
    "\n",
    "\n",
    "class Impiegato(Person):\n",
    "    def __init__(self, name, age, id_no):\n",
    "        self.name = name\n",
    "        self.age = age\n",
    "        self.id_no = id_no\n",
    "    \n",
    "    def __str__(self):\n",
    "        return 'Impiegato No. ' + self.id_no + ' - ' + self.name\n",
    "    \n",
    "imp1 = Impiegato('Lorenzo', 27, '12345')\n",
    "imp2 = Impiegato('Giorgia', 19, '23134')\n",
    "\n",
    "print(imp1)\n",
    "imp1.happy_birthday()"
   ]
  },
  {
   "cell_type": "markdown",
   "metadata": {},
   "source": [
    "Ricapitoliamo velocemente quello che abbiamo fatto con il codice qui sopra:\n",
    "- Abbiamo definito una classe *Person*, con i suoi metodi *init*, *str*, ed *happy_birthday*;\n",
    "- Abbiamo definito una nuova classe *Impiegato*, figlia della classe *Person*;\n",
    "- La classe *Impiegato* ha ereditato tutti i metodi della classe *Person*;\n",
    "- Abbiamo sovrascritto i metodi *init* (per aggiungere un *id*) e il metodo *str* (perché vogliamo informazioni diverse quando stampiamo l'oggetto)\n",
    "- Non abbiamo ridefinito il metodo *happy_birthday*, tuttavia questo è ancora presente perché è stato ereditato dalla classe *Person*.\n",
    "Ovviamente questo è solo un esempio, e chiaramente non è molto utile ricorrere all'ereditarietà delle classi solo per conservare un attributo. Tuttavia in situazioni più complesse questa *tecnica* è largamente utilizzata e consente una buona organizzazione del codice.\n",
    "\n",
    "Vediamo ora un semplice esempio che introduce l'ultimo concetto fondamentale in OOP, il **polimorfismo**:"
   ]
  },
  {
   "cell_type": "code",
   "execution_count": 12,
   "metadata": {},
   "outputs": [
    {
     "name": "stdout",
     "output_type": "stream",
     "text": [
      "Leo is a Black cat\n",
      "Meow\n",
      "Kira is a Brown dog\n",
      "Woof\n"
     ]
    }
   ],
   "source": [
    "class Cat:\n",
    "    def __init__(self, name, color):\n",
    "        self.name = name\n",
    "        self.color = color\n",
    "    \n",
    "    def info(self):\n",
    "        print('{} is a {} cat'.format(self.name, self.color))\n",
    "        \n",
    "    def make_sound(self):\n",
    "        print('Meow')\n",
    "        \n",
    "\n",
    "class Dog:\n",
    "    def __init__(self, name, color):\n",
    "        self.name = name\n",
    "        self.color = color\n",
    "        \n",
    "    def info(self):\n",
    "        print('{} is a {} dog'.format(self.name, self.color))\n",
    "        \n",
    "    def make_sound(self):\n",
    "        print('Woof')\n",
    "        \n",
    "cat1 = Cat('Leo', 'Black')\n",
    "dog1 = Dog('Kira', 'Brown')\n",
    "\n",
    "cat1.info()\n",
    "cat1.make_sound()\n",
    "dog1.info()\n",
    "dog1.make_sound()"
   ]
  },
  {
   "cell_type": "markdown",
   "metadata": {},
   "source": [
    "Abbiamo definito due classi, *Cat* e *Dog*. Ciascuna di queste classi ha un suo metodo *init*, un suo metodo *info*, ed un suo metodo *make_sound*.\n",
    "\n",
    "Il **polimorfismo** sta nel fatto che le due classi hanno metodi con lo stesso nome (i.e. la stessa *interfaccia*) ma questi metodi si comportano in modo diverso a seconda della classe in cui sono definiti.\n",
    "\n",
    "Per finire questa breve introduzione alla programmazione orientata agli oggetti, vediamo velocemente come le classi possono essere utilizzate per la costruzione di **strutture dati**. Nel prossimo esempio vedremo come costruire una struttura dati **pila**, ossia una struttura FILO (First in - Last out), definendo una classe che si comporti come ci si aspetterebbe da una pila:"
   ]
  },
  {
   "cell_type": "code",
   "execution_count": 15,
   "metadata": {},
   "outputs": [
    {
     "name": "stdout",
     "output_type": "stream",
     "text": [
      "2\n",
      "[1, 2]\n",
      "WARNING: Stack is empty\n",
      "[]\n",
      "[0, 1, 2, 3, 4] 5\n",
      "[]\n"
     ]
    }
   ],
   "source": [
    "class MyStack():\n",
    "    def __init__(self):\n",
    "        self.stack = []\n",
    "    \n",
    "    def __str__(self):\n",
    "        return str(self.stack)\n",
    "    \n",
    "    def get_len(self):\n",
    "        return len(self.stack)\n",
    "    \n",
    "    def push(self, value):\n",
    "        self.stack.append(value)\n",
    "    \n",
    "    def pop(self):\n",
    "        if self.get_len() > 0:\n",
    "            self.stack.pop()\n",
    "        else:\n",
    "            print('WARNING: Stack is empty')\n",
    "    \n",
    "    def flush(self):\n",
    "        self.stack.clear()\n",
    "        \n",
    "stack1 = MyStack()\n",
    "stack1.push(1)\n",
    "stack1.push(2)\n",
    "print(stack1.get_len())\n",
    "print(stack1)\n",
    "stack1.pop()\n",
    "stack1.pop()\n",
    "stack1.pop()\n",
    "print(stack1)\n",
    "for i in range(5):\n",
    "    stack1.push(i)\n",
    "print(stack1, stack1.get_len())\n",
    "stack1.flush()\n",
    "print(stack1)"
   ]
  },
  {
   "cell_type": "markdown",
   "metadata": {},
   "source": [
    "Ricapitolando:\n",
    "\n",
    "- Abbiamo definito una classe pila (MyStack);\n",
    "- Il suo unico attributo sarà una lista, e la inizializziamo vuota con *init*;\n",
    "- Se stampiamo un oggetto pila, vedremo la lista (metodo *str*);\n",
    "- Abbiamo definito un metodo per sapere quanti elementi contiene la nostra pila (*get_len*);\n",
    "- Abbiamo definito un metodo per aggiungere elementi (*push*);\n",
    "- Abbiamo definito un metodo per rimuovere elementi, che utilizza il metodo *get_len* per sapere se la pila è vuota (*pop*)\n",
    "- Abbiamo definito un metodo che svuota la pila (*flush*)\n",
    "\n",
    "## Esercizio:\n",
    "\n",
    "Definire una classe *MyQueue* che si comporti come la struttura dati coda. La coda è una struttura dati FIFO, ossia First in - First Out. Il primo elemento aggiunto sarà anche il primo ad essere rimosso.\n",
    "In particolare la classe dovrà rispettare queste caratteristiche:\n",
    "\n",
    "1. Mostrare la coda quando vengono stampate le istanze (gli oggetti) della classe;\n",
    "2. Un metodo *enqueue*, che aggiunge oggetti in cima alla coda;\n",
    "3. Un metodo *dequeue*, che rimuove gli oggetti in cima alla coda;\n",
    "4. Un metodo *flush* che ripulisce la coda.\n",
    "\n",
    "> **NOTA**: Data l'estrema similarità con la classe MyStack, per quanto possibile evitare di cercare suggerimenti nel box di codice qui sopra. Sbatteteci un po' la testa!\n",
    "\n",
    "..\n",
    "\n",
    "..\n",
    "\n",
    "..\n",
    "\n",
    "..\n",
    "\n",
    "..\n",
    "\n",
    "..\n",
    "\n",
    "..\n",
    "\n",
    "..\n",
    "\n",
    "..\n",
    "\n",
    "..\n",
    "\n",
    "..\n",
    "\n",
    "..\n",
    "\n",
    "..\n",
    "\n",
    "## Soluzione:"
   ]
  },
  {
   "cell_type": "code",
   "execution_count": 18,
   "metadata": {},
   "outputs": [
    {
     "name": "stdout",
     "output_type": "stream",
     "text": [
      "2\n",
      "[1, 2]\n",
      "WARNING: Queue is empty\n",
      "[]\n",
      "[0, 1, 2, 3, 4] 5\n",
      "[]\n"
     ]
    }
   ],
   "source": [
    "class MyQueue:\n",
    "    def __init__(self):\n",
    "        self.queue = []\n",
    "    \n",
    "    def __str__(self):\n",
    "        return str(self.queue)\n",
    "    \n",
    "    def get_len(self):\n",
    "        return len(self.queue)\n",
    "    \n",
    "    def enqueue(self, elemento):\n",
    "        self.queue.append(elemento)\n",
    "    \n",
    "    def dequeue(self):\n",
    "        if self.get_len() > 0:\n",
    "            self.queue.pop(0)\n",
    "        else:\n",
    "            print('WARNING: Queue is empty')\n",
    "    \n",
    "    def flush(self):\n",
    "        self.queue.clear()\n",
    "        \n",
    "queue1 = MyQueue()\n",
    "queue1.enqueue(1)\n",
    "queue1.enqueue(2)\n",
    "print(queue1.get_len())\n",
    "print(queue1)\n",
    "queue1.dequeue()\n",
    "queue1.dequeue()\n",
    "queue1.dequeue()\n",
    "print(queue1)\n",
    "for i in range(5):\n",
    "    queue1.enqueue(i)\n",
    "print(queue1, queue1.get_len())\n",
    "queue1.flush()\n",
    "print(queue1)"
   ]
  }
 ],
 "metadata": {
  "kernelspec": {
   "display_name": "Python 3",
   "language": "python",
   "name": "python3"
  },
  "language_info": {
   "codemirror_mode": {
    "name": "ipython",
    "version": 3
   },
   "file_extension": ".py",
   "mimetype": "text/x-python",
   "name": "python",
   "nbconvert_exporter": "python",
   "pygments_lexer": "ipython3",
   "version": "3.8.5"
  }
 },
 "nbformat": 4,
 "nbformat_minor": 4
}
