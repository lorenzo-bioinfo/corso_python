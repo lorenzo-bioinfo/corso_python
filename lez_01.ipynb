{
 "cells": [
  {
   "cell_type": "markdown",
   "metadata": {},
   "source": [
    "# **Variabili numeriche ed espressioni condizionali**"
   ]
  },
  {
   "cell_type": "markdown",
   "metadata": {},
   "source": [
    "Nella lezione precedente abbiamo parlato di variabili ed abbiamo approfondito le stringhe.\n",
    "\n",
    "In questa lezione vedremo le variabili numeriche e poi passeremo alle variabili booleane per introdurre le espressioni condizionali. Contestualmente vedremo come definire i blocchi di codice in python."
   ]
  },
  {
   "cell_type": "markdown",
   "metadata": {},
   "source": [
    "## *Variabili numeriche*\n",
    "### Numeri interi e float\n",
    "\n",
    "In python troviamo due tipi di variabili numeriche:\n",
    "- Numeri interi (class Int)\n",
    "- Numeri a virgola mobile (class Float)\n",
    "\n",
    "I due tipi di variabile si definiscono banalmente come segue:"
   ]
  },
  {
   "cell_type": "code",
   "execution_count": 1,
   "metadata": {},
   "outputs": [
    {
     "name": "stdout",
     "output_type": "stream",
     "text": [
      "<class 'int'> <class 'float'>\n"
     ]
    }
   ],
   "source": [
    "x = 1\n",
    "y = 2\n",
    "a = 1.3\n",
    "b = 12.5\n",
    "\n",
    "print(type(x), type(a))"
   ]
  },
  {
   "cell_type": "markdown",
   "metadata": {},
   "source": [
    "Le operazioni elementari sono definite con i soliti operatori:"
   ]
  },
  {
   "cell_type": "code",
   "execution_count": 2,
   "metadata": {},
   "outputs": [
    {
     "name": "stdout",
     "output_type": "stream",
     "text": [
      "somma:  3\n",
      "differenza:  -1\n",
      "prodotto:  2\n",
      "divisione:  9.615384615384615\n",
      "divisione senza resto:  9.0\n",
      "elevamento a potenza:  4\n",
      "modulo (resto divisione) 0.7\n"
     ]
    }
   ],
   "source": [
    "print('somma: ', (x + y))\n",
    "print('differenza: ', (x - y))\n",
    "print('prodotto: ', (x * y))\n",
    "print('divisione: ', (b / a))\n",
    "print('divisione senza resto: ', (b // a))\n",
    "print('elevamento a potenza: ', (y ** 2))\n",
    "print('modulo (resto divisione)', (y % 1.3))"
   ]
  },
  {
   "cell_type": "markdown",
   "metadata": {},
   "source": [
    "### Conversione da stringhe a numeri\n",
    "\n",
    "È possibile convertire una stringa in una variabile numerica, a patto che questa contenga dei valori numerici, con le funzioni *int()* e *float()*"
   ]
  },
  {
   "cell_type": "code",
   "execution_count": 5,
   "metadata": {},
   "outputs": [
    {
     "name": "stdout",
     "output_type": "stream",
     "text": [
      "43 <class 'str'>\n",
      "43 <class 'int'>\n",
      "60\n"
     ]
    }
   ],
   "source": [
    "stringa = '43'\n",
    "print(stringa, type(stringa))\n",
    "numero = int(stringa)\n",
    "print(numero, type(numero))\n",
    "print(17 + int(stringa))"
   ]
  },
  {
   "cell_type": "code",
   "execution_count": 8,
   "metadata": {},
   "outputs": [
    {
     "name": "stdout",
     "output_type": "stream",
     "text": [
      "43.0\n"
     ]
    }
   ],
   "source": [
    "stringa = '43'\n",
    "print(float(stringa))"
   ]
  },
  {
   "cell_type": "markdown",
   "metadata": {},
   "source": [
    "**Attenzione**: affinché una stringa venga convertita in un intero, è necessario che la stringa rappresenti INEQUIVOCABILMENTE un intero. Tutte le seguenti conversioni, infatti danno errore (de-commentare per credere):"
   ]
  },
  {
   "cell_type": "code",
   "execution_count": 11,
   "metadata": {},
   "outputs": [
    {
     "ename": "ValueError",
     "evalue": "invalid literal for int() with base 10: '17b'",
     "output_type": "error",
     "traceback": [
      "\u001b[0;31m---------------------------------------------------------------------------\u001b[0m",
      "\u001b[0;31mValueError\u001b[0m                                Traceback (most recent call last)",
      "\u001b[0;32m<ipython-input-11-5a7a1df1df1a>\u001b[0m in \u001b[0;36m<module>\u001b[0;34m\u001b[0m\n\u001b[1;32m      1\u001b[0m \u001b[0;31m#int('17.5')\u001b[0m\u001b[0;34m\u001b[0m\u001b[0;34m\u001b[0m\u001b[0;34m\u001b[0m\u001b[0m\n\u001b[0;32m----> 2\u001b[0;31m \u001b[0mint\u001b[0m\u001b[0;34m(\u001b[0m\u001b[0;34m'17b'\u001b[0m\u001b[0;34m)\u001b[0m\u001b[0;34m\u001b[0m\u001b[0;34m\u001b[0m\u001b[0m\n\u001b[0m\u001b[1;32m      3\u001b[0m \u001b[0mint\u001b[0m\u001b[0;34m(\u001b[0m\u001b[0;34m'a17'\u001b[0m\u001b[0;34m)\u001b[0m\u001b[0;34m\u001b[0m\u001b[0;34m\u001b[0m\u001b[0m\n",
      "\u001b[0;31mValueError\u001b[0m: invalid literal for int() with base 10: '17b'"
     ]
    }
   ],
   "source": [
    "#int('17.5')\n",
    "#int('17b')\n",
    "#int('a17')"
   ]
  },
  {
   "cell_type": "markdown",
   "metadata": {},
   "source": [
    "## Variabili Booleane e variabile None\n",
    "### Variabili Booleane\n",
    "\n",
    "Una variabile Booleana può assumere solo due valori: **True** o **False**.\n",
    "Sono generalmente il prodotto di un confronto tra due variabili.\n",
    "Gli operatori di confronto sono gli stessi che si trovano in matematica e negli altri linguaggi di programmazione:\n",
    "\n",
    "- Uguale: **==**\n",
    "- Maggiore: **>**\n",
    "- Minore: **<**\n",
    "- Minore o uguale / Maggiore o uguale: **<=** / **>=**"
   ]
  },
  {
   "cell_type": "code",
   "execution_count": 12,
   "metadata": {},
   "outputs": [
    {
     "name": "stdout",
     "output_type": "stream",
     "text": [
      "True\n",
      "False\n",
      "True\n"
     ]
    }
   ],
   "source": [
    "a = 1\n",
    "b = 2\n",
    "c = 1\n",
    "\n",
    "print(b > a)\n",
    "print(a > b)\n",
    "print(a == c)"
   ]
  },
  {
   "cell_type": "markdown",
   "metadata": {},
   "source": [
    "Le operazioni di confronto possono essere combinate utilizzando gli operatori logici **and**, **or**, e **not**"
   ]
  },
  {
   "cell_type": "code",
   "execution_count": 13,
   "metadata": {},
   "outputs": [
    {
     "name": "stdout",
     "output_type": "stream",
     "text": [
      "True\n",
      "False\n",
      "True\n"
     ]
    }
   ],
   "source": [
    "print((a > b) or (c == a)) #True se almeno una delle due condizioni è soddisfatta\n",
    "print((a > b) and (c == a)) #True solo se entrambe le condizioni sono soddisfatte\n",
    "print(not a > b) # True solo se la condizione NON è soddisfatta"
   ]
  },
  {
   "cell_type": "markdown",
   "metadata": {},
   "source": [
    "E osserviamo anche come sia possibile **sommare** le variabili Booleane. I **True** verranno infatti interpretati come **1**, i **False** come **0**"
   ]
  },
  {
   "cell_type": "code",
   "execution_count": 14,
   "metadata": {},
   "outputs": [
    {
     "name": "stdout",
     "output_type": "stream",
     "text": [
      "1 0\n",
      "2\n",
      "3\n"
     ]
    }
   ],
   "source": [
    "print(int(True), int(False))\n",
    "print(True + True)\n",
    "print(True + True + False + True)"
   ]
  },
  {
   "cell_type": "markdown",
   "metadata": {},
   "source": [
    "Per finire, introduciamo la variabile **None**, ossia il valore nullo in python.\n",
    "\n",
    "Questa non viene quasi mai assegnata esplicitamente ad una variabile, tuttavia può essere ritornata da alcune funzioni in particolari situazioni.\n",
    "\n",
    "Ad esempio, supponiamo di voler scrivere una funzione che cerchi un k-mero in una sequenza nucleotidica: nel caso in cui non lo trovasse potremmo farci ritornare **None** dalla funzione."
   ]
  },
  {
   "cell_type": "code",
   "execution_count": 17,
   "metadata": {},
   "outputs": [
    {
     "name": "stdout",
     "output_type": "stream",
     "text": [
      "None\n"
     ]
    }
   ],
   "source": [
    "a = None\n",
    "print(a)"
   ]
  },
  {
   "cell_type": "markdown",
   "metadata": {},
   "source": [
    "## Espressioni condizionali\n",
    "\n",
    "Con le espressioni condizionali introduciamo il concetto di **flow control**, ossia la gestione dell'ordine, della modalità, e delle volte nelle quali le operazioni in un programma vengono eseguite.\n",
    "\n",
    "In particolare, con le espressioni condizionali siamo chiamati a scegliere se un'operazione sarà eseguita o meno dal programma data una particolare condizione, e se esistono una o più alternative nel caso in cui la condizione non sia soddisfatta.\n",
    "\n",
    "Contestualmente, vedremo anche la sintassi dei blocchi di codice in python.\n",
    "\n",
    "Le **keywords** per l'implementazione delle espressioni condizionali sono 3: ***if***, ***elif*** ed ***else***"
   ]
  },
  {
   "cell_type": "code",
   "execution_count": 23,
   "metadata": {},
   "outputs": [
    {
     "name": "stdout",
     "output_type": "stream",
     "text": [
      "a è un numero pari\n"
     ]
    }
   ],
   "source": [
    "a = 4\n",
    "\n",
    "if a % 2 == 0:\n",
    "    print('a è un numero pari')"
   ]
  },
  {
   "cell_type": "markdown",
   "metadata": {},
   "source": [
    "La sintassi di base dell'if è identica a quella della maggior parte dei linguaggi di programmazione:\n",
    "> `if <condizione>:\n",
    ">    codice`\n",
    "\n",
    "Se la condizione è valutata come **True**, ossia **se è vera**, il codice viene eseguito, altrimenti viene saltato.\n",
    "\n",
    "Affinché una condizione sia valida, questa deve essere rappresentata da un espressione che viene valutata come True o come False.\n",
    "\n",
    "Notare come in python non si utilizzino parentesi per delimitare i blocchi di codice come ad esempio in C:\n",
    "\n",
    "> `if(condizione){\n",
    ">    Codice}`\n",
    "\n",
    "Ma si utilizzino invece i duepunti **':'** seguiti **dall'indentazione**.\n",
    "Un blocco di codice finisce quando si ritorna all'indentazione precedente:"
   ]
  },
  {
   "cell_type": "code",
   "execution_count": 24,
   "metadata": {},
   "outputs": [
    {
     "name": "stdout",
     "output_type": "stream",
     "text": [
      "Questa frase NO!\n"
     ]
    }
   ],
   "source": [
    "a = 2\n",
    "b = 4\n",
    "\n",
    "if a > 2:\n",
    "    print('Questa frase è nel blocco if')\n",
    "    print('Anche questa')\n",
    "print('Questa frase NO!')"
   ]
  },
  {
   "cell_type": "code",
   "execution_count": 25,
   "metadata": {},
   "outputs": [
    {
     "name": "stdout",
     "output_type": "stream",
     "text": [
      "Questa frase è nel blocco if\n",
      "Anche questa\n",
      "Questa frase NO!\n"
     ]
    }
   ],
   "source": [
    "if a < b:\n",
    "    print('Questa frase è nel blocco if')\n",
    "    print('Anche questa')\n",
    "print('Questa frase NO!')"
   ]
  },
  {
   "cell_type": "markdown",
   "metadata": {},
   "source": [
    "Come negli altri linguaggi di programmazione è possibile combinare più condizioni con gli operatori logici:"
   ]
  },
  {
   "cell_type": "code",
   "execution_count": 26,
   "metadata": {},
   "outputs": [
    {
     "name": "stdout",
     "output_type": "stream",
     "text": [
      "Ok1\n",
      "Ok2\n",
      "Ok3\n"
     ]
    }
   ],
   "source": [
    "a = 1\n",
    "b = 2\n",
    "c = 1\n",
    "\n",
    "if (a > b) or (a == c):\n",
    "    print('Ok1')\n",
    "    \n",
    "if (a < b) and (a ==c):\n",
    "    print('Ok2')\n",
    "    \n",
    "if not a > b:\n",
    "    print('Ok3')"
   ]
  },
  {
   "cell_type": "markdown",
   "metadata": {},
   "source": [
    "Se invece vogliamo valutare più condizioni separatamente, possiamo ricorrere alle altre due keywords delle espressioni condizionali: **elif** ed **else**\n",
    "\n",
    "- **elif** va usato dopo un'**if**, e anche lui ha bisogno di una condizione da valutare;\n",
    "- **else** viene usato alla fine di una serie più o meno lunga di **if** ed **elif** e non richiede condizioni"
   ]
  },
  {
   "cell_type": "code",
   "execution_count": 29,
   "metadata": {},
   "outputs": [
    {
     "name": "stdout",
     "output_type": "stream",
     "text": [
      "A è minore di B\n"
     ]
    }
   ],
   "source": [
    "a = 1\n",
    "b = 2\n",
    "\n",
    "if a > b:\n",
    "    print('A è maggiore di B')\n",
    "elif a == b:\n",
    "    print('A è uguale a B')\n",
    "else:\n",
    "    print('A è minore di B')"
   ]
  },
  {
   "cell_type": "markdown",
   "metadata": {},
   "source": [
    "Per finire, possiamo scrivere un'espressione condizionale su una sola riga, utilizzando la sintassi nel codice qui sotto.\n",
    "Questi metodi di scrivere operazioni \"complesse\" in una sola riga è definito un *one-liner* ed è molto comune nel linguaggio python:"
   ]
  },
  {
   "cell_type": "code",
   "execution_count": 31,
   "metadata": {},
   "outputs": [
    {
     "name": "stdout",
     "output_type": "stream",
     "text": [
      "A è minore o uguale\n"
     ]
    }
   ],
   "source": [
    "a = 1\n",
    "b = 2\n",
    "\n",
    "print('A è maggiore') if a > b else print('A è minore o uguale')"
   ]
  },
  {
   "cell_type": "markdown",
   "metadata": {},
   "source": [
    "**Attenzione**: se utilizziamo questo costrutto omettendo l'else, questo non funzionerà e darà errore (*SyntaxError*)."
   ]
  },
  {
   "cell_type": "code",
   "execution_count": 32,
   "metadata": {},
   "outputs": [
    {
     "ename": "SyntaxError",
     "evalue": "invalid syntax (<ipython-input-32-48184a6e0bd9>, line 4)",
     "output_type": "error",
     "traceback": [
      "\u001b[0;36m  File \u001b[0;32m\"<ipython-input-32-48184a6e0bd9>\"\u001b[0;36m, line \u001b[0;32m4\u001b[0m\n\u001b[0;31m    print('B è maggiore di A') if b > a\u001b[0m\n\u001b[0m                                       ^\u001b[0m\n\u001b[0;31mSyntaxError\u001b[0m\u001b[0;31m:\u001b[0m invalid syntax\n"
     ]
    }
   ],
   "source": [
    "a = 1\n",
    "b = 2\n",
    "\n",
    "print('B è maggiore di A') if b > a"
   ]
  },
  {
   "cell_type": "markdown",
   "metadata": {},
   "source": [
    "In questo caso specifico possiamo scrivere l'espressione condizionale su una sola riga mettendo l'if prima dell'istruzione da eseguire, nel modo seguente:"
   ]
  },
  {
   "cell_type": "code",
   "execution_count": 33,
   "metadata": {},
   "outputs": [
    {
     "name": "stdout",
     "output_type": "stream",
     "text": [
      "B è maggiore di A\n"
     ]
    }
   ],
   "source": [
    "a = 1\n",
    "b = 2\n",
    "\n",
    "if b > a: print('B è maggiore di A')"
   ]
  },
  {
   "cell_type": "markdown",
   "metadata": {},
   "source": [
    "> **Nota personale**: non sono un grande fan delle espressioni su una sola riga, perché **a mio parere** rendono il codice meno leggibile. Tuttavia per operazioni molto semplici come quella scritta sopra è considerato dalla maggior parte degli utenti un modo compatto ed elegante di scrivere un'espressione condizionale. A voi la scelta!"
   ]
  },
  {
   "cell_type": "markdown",
   "metadata": {},
   "source": [
    "## **Esercizi**\n",
    "\n",
    "1. Prendere in input dall'utente un numero intero e stabilire se questo sia pari o dispari\n",
    "2. Prendere in input numeratore e denominatore di una frazione e stabilire se questa sia propria, impropria o apparente\n",
    "3. Prendere due numeri in input dall'utente, eseguirne la media e prenderne la parte intera. Stabilire se questa sia pari o dispari"
   ]
  },
  {
   "cell_type": "raw",
   "metadata": {},
   "source": [
    "..\n",
    "..\n",
    "..\n",
    "..\n",
    "..\n",
    "..\n",
    "..\n",
    "..\n",
    "..\n",
    "..\n",
    "..\n",
    "..\n",
    "..\n",
    "..\n",
    "..\n",
    "..\n",
    "..\n",
    "..\n",
    "..\n",
    "..\n",
    "..\n",
    "..\n",
    "..\n",
    "..\n",
    "..\n",
    "..\n",
    "..\n",
    ".."
   ]
  },
  {
   "cell_type": "markdown",
   "metadata": {},
   "source": [
    "## **Soluzioni**\n",
    "### Esericizio 1"
   ]
  },
  {
   "cell_type": "code",
   "execution_count": null,
   "metadata": {},
   "outputs": [],
   "source": [
    "n = int(input('Dammi un numero intero: '))\n",
    "print('Il numero è pari') if n % 2 == 0 else print('Il numero è dispari')"
   ]
  },
  {
   "cell_type": "markdown",
   "metadata": {},
   "source": [
    "### Esercizio 2"
   ]
  },
  {
   "cell_type": "code",
   "execution_count": null,
   "metadata": {},
   "outputs": [],
   "source": [
    "num = int(input('Numeratore: '))\n",
    "den = int(input('Denominatore: '))\n",
    "\n",
    "if num % den == 0:\n",
    "    print('La frazione è apparente')\n",
    "elif num < den:\n",
    "    print('La frazione è propria')\n",
    "else:\n",
    "    print('La frazione è impropria')"
   ]
  },
  {
   "cell_type": "markdown",
   "metadata": {},
   "source": [
    "### Esercizio 3"
   ]
  },
  {
   "cell_type": "code",
   "execution_count": null,
   "metadata": {},
   "outputs": [],
   "source": [
    "m = int(input('Dammi un numero: '))\n",
    "n = int(input('Dammi un altro numero: '))\n",
    "media = int((m + n) / 2)\n",
    "if media % 2 == 0:\n",
    "    print('La media è pari')\n",
    "else:\n",
    "    print('La media è dispari')"
   ]
  }
 ],
 "metadata": {
  "kernelspec": {
   "display_name": "Python 3 (ipykernel)",
   "language": "python",
   "name": "python3"
  },
  "language_info": {
   "codemirror_mode": {
    "name": "ipython",
    "version": 3
   },
   "file_extension": ".py",
   "mimetype": "text/x-python",
   "name": "python",
   "nbconvert_exporter": "python",
   "pygments_lexer": "ipython3",
   "version": "3.8.12"
  }
 },
 "nbformat": 4,
 "nbformat_minor": 4
}
