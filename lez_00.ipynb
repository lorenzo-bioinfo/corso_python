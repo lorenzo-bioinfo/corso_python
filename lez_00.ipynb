{
 "cells": [
  {
   "cell_type": "markdown",
   "metadata": {},
   "source": [
    "# **Benvenuti in python!**"
   ]
  },
  {
   "cell_type": "markdown",
   "metadata": {},
   "source": [
    "## **Le variabili**\n",
    "\n",
    "Python è un linguaggio a **tipizzazione dinamica**, questo significa che non è necessario specificare di volta in volta il tipo della variabile che si vuole definire/utilizzare.\n",
    "Questo ha un vantaggio e uno svantaggio:\n",
    "    \n",
    "- La sintassi è relativamente più semplice rispetto ad un linguaggio a tipizzazione statica (C, Java, ...)\n",
    "- L'interprete deve, ogni volta che vuole accedere ad una variabile, assicurarsi di quale sia il tipo della variabile,\n",
    "  con la conseguenza di un'esecuzione più lenta\n",
    "      \n"
   ]
  },
  {
   "cell_type": "markdown",
   "metadata": {},
   "source": [
    "Vediamo ora come utilizzare le variabili in python, iniziando con l'operazione di assegnazione di un valore a una variabile:"
   ]
  },
  {
   "cell_type": "code",
   "execution_count": 1,
   "metadata": {},
   "outputs": [],
   "source": [
    "intero = 1\n",
    "decimale = 1.5\n",
    "carattere = 'A'\n",
    "stringa = 'Python'"
   ]
  },
  {
   "cell_type": "markdown",
   "metadata": {},
   "source": [
    "Per definire una variabile ed assegnarle un valore è sufficiente utilizzare la sintassi di base: \n",
    "*nome_variabile = valore_variabile*"
   ]
  },
  {
   "cell_type": "markdown",
   "metadata": {},
   "source": [
    "Sebbene una variabile in python non sia \"costretta\" ad assumere uno ed un solo tipo di valore, in un dato momento all'interno del programma ciascuna variabile conterrà un valore di un certo tipo.\n",
    "\n",
    "È possibile conoscere il tipo di variabile che stiamo maneggiando con la funzione *type()*"
   ]
  },
  {
   "cell_type": "code",
   "execution_count": 2,
   "metadata": {},
   "outputs": [
    {
     "name": "stdout",
     "output_type": "stream",
     "text": [
      "<class 'int'>\n",
      "<class 'float'>\n",
      "<class 'str'>\n",
      "<class 'str'>\n"
     ]
    }
   ],
   "source": [
    "print(type(intero))\n",
    "print(type(decimale))\n",
    "print(type(carattere))\n",
    "print(type(stringa))"
   ]
  },
  {
   "cell_type": "markdown",
   "metadata": {},
   "source": [
    "Vediamo quindi come ***intero*** sia una variabile di tipo ***int***, ***decimale*** una variabile di tipo ***float*** e sia ***carattere*** che ***stringa*** siano due variabili di tipo ***str***\n",
    "\n",
    "Data la natura dinamica della tipizzazione in python, nulla ci impedisce di inizializzare una variabile con un tipo, e poi assegnarle un valore di un tipo totalmente diverso:"
   ]
  },
  {
   "cell_type": "code",
   "execution_count": 3,
   "metadata": {},
   "outputs": [
    {
     "name": "stdout",
     "output_type": "stream",
     "text": [
      "1 <class 'int'>\n",
      "Ciao <class 'str'>\n"
     ]
    }
   ],
   "source": [
    "numero = 1\n",
    "print(numero, type(numero))\n",
    "numero = 'Ciao'\n",
    "print(numero, type(numero))"
   ]
  },
  {
   "cell_type": "markdown",
   "metadata": {},
   "source": [
    "Notare come l'output della funzione *type()* parli di *class 'int'* e *class 'str'*.\n",
    "Vedremo il concetto di classi e programmazione ad oggetti più avanti.\n",
    "\n",
    "> **NOTA:** è buona norma scrivere i nomi delle variabili in lettere minuscole, separando eventuali parole con un underscore '_'. Inoltre è importante dare a queste dei nomi significativi, in modo da poter capire al volo a cosa servono.\n",
    "Nulla ci impedisce di chiamare tutte le variabili 'a', 'b', 'sergio' e 'pippo', ma la lettura del codice risulta più ostica in questo caso.\n",
    "\n",
    "Iniziamo ora ad esplorare i diversi tipi di variabile utilizzabili in python e alcune operazioni elementari che possono essere eseguite con e su di essi."
   ]
  },
  {
   "cell_type": "markdown",
   "metadata": {},
   "source": [
    "## **Stringhe**\n",
    "\n",
    "Le stringhe sono banalmente dei valori alfanumerici che possiamo identificare come testo.\n",
    "Una stringa è definita tra doppi apici (\"\") o singoli apici ('').\n",
    "Anche un singolo carattere è una stringa in python:"
   ]
  },
  {
   "cell_type": "code",
   "execution_count": 4,
   "metadata": {},
   "outputs": [],
   "source": [
    "stringa1 = 'Hello'\n",
    "stringa2 = \"World!\""
   ]
  },
  {
   "cell_type": "markdown",
   "metadata": {},
   "source": [
    "#### **Concatenazione**\n",
    "\n",
    "È possibile **concatenare** due stringhe con l'operatore '*+*':"
   ]
  },
  {
   "cell_type": "code",
   "execution_count": 5,
   "metadata": {},
   "outputs": [
    {
     "name": "stdout",
     "output_type": "stream",
     "text": [
      "HelloWorld!\n"
     ]
    }
   ],
   "source": [
    "stringa_concatenata = stringa1 + stringa2\n",
    "print(stringa_concatenata)"
   ]
  },
  {
   "cell_type": "markdown",
   "metadata": {},
   "source": [
    "E ovviamente è possibile concatenare anche più di due stringhe:"
   ]
  },
  {
   "cell_type": "code",
   "execution_count": 6,
   "metadata": {},
   "outputs": [
    {
     "name": "stdout",
     "output_type": "stream",
     "text": [
      "Hello World!!!!\n"
     ]
    }
   ],
   "source": [
    "stringa_lunga = stringa1 + ' ' + stringa2 + '!!!'\n",
    "print(stringa_lunga)"
   ]
  },
  {
   "cell_type": "markdown",
   "metadata": {},
   "source": [
    "Spesso ci interessa sapere quanto è lunga una stringa, ed è possibile ottenere questa informazione con la funzione *len()*:"
   ]
  },
  {
   "cell_type": "code",
   "execution_count": 7,
   "metadata": {},
   "outputs": [
    {
     "name": "stdout",
     "output_type": "stream",
     "text": [
      "11\n",
      "15\n"
     ]
    }
   ],
   "source": [
    "print(len(stringa_concatenata))\n",
    "print(len(stringa_lunga))"
   ]
  },
  {
   "cell_type": "markdown",
   "metadata": {},
   "source": [
    "La funzione *len()* prende in considerazione anche gli spazi.\n",
    "\n",
    "#### **Accesso con indici**\n",
    "\n",
    "Possiamo accedere al singolo elemento di una stringa utilizzando indici numerici tra parentesi quadre:"
   ]
  },
  {
   "cell_type": "code",
   "execution_count": 9,
   "metadata": {},
   "outputs": [
    {
     "name": "stdout",
     "output_type": "stream",
     "text": [
      "I\n",
      "n\n",
      "o\n",
      "o\n",
      "v\n"
     ]
    }
   ],
   "source": [
    "titolo = 'Il buono, il brutto e il cattivo'\n",
    "print(titolo[0]) #primo carattere\n",
    "print(titolo[6]) #settimo carattere\n",
    "print(titolo[len(titolo) - 1 ]) #ultimo carattere\n",
    "print(titolo[-1]) #ultimo carattere\n",
    "print(titolo[-2])"
   ]
  },
  {
   "cell_type": "markdown",
   "metadata": {},
   "source": [
    "Come vediamo dal codice, l'indicizzazione parte sempre da **zero**, ed arriva ad **n - 1** dove n è il numero di caratteri che compongono la stringa, spazi compresi.\n",
    "\n",
    "Possiamo anche accedere ad una *slice* o sottostringa definendo un range di caratteri che ci interessano. La sintassi di base per questa operazione è *nome_stringa\\[estremo_1:estremo_2\\]*:"
   ]
  },
  {
   "cell_type": "code",
   "execution_count": 10,
   "metadata": {},
   "outputs": [
    {
     "name": "stdout",
     "output_type": "stream",
     "text": [
      "buono\n",
      "Il buono, il \n",
      "buono, il brutto e il cattivo\n"
     ]
    }
   ],
   "source": [
    "print(titolo[3:8])\n",
    "print(titolo[:13])\n",
    "print(titolo[3:])"
   ]
  },
  {
   "cell_type": "markdown",
   "metadata": {},
   "source": [
    "Notiamo come l'estremo superiore venga ignorato:"
   ]
  },
  {
   "cell_type": "code",
   "execution_count": 11,
   "metadata": {},
   "outputs": [
    {
     "name": "stdout",
     "output_type": "stream",
     "text": [
      "buono\n",
      ",\n"
     ]
    }
   ],
   "source": [
    "print(titolo[3:8])\n",
    "print(titolo[8])"
   ]
  },
  {
   "cell_type": "markdown",
   "metadata": {},
   "source": [
    "Il carattere in posizione 8 sarebbe la virgola, ma il nostro range si ferma in posizione 7.\n",
    "Inoltre se non specifichiamo l'estremo inferiore, lo slice di stringa che otterremo inizierà dal primo carattere,\n",
    "se non specifichiamo l'estremo superiore invece, lo slice sarà dal carattere di partenza fino alla fine della stringa.\n",
    "\n",
    "> **Nota**: le stringhe sono un tipo di variabili definite *immutable*, e non possono essere modificate.\n",
    "Se una funzione modifica una stringa, in realtà ci sta ritornando una nuova variabile modificata.\n",
    "Infatti, se proviamo a modificare il carattere di una stringa otterremo un errore:"
   ]
  },
  {
   "cell_type": "code",
   "execution_count": 21,
   "metadata": {},
   "outputs": [
    {
     "ename": "TypeError",
     "evalue": "'str' object does not support item assignment",
     "output_type": "error",
     "traceback": [
      "\u001b[0;31m---------------------------------------------------------------------------\u001b[0m",
      "\u001b[0;31mTypeError\u001b[0m                                 Traceback (most recent call last)",
      "\u001b[0;32m<ipython-input-21-fd7445df4272>\u001b[0m in \u001b[0;36m<module>\u001b[0;34m\u001b[0m\n\u001b[1;32m      1\u001b[0m \u001b[0mstringa\u001b[0m \u001b[0;34m=\u001b[0m \u001b[0;34m'Ciao'\u001b[0m\u001b[0;34m\u001b[0m\u001b[0;34m\u001b[0m\u001b[0m\n\u001b[0;32m----> 2\u001b[0;31m \u001b[0mstringa\u001b[0m\u001b[0;34m[\u001b[0m\u001b[0;36m2\u001b[0m\u001b[0;34m]\u001b[0m \u001b[0;34m=\u001b[0m \u001b[0;34m'b'\u001b[0m\u001b[0;34m\u001b[0m\u001b[0;34m\u001b[0m\u001b[0m\n\u001b[0m",
      "\u001b[0;31mTypeError\u001b[0m: 'str' object does not support item assignment"
     ]
    }
   ],
   "source": [
    "stringa = 'Ciao'\n",
    "stringa[2] = 'b'"
   ]
  },
  {
   "cell_type": "markdown",
   "metadata": {},
   "source": [
    "### **Metodi generali per le stringhe**\n",
    "\n",
    "Sia *len()* che *print()* sono due **funzioni**.\n",
    "Quelli che vedremo ora invece sono **metodi**.\n",
    "La differenza la comprenderemo quando vedremo la programmazione ad oggetti, ma per ora basti sapere che le funzioni sono definite 'globalmente' mentre i metodi sono definiti sulle classi.\n",
    "Per il momento l'unica differenza che noteremo è nel modo in cui funzioni e metodi vengono chiamati:\n",
    "- **Sintassi funzione**: *nome_funzione(argomenti_funzione)*\n",
    "- **Sintassi metodi**: *nome_oggetto.nome_metodo(argomenti_metodo)*\n",
    "\n",
    "Nel nostro caso gli **oggetti** saranno **variabili che contengono stringhe**. Quindi apparterranno alla **classe 'Str'**\n",
    "\n",
    "### Modificare il *case* di una stringa\n",
    "\n",
    "Vediamo tre metodi per modificare il case di una stringa:\n",
    "- stringa.upper() : Rende maiuscoli tutti i caratteri della stringa;\n",
    "- stringa.lower() : Rende minuscoli tutti caratteri della stringa;\n",
    "- stringa.swapcase(): Trasforma le maiuscole in minuscole, e viceversa."
   ]
  },
  {
   "cell_type": "code",
   "execution_count": 22,
   "metadata": {},
   "outputs": [
    {
     "name": "stdout",
     "output_type": "stream",
     "text": [
      "Bella Ciao\n",
      "BELLA CIAO\n",
      "bella ciao\n",
      "bELLA cIAO\n"
     ]
    }
   ],
   "source": [
    "my_string = 'Bella Ciao'\n",
    "print(my_string)\n",
    "print(my_string.upper())\n",
    "print(my_string.lower())\n",
    "print(my_string.swapcase())"
   ]
  },
  {
   "cell_type": "markdown",
   "metadata": {},
   "source": [
    "### Caratteri di formattazione e metodo strip()\n",
    "\n",
    "Alcuni caratteri speciali ci consentono di dare un minimo di formattazione ad una stringa. Quelli che vedremo sono **\\n** o carattere di **new line**, necessario per andare a capo, e **\\t** o carattere di tabulazione, che inserisce un numero predeterminato di spazi ed è importante per stampare tabelle in modo ordinato:"
   ]
  },
  {
   "cell_type": "code",
   "execution_count": 23,
   "metadata": {},
   "outputs": [
    {
     "name": "stdout",
     "output_type": "stream",
     "text": [
      "Stringa originale:\n",
      "Ciao, mi chiamo Lorenzo\n",
      "Stringa con carattere \\n\n",
      "Ciao,\n",
      "mi chiamo Lorenzo\n"
     ]
    }
   ],
   "source": [
    "print('Stringa originale:')\n",
    "print('Ciao, mi chiamo Lorenzo')\n",
    "print('Stringa con carattere \\\\n')\n",
    "print('Ciao,\\nmi chiamo Lorenzo')"
   ]
  },
  {
   "cell_type": "code",
   "execution_count": 26,
   "metadata": {},
   "outputs": [
    {
     "name": "stdout",
     "output_type": "stream",
     "text": [
      "Numeri non tabulati:\n",
      "1 44 150 93 1101\n",
      "49 193 19383 18 1945\n",
      "Numeri tabulati con \\t\n",
      "1\t44\t150\t93\t1101\n",
      "49\t193\t19383\t18\t1945\n"
     ]
    }
   ],
   "source": [
    "print('Numeri non tabulati:')\n",
    "print('1 44 150 93 1101\\n49 193 19383 18 1945')\n",
    "print('Numeri tabulati con \\\\t')\n",
    "print('1\\t44\\t150\\t93\\t1101\\n49\\t193\\t19383\\t18\\t1945')"
   ]
  },
  {
   "cell_type": "markdown",
   "metadata": {},
   "source": [
    "Notare come sia possibile utilizzare il carattere di **escape** '\\\\', per stampare un carattere speciale senza che venga interpretato da *print()*\n",
    "\n",
    "Quando leggiamo del testo in input da un file, capita che la formattazione preveda dei caratteri speciali all'inizio o alla fine di una riga, e questi possono rappresentare un problema in base al tipo di operazione che vogliamo svolgere su quel testo. Il metodo *strip()* ci consente di rimuovere questi caratteri di formattazione **dall'inizio e dalla fine** una stringa:"
   ]
  },
  {
   "cell_type": "code",
   "execution_count": 28,
   "metadata": {},
   "outputs": [
    {
     "name": "stdout",
     "output_type": "stream",
     "text": [
      "Prima di strip()\n",
      "\n",
      "\n",
      "Hello\n",
      "\t\n",
      "\n",
      "Dopo strip()\n",
      "Hello\n"
     ]
    }
   ],
   "source": [
    "mystring = '\\n\\nHello\\n\\t\\n'\n",
    "print('Prima di strip()')\n",
    "print(mystring)\n",
    "print('Dopo strip()')\n",
    "print(mystring.strip())"
   ]
  },
  {
   "cell_type": "markdown",
   "metadata": {},
   "source": [
    "### Cercare e contare occorrenze in una stringa\n",
    "\n",
    "I metodi *count()* e *find()* ci consentono rispettivamente di contare le occorrenze di un carattere o di una sottostringa e di trovare una parola o un carattere all'interno di una stringa:"
   ]
  },
  {
   "cell_type": "code",
   "execution_count": 34,
   "metadata": {},
   "outputs": [
    {
     "name": "stdout",
     "output_type": "stream",
     "text": [
      "Sto contando le \"i\"\n",
      "1\n",
      "Sto contando le \"I\"\n",
      "1\n",
      "Sto contando le \"o\"\n",
      "3\n"
     ]
    }
   ],
   "source": [
    "stringa = 'Io sono Albus Silente'\n",
    "print('Sto contando le \"i\"')\n",
    "print(stringa.count('i'))\n",
    "print('Sto contando le \"I\"')\n",
    "print(stringa.count('I'))\n",
    "print('Sto contando le \"o\"')\n",
    "print(stringa.count('o'))"
   ]
  },
  {
   "cell_type": "code",
   "execution_count": 30,
   "metadata": {},
   "outputs": [
    {
     "data": {
      "text/plain": [
       "8"
      ]
     },
     "execution_count": 30,
     "metadata": {},
     "output_type": "execute_result"
    }
   ],
   "source": [
    "stringa.find('Albus')"
   ]
  },
  {
   "cell_type": "markdown",
   "metadata": {},
   "source": [
    "Il metodo find() restituisce l'indice del primo carattere dell'occorrenza trovata"
   ]
  },
  {
   "cell_type": "code",
   "execution_count": 35,
   "metadata": {},
   "outputs": [
    {
     "name": "stdout",
     "output_type": "stream",
     "text": [
      "A\n"
     ]
    }
   ],
   "source": [
    "print(stringa[stringa.find('Albus')])"
   ]
  },
  {
   "cell_type": "markdown",
   "metadata": {},
   "source": [
    "### Convertire una variabile in una stringa\n",
    "\n",
    "Se cerchiamo di concatenare una stringa con una variabile non-stringa (come ad esempio un intero), andremo incontro ad un errore (TypeError): "
   ]
  },
  {
   "cell_type": "code",
   "execution_count": 38,
   "metadata": {},
   "outputs": [
    {
     "ename": "TypeError",
     "evalue": "can only concatenate str (not \"int\") to str",
     "output_type": "error",
     "traceback": [
      "\u001b[0;31m---------------------------------------------------------------------------\u001b[0m",
      "\u001b[0;31mTypeError\u001b[0m                                 Traceback (most recent call last)",
      "\u001b[0;32m<ipython-input-38-8d145988cd00>\u001b[0m in \u001b[0;36m<module>\u001b[0;34m\u001b[0m\n\u001b[0;32m----> 1\u001b[0;31m \u001b[0mprint\u001b[0m\u001b[0;34m(\u001b[0m\u001b[0;34m'Abito in via Rossi numero '\u001b[0m \u001b[0;34m+\u001b[0m \u001b[0;36m23\u001b[0m\u001b[0;34m)\u001b[0m\u001b[0;34m\u001b[0m\u001b[0;34m\u001b[0m\u001b[0m\n\u001b[0m",
      "\u001b[0;31mTypeError\u001b[0m: can only concatenate str (not \"int\") to str"
     ]
    }
   ],
   "source": [
    "print('Abito in via Rossi numero ' + 23)"
   ]
  },
  {
   "cell_type": "markdown",
   "metadata": {},
   "source": [
    "Questo perché in generale non è possibile combinare due variabili di tipo diverso.\n",
    "Tuttavia la funzione *str()* ci consente di convertire un intero e altri tipi di variabili in una stringa:"
   ]
  },
  {
   "cell_type": "code",
   "execution_count": 39,
   "metadata": {},
   "outputs": [
    {
     "name": "stdout",
     "output_type": "stream",
     "text": [
      "La risposta alla vita, all'universo e a tutto quanto è 42\n",
      "La risposta alla vita, all'universo e a tutto quanto è 42\n",
      "<class 'int'>\n",
      "<class 'str'>\n"
     ]
    }
   ],
   "source": [
    "numero = 42\n",
    "stringa_numerica = str(numero)\n",
    "print('La risposta alla vita, all\\'universo e a tutto quanto è ' + str(numero))\n",
    "print('La risposta alla vita, all\\'universo e a tutto quanto è ' + stringa_numerica)\n",
    "print(type(numero))\n",
    "print(type(stringa_numerica))"
   ]
  },
  {
   "cell_type": "markdown",
   "metadata": {},
   "source": [
    "### Il metodo format()\n",
    "\n",
    "Con il metodo *format()* è possibile creare un \"modello\" di stringa per poi riempirlo con dei valori.\n",
    "Vengono lasciati degli spazi vuoti, delimitati da parentesi graffe { }, che poi il metodo riempirà con le variabili che gli passeremo:"
   ]
  },
  {
   "cell_type": "code",
   "execution_count": 40,
   "metadata": {},
   "outputs": [
    {
     "name": "stdout",
     "output_type": "stream",
     "text": [
      "Mario Rossi abita in via Bianchi numero 23\n"
     ]
    }
   ],
   "source": [
    "modello = '{} abita in via {} numero {}'\n",
    "nome = 'Mario Rossi'\n",
    "via = 'Bianchi'\n",
    "civico = 23\n",
    "\n",
    "print(modello.format(nome, via, civico))"
   ]
  },
  {
   "cell_type": "markdown",
   "metadata": {},
   "source": [
    "È anche possibile specificare un nome per la variabile che inseriremo tra le parentesi graffe\n",
    ">NOTA: il nome della variabile inserita tra parentesi graffe non deve necessariamente coincidere con il nome della variabile che passeremo al metodo format(). L'esempio che segue dovrebbe chiarire questo aspetto"
   ]
  },
  {
   "cell_type": "code",
   "execution_count": 42,
   "metadata": {},
   "outputs": [
    {
     "name": "stdout",
     "output_type": "stream",
     "text": [
      "Il Gatto ha 4 zampe\n",
      "Il Ragno ha 8 zampe\n"
     ]
    }
   ],
   "source": [
    "modello2 = 'Il {animal} ha {number} zampe'\n",
    "animale = 'Gatto'\n",
    "zampe = 4\n",
    "animale2 = 'Ragno'\n",
    "zampe2 = 8\n",
    "\n",
    "print(modello2.format(number = zampe, animal = animale))\n",
    "print(modello2.format(animal = animale2, number = zampe2))"
   ]
  },
  {
   "cell_type": "markdown",
   "metadata": {},
   "source": [
    "### Prendere una stringa in input\n",
    "\n",
    "Possiamo chiedere una stringa all'utente utilizzando la funzione *input()*.\n",
    "Questa funzione prende come argomento una stringa, che verrà stampata e mostrata all'utente per chiedergli cosa inserire.\n",
    "Anche se l'utente digitasse dei numeri, questi saranno processati come se fossero una stringa."
   ]
  },
  {
   "cell_type": "code",
   "execution_count": 51,
   "metadata": {},
   "outputs": [
    {
     "name": "stdin",
     "output_type": "stream",
     "text": [
      "Inserisci il tuo numero di telefono:  2313\n"
     ]
    },
    {
     "name": "stdout",
     "output_type": "stream",
     "text": [
      "Il numero inserito è: 2313\n"
     ]
    }
   ],
   "source": [
    "cell = input('Inserisci il tuo numero di telefono: ')\n",
    "print('Il numero inserito è: {}'.format(cell))"
   ]
  },
  {
   "cell_type": "markdown",
   "metadata": {},
   "source": [
    "### Split() e Join()\n",
    "\n",
    "*split()* e *join()* ci consentono di passare da una stringa ad una lista (vettore in python) e viceversa.\n",
    "Il metodo *split()* si applica ad una stringa e \"taglia\" in corrispondenza del carattere fornito come argomento:"
   ]
  },
  {
   "cell_type": "code",
   "execution_count": 60,
   "metadata": {},
   "outputs": [
    {
     "name": "stdout",
     "output_type": "stream",
     "text": [
      "['Cane', 'Gatto', 'Topo']\n",
      "<class 'list'>\n"
     ]
    }
   ],
   "source": [
    "stringa = ('Cane,Gatto,Topo')\n",
    "lista = stringa.split(',')\n",
    "print(lista)\n",
    "print(type(lista))"
   ]
  },
  {
   "cell_type": "markdown",
   "metadata": {},
   "source": [
    "Il metodo *join()* invece ci permette di creare una stringa contenente tutti gli elementi di una lista, separati da un carattere al quale applichiamo il metodo, mentre la lista da unire viene passata come argomento:"
   ]
  },
  {
   "cell_type": "code",
   "execution_count": 56,
   "metadata": {},
   "outputs": [
    {
     "name": "stdout",
     "output_type": "stream",
     "text": [
      "Giallo,Verde,Azzurro\n",
      "<class 'str'>\n"
     ]
    }
   ],
   "source": [
    "lista = ['Giallo', 'Verde', 'Azzurro']\n",
    "stringa = ','.join(lista)\n",
    "print(stringa)\n",
    "print(type(stringa))"
   ]
  },
  {
   "cell_type": "markdown",
   "metadata": {},
   "source": [
    "## *Esercizi*"
   ]
  },
  {
   "cell_type": "markdown",
   "metadata": {},
   "source": [
    "Per risolvere alcuni di questi esercizi sarà necessario un po' di Google-Fu, in quanto non tutti i metodi o le funzioni necessari a risolverli sono stati presentati durante la lezione.\n",
    "\n",
    "1. Definire una stringa con parole separate da virgole e non da spazi, per poi sostituire le virgole con gli spazi IN UN SOLO PASSAGGIO. Cercare online il metodo o la funzione più appropriata per farlo\n",
    "> **NOTA:** si impara più dai fallimenti che dai successi\n",
    "2. Chiedere due stringhe in input all'utente, concatenarle e poi stampare la lunghezza della stringa risultante.\n",
    "\n",
    "3. Creare un modello da riempire successivamente con delle informazioni, chiedere le informazioni all'utente, riempire il modello e stamparlo."
   ]
  },
  {
   "cell_type": "markdown",
   "metadata": {},
   "source": [
    "### Soluzioni\n",
    "..\n",
    "\n",
    "..\n",
    "\n",
    "..\n",
    "\n",
    "..\n",
    "\n",
    "..\n",
    "\n",
    "..\n",
    "\n",
    "..\n",
    "\n",
    "..\n",
    "\n",
    "..\n",
    "\n",
    "..\n",
    "\n",
    "..\n",
    "\n",
    "..\n",
    "\n",
    "..\n",
    "\n",
    "..\n",
    "\n",
    "..\n",
    "\n",
    "..\n",
    "\n",
    "..\n",
    "\n",
    "..\n",
    "\n",
    "..\n",
    "\n",
    "..\n",
    "\n",
    "..\n",
    "\n",
    "..\n",
    "\n",
    "..\n",
    "\n",
    "## Esercizio 1:"
   ]
  },
  {
   "cell_type": "code",
   "execution_count": 63,
   "metadata": {},
   "outputs": [
    {
     "name": "stdout",
     "output_type": "stream",
     "text": [
      "Ciao mi chiamo Lorenzo\n"
     ]
    }
   ],
   "source": [
    "stringa = 'Ciao,mi,chiamo,Lorenzo'\n",
    "stringa_ok = stringa.replace(',', ' ')\n",
    "print(stringa_ok)"
   ]
  },
  {
   "cell_type": "markdown",
   "metadata": {},
   "source": [
    "## Esercizio 2"
   ]
  },
  {
   "cell_type": "code",
   "execution_count": 64,
   "metadata": {},
   "outputs": [
    {
     "name": "stdin",
     "output_type": "stream",
     "text": [
      "Dammi una stringa:  ciao\n",
      "Dammi un'altra stringa:  belli\n"
     ]
    },
    {
     "name": "stdout",
     "output_type": "stream",
     "text": [
      "ciaobelli 9\n"
     ]
    }
   ],
   "source": [
    "s1 = input('Dammi una stringa: ')\n",
    "s2 = input('Dammi un\\'altra stringa: ')\n",
    "s3 = s1 + s2\n",
    "print(s3, len(s3))"
   ]
  },
  {
   "cell_type": "markdown",
   "metadata": {},
   "source": [
    "## Esercizio 3"
   ]
  },
  {
   "cell_type": "code",
   "execution_count": 65,
   "metadata": {},
   "outputs": [
    {
     "name": "stdin",
     "output_type": "stream",
     "text": [
      "Inserire la Ragione sociale dell'azienda:  lollo spa\n",
      "Inserire la partita IVA 192819\n"
     ]
    },
    {
     "name": "stdout",
     "output_type": "stream",
     "text": [
      "Ragione sociale: lollo spa\n",
      "con Partita IVA No: 192819\n"
     ]
    }
   ],
   "source": [
    "modello = 'Ragione sociale: {}\\ncon Partita IVA No: {}'\n",
    "rs = input('Inserire la Ragione sociale dell\\'azienda: ')\n",
    "pi = input('Inserire la partita IVA')\n",
    "print(modello.format(rs, pi))"
   ]
  }
 ],
 "metadata": {
  "kernelspec": {
   "display_name": "Python 3 (ipykernel)",
   "language": "python",
   "name": "python3"
  },
  "language_info": {
   "codemirror_mode": {
    "name": "ipython",
    "version": 3
   },
   "file_extension": ".py",
   "mimetype": "text/x-python",
   "name": "python",
   "nbconvert_exporter": "python",
   "pygments_lexer": "ipython3",
   "version": "3.8.12"
  }
 },
 "nbformat": 4,
 "nbformat_minor": 4
}
